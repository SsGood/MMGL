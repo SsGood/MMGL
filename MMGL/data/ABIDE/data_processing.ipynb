{
 "cells": [
  {
   "cell_type": "code",
   "execution_count": 1,
   "metadata": {},
   "outputs": [],
   "source": [
    "import os\n",
    "import pickle\n",
    "import numpy as np\n",
    "import pandas as pd\n",
    "# from emvert_functional_code import emvert_ml\n",
    "from scipy.sparse import csgraph\n",
    "import csv\n",
    "import shutil\n",
    "\n",
    "import argparse\n",
    "import os\n",
    "import pickle\n",
    "import random\n",
    "import sys\n",
    "import tempfile\n",
    "import time\n",
    "\n",
    "import gc\n",
    "import matplotlib.cm\n",
    "import networkx as nx\n",
    "import numpy as np\n",
    "import scipy.sparse as spsprs\n",
    "import torch\n",
    "import torch.autograd\n",
    "import torch.nn as nn\n",
    "import torch.nn.functional as F\n",
    "import torch.optim as optim\n",
    "\n",
    "import os\n",
    "import csv\n",
    "import numpy as np\n",
    "import scipy.io as sio\n",
    "\n",
    "from sklearn.linear_model import RidgeClassifier\n",
    "from sklearn.feature_selection import RFE\n",
    "from nilearn import connectome\n",
    "from collections import Counter\n",
    "from nilearn import datasets\n",
    "import matplotlib.pyplot as plt"
   ]
  },
  {
   "cell_type": "code",
   "execution_count": 2,
   "metadata": {},
   "outputs": [],
   "source": [
    "pipeline = 'cpac'\n",
    "\n",
    "# Input data variables\n",
    "root_folder = '/data/zfzhu/zs/MMGL/miccai_ABIDE/data'\n",
    "data_folder = os.path.join(root_folder, 'ABIDE_pcp/cpac/filt_noglobal')\n",
    "phenotype = os.path.join(root_folder, 'ABIDE_pcp/Phenotypic_V1_0b_preprocessed1.csv')\n",
    "#phenotype = os.path.join(root_folder, 'TADPOLE/processed_standard_data.csv')\n",
    "def fetch_filenames(subject_IDs, file_type):\n",
    "\n",
    "    \"\"\"\n",
    "        subject_list : list of short subject IDs in string format\n",
    "        file_type    : must be one of the available file types\n",
    "    returns:\n",
    "        filenames    : list of filetypes (same length as subject_list)\n",
    "    \"\"\"\n",
    "\n",
    "    import glob\n",
    "\n",
    "    # Specify file mappings for the possible file types\n",
    "    filemapping = {'func_preproc': '_func_preproc.nii.gz',\n",
    "                   'rois_ho': '_rois_ho.1D'}\n",
    "\n",
    "    # The list to be filled\n",
    "    filenames = []\n",
    "\n",
    "    # Fill list with requested file paths\n",
    "    for i in range(len(subject_IDs)):\n",
    "        \n",
    "        os.chdir(os.path.join(data_folder, subject_IDs[i]))  # os.path.join(data_folder, subject_IDs[i]))\n",
    "        try:\n",
    "            filenames.append(glob.glob('*' + subject_IDs[i] + filemapping[file_type])[0])\n",
    "        except IndexError:\n",
    "            # Return N/A if subject ID is not found\n",
    "            filenames.append('N/A')\n",
    "\n",
    "    return filenames\n",
    "\n",
    "\n",
    "# Get timeseries arrays for list of subjects\n",
    "def get_timeseries(subject_list, atlas_name):\n",
    "    \"\"\"\n",
    "        subject_list : list of short subject IDs in string format\n",
    "        atlas_name   : the atlas based on which the timeseries are generated e.g. aal, cc200\n",
    "    returns:\n",
    "        time_series  : list of timeseries arrays, each of shape (timepoints x regions)\n",
    "    \"\"\"\n",
    "\n",
    "    timeseries = []\n",
    "    for i in range(len(subject_list)):\n",
    "        subject_folder = os.path.join(data_folder, subject_list[i])\n",
    "        ro_file = [f for f in os.listdir(subject_folder) if f.endswith('_rois_' + atlas_name + '.1D')]\n",
    "        fl = os.path.join(subject_folder, ro_file[0])\n",
    "        print(\"Reading timeseries file %s\" %fl)\n",
    "        timeseries.append(np.loadtxt(fl, skiprows=0))\n",
    "\n",
    "    return timeseries\n",
    "\n",
    "\n",
    "# Compute connectivity matrices\n",
    "def subject_connectivity(timeseries, subject, atlas_name, kind, save=True, save_path=data_folder):\n",
    "    \"\"\"\n",
    "        timeseries   : timeseries table for subject (timepoints x regions)\n",
    "        subject      : the subject ID\n",
    "        atlas_name   : name of the parcellation atlas used\n",
    "        kind         : the kind of connectivity to be used, e.g. lasso, partial correlation, correlation\n",
    "        save         : save the connectivity matrix to a file\n",
    "        save_path    : specify path to save the matrix if different from subject folder\n",
    "    returns:\n",
    "        connectivity : connectivity matrix (regions x regions)\n",
    "    \"\"\"\n",
    "\n",
    "    print(\"Estimating %s matrix for subject %s\" % (kind, subject))\n",
    "\n",
    "    if kind in ['tangent', 'partial correlation', 'correlation']:\n",
    "        conn_measure = connectome.ConnectivityMeasure(kind=kind)\n",
    "        connectivity = conn_measure.fit_transform([timeseries])[0]\n",
    "\n",
    "    if save:\n",
    "        subject_file = os.path.join(save_path, subject,\n",
    "                                    subject + '_' + atlas_name + '_' + kind.replace(' ', '_') + '.mat')\n",
    "        sio.savemat(subject_file, {'connectivity': connectivity})\n",
    "\n",
    "    return connectivity\n",
    "\n",
    "\n",
    "# Get the list of subject IDs\n",
    "def get_ids(num_subjects=None):\n",
    "    \"\"\"\n",
    "    return:\n",
    "        subject_IDs    : list of all subject IDs\n",
    "    \"\"\"\n",
    "\n",
    "    subject_IDs = np.genfromtxt(os.path.join(data_folder, 'subject_IDs.txt'), dtype=str)\n",
    "\n",
    "    if num_subjects is not None:\n",
    "        subject_IDs = subject_IDs[:num_subjects]\n",
    "\n",
    "    return subject_IDs\n",
    "\n",
    "\n",
    "# Get phenotype values for a list of subjects\n",
    "def get_subject_score(subject_list, score):\n",
    "    scores_dict = {}\n",
    "\n",
    "    with open(phenotype) as csv_file:\n",
    "        reader = csv.DictReader(csv_file)\n",
    "        for row in reader:\n",
    "            if row['SUB_ID'] in subject_list:\n",
    "                scores_dict[row['SUB_ID']] = row[score]\n",
    "\n",
    "    return scores_dict\n",
    "\n",
    "\n",
    "# Dimensionality reduction step for the feature vector using a ridge classifier\n",
    "def feature_selection(matrix, labels, train_ind, fnum):\n",
    "    \"\"\"\n",
    "        matrix       : feature matrix (num_subjects x num_features)\n",
    "        labels       : ground truth labels (num_subjects x 1)\n",
    "        train_ind    : indices of the training samples\n",
    "        fnum         : size of the feature vector after feature selection\n",
    "    return:\n",
    "        x_data      : feature matrix of lower dimension (num_subjects x fnum)\n",
    "    \"\"\"\n",
    "\n",
    "    estimator = RidgeClassifier()\n",
    "    selector = RFE(estimator, fnum, step=100, verbose=1)\n",
    "    print(np.shape(train_ind))\n",
    "    print(train_ind)\n",
    "    print(\"at ferature selection\")\n",
    "\n",
    "    featureX = matrix[train_ind, :]\n",
    "    featureY = labels[train_ind]\n",
    "    selector = selector.fit(featureX, featureY.ravel())\n",
    "    x_data = selector.transform(matrix)\n",
    "\n",
    "    print(\"Number of labeled samples %d\" % len(train_ind))\n",
    "    print(\"Number of features selected %d\" % x_data.shape[1])\n",
    "\n",
    "    return x_data\n",
    "\n",
    "\n",
    "# Make sure each site is represented in the training set when selecting a subset of the training set\n",
    "def site_percentage(train_ind, perc, subject_list):\n",
    "    \"\"\"\n",
    "        train_ind    : indices of the training samples\n",
    "        perc         : percentage of training set used\n",
    "        subject_list : list of subject IDs\n",
    "    return:\n",
    "        labeled_indices      : indices of the subset of training samples\n",
    "    \"\"\"\n",
    "\n",
    "    train_list = subject_list[train_ind]\n",
    "    sites = get_subject_score(train_list, score='SITE_ID')\n",
    "    unique = np.unique(list(sites.values())).tolist()\n",
    "    site = np.array([unique.index(sites[train_list[x]]) for x in range(len(train_list))])\n",
    "\n",
    "    labeled_indices = []\n",
    "\n",
    "    for i in np.unique(site):\n",
    "        id_in_site = np.argwhere(site == i).flatten()\n",
    "\n",
    "        num_nodes = len(id_in_site)\n",
    "        labeled_num = int(round(perc * num_nodes))\n",
    "        labeled_indices.extend(train_ind[id_in_site[:labeled_num]])\n",
    "\n",
    "    return labeled_indices\n",
    "\n",
    "def feature_selection(matrix, labels, train_ind, fnum):\n",
    "    \"\"\"\n",
    "        matrix       : feature matrix (num_subjects x num_features)\n",
    "        labels       : ground truth labels (num_subjects x 1)\n",
    "        train_ind    : indices of the training samples\n",
    "        fnum         : size of the feature vector after feature selection\n",
    "    return:\n",
    "        x_data      : feature matrix of lower dimension (num_subjects x fnum)\n",
    "    \"\"\"\n",
    "\n",
    "    estimator = RidgeClassifier()\n",
    "    selector = RFE(estimator, fnum, step=100, verbose=1)\n",
    "\n",
    "    featureX = matrix[train_ind, :]\n",
    "    featureY = labels[train_ind]\n",
    "    selector = selector.fit(featureX, featureY.ravel())\n",
    "    x_data = selector.transform(matrix)\n",
    "\n",
    "    print(\"Number of labeled samples %d\" % len(train_ind))\n",
    "    print(\"Number of features selected %d\" % x_data.shape[1])\n",
    "\n",
    "    return x_data\n",
    "\n",
    "# Load precomputed fMRI connectivity networks\n",
    "def get_networks(subject_list, kind, atlas_name=\"aal\", variable='connectivity'):\n",
    "    \"\"\"\n",
    "        subject_list : list of subject IDs\n",
    "        kind         : the kind of connectivity to be used, e.g. lasso, partial correlation, correlation\n",
    "        atlas_name   : name of the parcellation atlas used\n",
    "        variable     : variable name in the .mat file that has been used to save the precomputed networks\n",
    "    return:\n",
    "        matrix      : feature matrix of connectivity networks (num_subjects x network_size)\n",
    "    \"\"\"\n",
    "\n",
    "    all_networks = []\n",
    "    for subject in subject_list:\n",
    "        fl = os.path.join(data_folder, subject,\n",
    "                          subject + \"_\" + atlas_name + \"_\" + kind + \".mat\")\n",
    "        matrix = sio.loadmat(fl)[variable]\n",
    "        all_networks.append(matrix)\n",
    "    # all_networks=np.array(all_networks)\n",
    "\n",
    "    idx = np.triu_indices_from(all_networks[0], 1)\n",
    "    norm_networks = [np.arctanh(mat) for mat in all_networks]\n",
    "    vec_networks = [mat[idx] for mat in norm_networks]\n",
    "    matrix = np.vstack(vec_networks)\n",
    "\n",
    "    return matrix\n",
    "\n",
    "def create_affinity_graph_from_scores(scores, subject_list):\n",
    "    \"\"\"\n",
    "        scores       : list of phenotypic information to be used to construct the affinity graph\n",
    "        subject_list : list of subject IDs\n",
    "\n",
    "    return:\n",
    "        graph        : adjacency matrix of the population graph (num_subjects x num_subjects)\n",
    "    \"\"\"\n",
    "\n",
    "    num_nodes = len(subject_list)\n",
    "    graph = np.zeros((num_nodes, num_nodes))\n",
    "\n",
    "    for l in scores:\n",
    "        label_dict = get_subject_score(subject_list, l)\n",
    "\n",
    "        # quantitative phenotypic scores\n",
    "        if l in ['AGE_AT_SCAN', 'FIQ']:\n",
    "            for k in range(num_nodes):\n",
    "                for j in range(k + 1, num_nodes):\n",
    "                    try:\n",
    "                        val = abs(float(label_dict[subject_list[k]]) - float(label_dict[subject_list[j]]))\n",
    "                        if val < 2:\n",
    "                            graph[k, j] += 1\n",
    "                            graph[j, k] += 1\n",
    "                    except ValueError:  # missing label\n",
    "                        pass\n",
    "\n",
    "        else:\n",
    "            for k in range(num_nodes):\n",
    "                for j in range(k + 1, num_nodes):\n",
    "                    if label_dict[subject_list[k]] == label_dict[subject_list[j]]:\n",
    "                        graph[k, j] += 1\n",
    "                        graph[j, k] += 1\n",
    "\n",
    "    return graph"
   ]
  },
  {
   "cell_type": "code",
   "execution_count": 3,
   "metadata": {},
   "outputs": [
    {
     "data": {
      "text/plain": [
       "'/data/zfzhu/zs/MMGL/miccai_ABIDE/data/ABIDE_pcp/cpac/filt_noglobal/subject_IDs.txt'"
      ]
     },
     "execution_count": 3,
     "metadata": {},
     "output_type": "execute_result"
    }
   ],
   "source": [
    "files = ['rois_ho']\n",
    "num_subjects = 871\n",
    "filemapping = {'func_preproc': 'func_preproc.nii.gz',\n",
    "               'rois_ho': 'rois_ho.1D'}\n",
    "\n",
    "if not os.path.exists(data_folder): os.makedirs(data_folder)\n",
    "shutil.copyfile('./subject_IDs.txt', os.path.join(data_folder, 'subject_IDs.txt'))"
   ]
  },
  {
   "cell_type": "code",
   "execution_count": 20,
   "metadata": {
    "collapsed": true,
    "jupyter": {
     "outputs_hidden": true
    }
   },
   "outputs": [
    {
     "name": "stdout",
     "output_type": "stream",
     "text": [
      "Downloading data from https://s3.amazonaws.com/fcp-indi/data/Projects/ABIDE_Initiative/Outputs/cpac/filt_noglobal/rois_ho/UCLA_1_0051237_rois_ho.1D ...\n"
     ]
    },
    {
     "name": "stderr",
     "output_type": "stream",
     "text": [
      " ...done. (1 seconds, 0 min)\n"
     ]
    },
    {
     "name": "stdout",
     "output_type": "stream",
     "text": [
      "Downloading data from https://s3.amazonaws.com/fcp-indi/data/Projects/ABIDE_Initiative/Outputs/cpac/filt_noglobal/rois_ho/UCLA_1_0051239_rois_ho.1D ...\n"
     ]
    },
    {
     "name": "stderr",
     "output_type": "stream",
     "text": [
      " ...done. (2 seconds, 0 min)\n"
     ]
    },
    {
     "name": "stdout",
     "output_type": "stream",
     "text": [
      "Downloading data from https://s3.amazonaws.com/fcp-indi/data/Projects/ABIDE_Initiative/Outputs/cpac/filt_noglobal/rois_ho/UCLA_1_0051240_rois_ho.1D ...\n"
     ]
    },
    {
     "name": "stderr",
     "output_type": "stream",
     "text": [
      " ...done. (2 seconds, 0 min)\n"
     ]
    },
    {
     "name": "stdout",
     "output_type": "stream",
     "text": [
      "Downloading data from https://s3.amazonaws.com/fcp-indi/data/Projects/ABIDE_Initiative/Outputs/cpac/filt_noglobal/rois_ho/UCLA_1_0051241_rois_ho.1D ...\n"
     ]
    },
    {
     "name": "stderr",
     "output_type": "stream",
     "text": [
      " ...done. (1 seconds, 0 min)\n"
     ]
    },
    {
     "name": "stdout",
     "output_type": "stream",
     "text": [
      "Downloading data from https://s3.amazonaws.com/fcp-indi/data/Projects/ABIDE_Initiative/Outputs/cpac/filt_noglobal/rois_ho/UCLA_1_0051248_rois_ho.1D ...\n"
     ]
    },
    {
     "name": "stderr",
     "output_type": "stream",
     "text": [
      " ...done. (2 seconds, 0 min)\n"
     ]
    },
    {
     "name": "stdout",
     "output_type": "stream",
     "text": [
      "Downloading data from https://s3.amazonaws.com/fcp-indi/data/Projects/ABIDE_Initiative/Outputs/cpac/filt_noglobal/rois_ho/UCLA_1_0051249_rois_ho.1D ...\n"
     ]
    },
    {
     "name": "stderr",
     "output_type": "stream",
     "text": [
      " ...done. (1 seconds, 0 min)\n"
     ]
    },
    {
     "name": "stdout",
     "output_type": "stream",
     "text": [
      "Downloading data from https://s3.amazonaws.com/fcp-indi/data/Projects/ABIDE_Initiative/Outputs/cpac/filt_noglobal/rois_ho/UCLA_1_0051250_rois_ho.1D ...\n"
     ]
    },
    {
     "name": "stderr",
     "output_type": "stream",
     "text": [
      " ...done. (2 seconds, 0 min)\n"
     ]
    },
    {
     "name": "stdout",
     "output_type": "stream",
     "text": [
      "Downloading data from https://s3.amazonaws.com/fcp-indi/data/Projects/ABIDE_Initiative/Outputs/cpac/filt_noglobal/rois_ho/UCLA_1_0051251_rois_ho.1D ...\n"
     ]
    },
    {
     "name": "stderr",
     "output_type": "stream",
     "text": [
      " ...done. (2 seconds, 0 min)\n"
     ]
    },
    {
     "name": "stdout",
     "output_type": "stream",
     "text": [
      "Downloading data from https://s3.amazonaws.com/fcp-indi/data/Projects/ABIDE_Initiative/Outputs/cpac/filt_noglobal/rois_ho/UCLA_1_0051252_rois_ho.1D ...\n"
     ]
    },
    {
     "name": "stderr",
     "output_type": "stream",
     "text": [
      " ...done. (1 seconds, 0 min)\n"
     ]
    },
    {
     "name": "stdout",
     "output_type": "stream",
     "text": [
      "Downloading data from https://s3.amazonaws.com/fcp-indi/data/Projects/ABIDE_Initiative/Outputs/cpac/filt_noglobal/rois_ho/UCLA_1_0051253_rois_ho.1D ...\n"
     ]
    },
    {
     "name": "stderr",
     "output_type": "stream",
     "text": [
      " ...done. (1 seconds, 0 min)\n"
     ]
    },
    {
     "name": "stdout",
     "output_type": "stream",
     "text": [
      "Downloading data from https://s3.amazonaws.com/fcp-indi/data/Projects/ABIDE_Initiative/Outputs/cpac/filt_noglobal/rois_ho/UCLA_1_0051254_rois_ho.1D ...\n"
     ]
    },
    {
     "name": "stderr",
     "output_type": "stream",
     "text": [
      " ...done. (2 seconds, 0 min)\n"
     ]
    },
    {
     "name": "stdout",
     "output_type": "stream",
     "text": [
      "Downloading data from https://s3.amazonaws.com/fcp-indi/data/Projects/ABIDE_Initiative/Outputs/cpac/filt_noglobal/rois_ho/UCLA_1_0051255_rois_ho.1D ...\n"
     ]
    },
    {
     "name": "stderr",
     "output_type": "stream",
     "text": [
      " ...done. (1 seconds, 0 min)\n"
     ]
    },
    {
     "name": "stdout",
     "output_type": "stream",
     "text": [
      "Downloading data from https://s3.amazonaws.com/fcp-indi/data/Projects/ABIDE_Initiative/Outputs/cpac/filt_noglobal/rois_ho/UCLA_1_0051256_rois_ho.1D ...\n"
     ]
    },
    {
     "name": "stderr",
     "output_type": "stream",
     "text": [
      " ...done. (2 seconds, 0 min)\n"
     ]
    },
    {
     "name": "stdout",
     "output_type": "stream",
     "text": [
      "Downloading data from https://s3.amazonaws.com/fcp-indi/data/Projects/ABIDE_Initiative/Outputs/cpac/filt_noglobal/rois_ho/UCLA_1_0051257_rois_ho.1D ...\n"
     ]
    },
    {
     "name": "stderr",
     "output_type": "stream",
     "text": [
      " ...done. (1 seconds, 0 min)\n"
     ]
    },
    {
     "name": "stdout",
     "output_type": "stream",
     "text": [
      "Downloading data from https://s3.amazonaws.com/fcp-indi/data/Projects/ABIDE_Initiative/Outputs/cpac/filt_noglobal/rois_ho/UCLA_1_0051260_rois_ho.1D ...\n"
     ]
    },
    {
     "name": "stderr",
     "output_type": "stream",
     "text": [
      " ...done. (2 seconds, 0 min)\n"
     ]
    },
    {
     "name": "stdout",
     "output_type": "stream",
     "text": [
      "Downloading data from https://s3.amazonaws.com/fcp-indi/data/Projects/ABIDE_Initiative/Outputs/cpac/filt_noglobal/rois_ho/UCLA_1_0051261_rois_ho.1D ...\n"
     ]
    },
    {
     "name": "stderr",
     "output_type": "stream",
     "text": [
      " ...done. (2 seconds, 0 min)\n"
     ]
    },
    {
     "name": "stdout",
     "output_type": "stream",
     "text": [
      "Downloading data from https://s3.amazonaws.com/fcp-indi/data/Projects/ABIDE_Initiative/Outputs/cpac/filt_noglobal/rois_ho/UCLA_1_0051262_rois_ho.1D ...\n"
     ]
    },
    {
     "name": "stderr",
     "output_type": "stream",
     "text": [
      " ...done. (2 seconds, 0 min)\n"
     ]
    },
    {
     "name": "stdout",
     "output_type": "stream",
     "text": [
      "Downloading data from https://s3.amazonaws.com/fcp-indi/data/Projects/ABIDE_Initiative/Outputs/cpac/filt_noglobal/rois_ho/UCLA_1_0051264_rois_ho.1D ...\n"
     ]
    },
    {
     "name": "stderr",
     "output_type": "stream",
     "text": [
      " ...done. (2 seconds, 0 min)\n"
     ]
    },
    {
     "name": "stdout",
     "output_type": "stream",
     "text": [
      "Downloading data from https://s3.amazonaws.com/fcp-indi/data/Projects/ABIDE_Initiative/Outputs/cpac/filt_noglobal/rois_ho/UCLA_1_0051265_rois_ho.1D ...\n"
     ]
    },
    {
     "name": "stderr",
     "output_type": "stream",
     "text": [
      " ...done. (1 seconds, 0 min)\n"
     ]
    },
    {
     "name": "stdout",
     "output_type": "stream",
     "text": [
      "Downloading data from https://s3.amazonaws.com/fcp-indi/data/Projects/ABIDE_Initiative/Outputs/cpac/filt_noglobal/rois_ho/UCLA_1_0051266_rois_ho.1D ...\n"
     ]
    },
    {
     "name": "stderr",
     "output_type": "stream",
     "text": [
      " ...done. (1 seconds, 0 min)\n"
     ]
    },
    {
     "name": "stdout",
     "output_type": "stream",
     "text": [
      "Downloading data from https://s3.amazonaws.com/fcp-indi/data/Projects/ABIDE_Initiative/Outputs/cpac/filt_noglobal/rois_ho/UCLA_1_0051267_rois_ho.1D ...\n"
     ]
    },
    {
     "name": "stderr",
     "output_type": "stream",
     "text": [
      " ...done. (1 seconds, 0 min)\n"
     ]
    },
    {
     "name": "stdout",
     "output_type": "stream",
     "text": [
      "Downloading data from https://s3.amazonaws.com/fcp-indi/data/Projects/ABIDE_Initiative/Outputs/cpac/filt_noglobal/rois_ho/UCLA_1_0051268_rois_ho.1D ...\n"
     ]
    },
    {
     "name": "stderr",
     "output_type": "stream",
     "text": [
      " ...done. (1 seconds, 0 min)\n"
     ]
    },
    {
     "name": "stdout",
     "output_type": "stream",
     "text": [
      "Downloading data from https://s3.amazonaws.com/fcp-indi/data/Projects/ABIDE_Initiative/Outputs/cpac/filt_noglobal/rois_ho/UCLA_1_0051269_rois_ho.1D ...\n"
     ]
    },
    {
     "name": "stderr",
     "output_type": "stream",
     "text": [
      " ...done. (2 seconds, 0 min)\n"
     ]
    },
    {
     "name": "stdout",
     "output_type": "stream",
     "text": [
      "Downloading data from https://s3.amazonaws.com/fcp-indi/data/Projects/ABIDE_Initiative/Outputs/cpac/filt_noglobal/rois_ho/UCLA_1_0051271_rois_ho.1D ...\n"
     ]
    },
    {
     "name": "stderr",
     "output_type": "stream",
     "text": [
      " ...done. (2 seconds, 0 min)\n"
     ]
    },
    {
     "name": "stdout",
     "output_type": "stream",
     "text": [
      "Downloading data from https://s3.amazonaws.com/fcp-indi/data/Projects/ABIDE_Initiative/Outputs/cpac/filt_noglobal/rois_ho/UCLA_1_0051272_rois_ho.1D ...\n"
     ]
    },
    {
     "name": "stderr",
     "output_type": "stream",
     "text": [
      " ...done. (2 seconds, 0 min)\n"
     ]
    },
    {
     "name": "stdout",
     "output_type": "stream",
     "text": [
      "Downloading data from https://s3.amazonaws.com/fcp-indi/data/Projects/ABIDE_Initiative/Outputs/cpac/filt_noglobal/rois_ho/UCLA_1_0051273_rois_ho.1D ...\n"
     ]
    },
    {
     "name": "stderr",
     "output_type": "stream",
     "text": [
      " ...done. (2 seconds, 0 min)\n"
     ]
    },
    {
     "name": "stdout",
     "output_type": "stream",
     "text": [
      "Downloading data from https://s3.amazonaws.com/fcp-indi/data/Projects/ABIDE_Initiative/Outputs/cpac/filt_noglobal/rois_ho/UCLA_1_0051275_rois_ho.1D ...\n"
     ]
    },
    {
     "name": "stderr",
     "output_type": "stream",
     "text": [
      " ...done. (2 seconds, 0 min)\n"
     ]
    },
    {
     "name": "stdout",
     "output_type": "stream",
     "text": [
      "Downloading data from https://s3.amazonaws.com/fcp-indi/data/Projects/ABIDE_Initiative/Outputs/cpac/filt_noglobal/rois_ho/UCLA_1_0051276_rois_ho.1D ...\n"
     ]
    },
    {
     "name": "stderr",
     "output_type": "stream",
     "text": [
      " ...done. (1 seconds, 0 min)\n"
     ]
    },
    {
     "name": "stdout",
     "output_type": "stream",
     "text": [
      "Downloading data from https://s3.amazonaws.com/fcp-indi/data/Projects/ABIDE_Initiative/Outputs/cpac/filt_noglobal/rois_ho/UCLA_1_0051277_rois_ho.1D ...\n"
     ]
    },
    {
     "name": "stderr",
     "output_type": "stream",
     "text": [
      " ...done. (2 seconds, 0 min)\n"
     ]
    },
    {
     "name": "stdout",
     "output_type": "stream",
     "text": [
      "Downloading data from https://s3.amazonaws.com/fcp-indi/data/Projects/ABIDE_Initiative/Outputs/cpac/filt_noglobal/rois_ho/UCLA_1_0051278_rois_ho.1D ...\n"
     ]
    },
    {
     "name": "stderr",
     "output_type": "stream",
     "text": [
      " ...done. (1 seconds, 0 min)\n"
     ]
    },
    {
     "name": "stdout",
     "output_type": "stream",
     "text": [
      "Downloading data from https://s3.amazonaws.com/fcp-indi/data/Projects/ABIDE_Initiative/Outputs/cpac/filt_noglobal/rois_ho/UCLA_1_0051279_rois_ho.1D ...\n"
     ]
    },
    {
     "name": "stderr",
     "output_type": "stream",
     "text": [
      " ...done. (1 seconds, 0 min)\n"
     ]
    },
    {
     "name": "stdout",
     "output_type": "stream",
     "text": [
      "Downloading data from https://s3.amazonaws.com/fcp-indi/data/Projects/ABIDE_Initiative/Outputs/cpac/filt_noglobal/rois_ho/UCLA_1_0051280_rois_ho.1D ...\n"
     ]
    },
    {
     "name": "stderr",
     "output_type": "stream",
     "text": [
      " ...done. (2 seconds, 0 min)\n"
     ]
    },
    {
     "name": "stdout",
     "output_type": "stream",
     "text": [
      "Downloading data from https://s3.amazonaws.com/fcp-indi/data/Projects/ABIDE_Initiative/Outputs/cpac/filt_noglobal/rois_ho/UCLA_1_0051281_rois_ho.1D ...\n"
     ]
    },
    {
     "name": "stderr",
     "output_type": "stream",
     "text": [
      " ...done. (1 seconds, 0 min)\n"
     ]
    },
    {
     "name": "stdout",
     "output_type": "stream",
     "text": [
      "Downloading data from https://s3.amazonaws.com/fcp-indi/data/Projects/ABIDE_Initiative/Outputs/cpac/filt_noglobal/rois_ho/UCLA_2_0051291_rois_ho.1D ...\n"
     ]
    },
    {
     "name": "stderr",
     "output_type": "stream",
     "text": [
      " ...done. (1 seconds, 0 min)\n"
     ]
    },
    {
     "name": "stdout",
     "output_type": "stream",
     "text": [
      "Downloading data from https://s3.amazonaws.com/fcp-indi/data/Projects/ABIDE_Initiative/Outputs/cpac/filt_noglobal/rois_ho/UCLA_2_0051292_rois_ho.1D ...\n"
     ]
    },
    {
     "name": "stderr",
     "output_type": "stream",
     "text": [
      " ...done. (2 seconds, 0 min)\n"
     ]
    },
    {
     "name": "stdout",
     "output_type": "stream",
     "text": [
      "Downloading data from https://s3.amazonaws.com/fcp-indi/data/Projects/ABIDE_Initiative/Outputs/cpac/filt_noglobal/rois_ho/UCLA_2_0051293_rois_ho.1D ...\n"
     ]
    },
    {
     "name": "stderr",
     "output_type": "stream",
     "text": [
      " ...done. (1 seconds, 0 min)\n"
     ]
    },
    {
     "name": "stdout",
     "output_type": "stream",
     "text": [
      "Downloading data from https://s3.amazonaws.com/fcp-indi/data/Projects/ABIDE_Initiative/Outputs/cpac/filt_noglobal/rois_ho/UCLA_2_0051294_rois_ho.1D ...\n"
     ]
    },
    {
     "name": "stderr",
     "output_type": "stream",
     "text": [
      " ...done. (2 seconds, 0 min)\n"
     ]
    },
    {
     "name": "stdout",
     "output_type": "stream",
     "text": [
      "Downloading data from https://s3.amazonaws.com/fcp-indi/data/Projects/ABIDE_Initiative/Outputs/cpac/filt_noglobal/rois_ho/UCLA_2_0051295_rois_ho.1D ...\n"
     ]
    },
    {
     "name": "stderr",
     "output_type": "stream",
     "text": [
      " ...done. (1 seconds, 0 min)\n"
     ]
    },
    {
     "name": "stdout",
     "output_type": "stream",
     "text": [
      "Downloading data from https://s3.amazonaws.com/fcp-indi/data/Projects/ABIDE_Initiative/Outputs/cpac/filt_noglobal/rois_ho/UCLA_2_0051297_rois_ho.1D ...\n"
     ]
    },
    {
     "name": "stderr",
     "output_type": "stream",
     "text": [
      " ...done. (2 seconds, 0 min)\n"
     ]
    },
    {
     "name": "stdout",
     "output_type": "stream",
     "text": [
      "Downloading data from https://s3.amazonaws.com/fcp-indi/data/Projects/ABIDE_Initiative/Outputs/cpac/filt_noglobal/rois_ho/UCLA_2_0051298_rois_ho.1D ...\n"
     ]
    },
    {
     "name": "stderr",
     "output_type": "stream",
     "text": [
      " ...done. (2 seconds, 0 min)\n"
     ]
    },
    {
     "name": "stdout",
     "output_type": "stream",
     "text": [
      "Downloading data from https://s3.amazonaws.com/fcp-indi/data/Projects/ABIDE_Initiative/Outputs/cpac/filt_noglobal/rois_ho/UCLA_2_0051299_rois_ho.1D ...\n"
     ]
    },
    {
     "name": "stderr",
     "output_type": "stream",
     "text": [
      " ...done. (2 seconds, 0 min)\n"
     ]
    },
    {
     "name": "stdout",
     "output_type": "stream",
     "text": [
      "Downloading data from https://s3.amazonaws.com/fcp-indi/data/Projects/ABIDE_Initiative/Outputs/cpac/filt_noglobal/rois_ho/UCLA_2_0051300_rois_ho.1D ...\n"
     ]
    },
    {
     "name": "stderr",
     "output_type": "stream",
     "text": [
      " ...done. (1 seconds, 0 min)\n"
     ]
    },
    {
     "name": "stdout",
     "output_type": "stream",
     "text": [
      "Downloading data from https://s3.amazonaws.com/fcp-indi/data/Projects/ABIDE_Initiative/Outputs/cpac/filt_noglobal/rois_ho/UCLA_2_0051301_rois_ho.1D ...\n"
     ]
    },
    {
     "name": "stderr",
     "output_type": "stream",
     "text": [
      " ...done. (1 seconds, 0 min)\n"
     ]
    },
    {
     "name": "stdout",
     "output_type": "stream",
     "text": [
      "Downloading data from https://s3.amazonaws.com/fcp-indi/data/Projects/ABIDE_Initiative/Outputs/cpac/filt_noglobal/rois_ho/UCLA_2_0051302_rois_ho.1D ...\n"
     ]
    },
    {
     "name": "stderr",
     "output_type": "stream",
     "text": [
      " ...done. (2 seconds, 0 min)\n"
     ]
    },
    {
     "name": "stdout",
     "output_type": "stream",
     "text": [
      "Downloading data from https://s3.amazonaws.com/fcp-indi/data/Projects/ABIDE_Initiative/Outputs/cpac/filt_noglobal/rois_ho/UCLA_2_0051303_rois_ho.1D ...\n"
     ]
    },
    {
     "name": "stderr",
     "output_type": "stream",
     "text": [
      " ...done. (1 seconds, 0 min)\n"
     ]
    },
    {
     "name": "stdout",
     "output_type": "stream",
     "text": [
      "Downloading data from https://s3.amazonaws.com/fcp-indi/data/Projects/ABIDE_Initiative/Outputs/cpac/filt_noglobal/rois_ho/UCLA_2_0051304_rois_ho.1D ...\n"
     ]
    },
    {
     "name": "stderr",
     "output_type": "stream",
     "text": [
      " ...done. (2 seconds, 0 min)\n"
     ]
    },
    {
     "name": "stdout",
     "output_type": "stream",
     "text": [
      "Downloading data from https://s3.amazonaws.com/fcp-indi/data/Projects/ABIDE_Initiative/Outputs/cpac/filt_noglobal/rois_ho/UCLA_2_0051305_rois_ho.1D ...\n"
     ]
    },
    {
     "name": "stderr",
     "output_type": "stream",
     "text": [
      " ...done. (1 seconds, 0 min)\n"
     ]
    },
    {
     "name": "stdout",
     "output_type": "stream",
     "text": [
      "Downloading data from https://s3.amazonaws.com/fcp-indi/data/Projects/ABIDE_Initiative/Outputs/cpac/filt_noglobal/rois_ho/UCLA_2_0051306_rois_ho.1D ...\n"
     ]
    },
    {
     "name": "stderr",
     "output_type": "stream",
     "text": [
      " ...done. (2 seconds, 0 min)\n"
     ]
    },
    {
     "name": "stdout",
     "output_type": "stream",
     "text": [
      "Downloading data from https://s3.amazonaws.com/fcp-indi/data/Projects/ABIDE_Initiative/Outputs/cpac/filt_noglobal/rois_ho/UCLA_2_0051307_rois_ho.1D ...\n"
     ]
    },
    {
     "name": "stderr",
     "output_type": "stream",
     "text": [
      " ...done. (1 seconds, 0 min)\n"
     ]
    },
    {
     "name": "stdout",
     "output_type": "stream",
     "text": [
      "Downloading data from https://s3.amazonaws.com/fcp-indi/data/Projects/ABIDE_Initiative/Outputs/cpac/filt_noglobal/rois_ho/UCLA_2_0051308_rois_ho.1D ...\n"
     ]
    },
    {
     "name": "stderr",
     "output_type": "stream",
     "text": [
      " ...done. (1 seconds, 0 min)\n"
     ]
    },
    {
     "name": "stdout",
     "output_type": "stream",
     "text": [
      "Downloading data from https://s3.amazonaws.com/fcp-indi/data/Projects/ABIDE_Initiative/Outputs/cpac/filt_noglobal/rois_ho/UCLA_2_0051309_rois_ho.1D ...\n"
     ]
    },
    {
     "name": "stderr",
     "output_type": "stream",
     "text": [
      " ...done. (1 seconds, 0 min)\n"
     ]
    },
    {
     "name": "stdout",
     "output_type": "stream",
     "text": [
      "Downloading data from https://s3.amazonaws.com/fcp-indi/data/Projects/ABIDE_Initiative/Outputs/cpac/filt_noglobal/rois_ho/UCLA_2_0051311_rois_ho.1D ...\n"
     ]
    },
    {
     "name": "stderr",
     "output_type": "stream",
     "text": [
      " ...done. (2 seconds, 0 min)\n"
     ]
    },
    {
     "name": "stdout",
     "output_type": "stream",
     "text": [
      "Downloading data from https://s3.amazonaws.com/fcp-indi/data/Projects/ABIDE_Initiative/Outputs/cpac/filt_noglobal/rois_ho/UCLA_2_0051313_rois_ho.1D ...\n"
     ]
    },
    {
     "name": "stderr",
     "output_type": "stream",
     "text": [
      " ...done. (1 seconds, 0 min)\n"
     ]
    },
    {
     "name": "stdout",
     "output_type": "stream",
     "text": [
      "Downloading data from https://s3.amazonaws.com/fcp-indi/data/Projects/ABIDE_Initiative/Outputs/cpac/filt_noglobal/rois_ho/UCLA_2_0051315_rois_ho.1D ...\n"
     ]
    },
    {
     "name": "stderr",
     "output_type": "stream",
     "text": [
      " ...done. (1 seconds, 0 min)\n"
     ]
    },
    {
     "name": "stdout",
     "output_type": "stream",
     "text": [
      "Downloading data from https://s3.amazonaws.com/fcp-indi/data/Projects/ABIDE_Initiative/Outputs/cpac/filt_noglobal/rois_ho/MaxMun_a_0051318_rois_ho.1D ...\n"
     ]
    },
    {
     "name": "stderr",
     "output_type": "stream",
     "text": [
      " ...done. (2 seconds, 0 min)\n"
     ]
    },
    {
     "name": "stdout",
     "output_type": "stream",
     "text": [
      "Downloading data from https://s3.amazonaws.com/fcp-indi/data/Projects/ABIDE_Initiative/Outputs/cpac/filt_noglobal/rois_ho/MaxMun_a_0051319_rois_ho.1D ...\n"
     ]
    },
    {
     "name": "stderr",
     "output_type": "stream",
     "text": [
      " ...done. (2 seconds, 0 min)\n"
     ]
    },
    {
     "name": "stdout",
     "output_type": "stream",
     "text": [
      "Downloading data from https://s3.amazonaws.com/fcp-indi/data/Projects/ABIDE_Initiative/Outputs/cpac/filt_noglobal/rois_ho/MaxMun_a_0051320_rois_ho.1D ...\n"
     ]
    },
    {
     "name": "stderr",
     "output_type": "stream",
     "text": [
      " ...done. (2 seconds, 0 min)\n"
     ]
    },
    {
     "name": "stdout",
     "output_type": "stream",
     "text": [
      "Downloading data from https://s3.amazonaws.com/fcp-indi/data/Projects/ABIDE_Initiative/Outputs/cpac/filt_noglobal/rois_ho/MaxMun_a_0051321_rois_ho.1D ...\n"
     ]
    },
    {
     "name": "stderr",
     "output_type": "stream",
     "text": [
      " ...done. (2 seconds, 0 min)\n"
     ]
    },
    {
     "name": "stdout",
     "output_type": "stream",
     "text": [
      "Downloading data from https://s3.amazonaws.com/fcp-indi/data/Projects/ABIDE_Initiative/Outputs/cpac/filt_noglobal/rois_ho/MaxMun_b_0051322_rois_ho.1D ...\n"
     ]
    },
    {
     "name": "stderr",
     "output_type": "stream",
     "text": [
      " ...done. (2 seconds, 0 min)\n"
     ]
    },
    {
     "name": "stdout",
     "output_type": "stream",
     "text": [
      "Downloading data from https://s3.amazonaws.com/fcp-indi/data/Projects/ABIDE_Initiative/Outputs/cpac/filt_noglobal/rois_ho/MaxMun_b_0051323_rois_ho.1D ...\n"
     ]
    },
    {
     "name": "stderr",
     "output_type": "stream",
     "text": [
      " ...done. (2 seconds, 0 min)\n"
     ]
    },
    {
     "name": "stdout",
     "output_type": "stream",
     "text": [
      "Downloading data from https://s3.amazonaws.com/fcp-indi/data/Projects/ABIDE_Initiative/Outputs/cpac/filt_noglobal/rois_ho/MaxMun_b_0051325_rois_ho.1D ...\n"
     ]
    },
    {
     "name": "stderr",
     "output_type": "stream",
     "text": [
      " ...done. (1 seconds, 0 min)\n"
     ]
    },
    {
     "name": "stdout",
     "output_type": "stream",
     "text": [
      "Downloading data from https://s3.amazonaws.com/fcp-indi/data/Projects/ABIDE_Initiative/Outputs/cpac/filt_noglobal/rois_ho/MaxMun_b_0051326_rois_ho.1D ...\n"
     ]
    },
    {
     "name": "stderr",
     "output_type": "stream",
     "text": [
      " ...done. (2 seconds, 0 min)\n"
     ]
    },
    {
     "name": "stdout",
     "output_type": "stream",
     "text": [
      "Downloading data from https://s3.amazonaws.com/fcp-indi/data/Projects/ABIDE_Initiative/Outputs/cpac/filt_noglobal/rois_ho/MaxMun_b_0051327_rois_ho.1D ...\n"
     ]
    },
    {
     "name": "stderr",
     "output_type": "stream",
     "text": [
      " ...done. (1 seconds, 0 min)\n"
     ]
    },
    {
     "name": "stdout",
     "output_type": "stream",
     "text": [
      "Downloading data from https://s3.amazonaws.com/fcp-indi/data/Projects/ABIDE_Initiative/Outputs/cpac/filt_noglobal/rois_ho/MaxMun_c_0051328_rois_ho.1D ...\n"
     ]
    },
    {
     "name": "stderr",
     "output_type": "stream",
     "text": [
      " ...done. (1 seconds, 0 min)\n"
     ]
    },
    {
     "name": "stdout",
     "output_type": "stream",
     "text": [
      "Downloading data from https://s3.amazonaws.com/fcp-indi/data/Projects/ABIDE_Initiative/Outputs/cpac/filt_noglobal/rois_ho/MaxMun_d_0051329_rois_ho.1D ...\n"
     ]
    },
    {
     "name": "stderr",
     "output_type": "stream",
     "text": [
      " ...done. (2 seconds, 0 min)\n"
     ]
    },
    {
     "name": "stdout",
     "output_type": "stream",
     "text": [
      "Downloading data from https://s3.amazonaws.com/fcp-indi/data/Projects/ABIDE_Initiative/Outputs/cpac/filt_noglobal/rois_ho/MaxMun_d_0051330_rois_ho.1D ...\n"
     ]
    },
    {
     "name": "stderr",
     "output_type": "stream",
     "text": [
      " ...done. (2 seconds, 0 min)\n"
     ]
    },
    {
     "name": "stdout",
     "output_type": "stream",
     "text": [
      "Downloading data from https://s3.amazonaws.com/fcp-indi/data/Projects/ABIDE_Initiative/Outputs/cpac/filt_noglobal/rois_ho/MaxMun_d_0051331_rois_ho.1D ...\n"
     ]
    },
    {
     "name": "stderr",
     "output_type": "stream",
     "text": [
      " ...done. (2 seconds, 0 min)\n"
     ]
    },
    {
     "name": "stdout",
     "output_type": "stream",
     "text": [
      "Downloading data from https://s3.amazonaws.com/fcp-indi/data/Projects/ABIDE_Initiative/Outputs/cpac/filt_noglobal/rois_ho/MaxMun_c_0051332_rois_ho.1D ...\n"
     ]
    },
    {
     "name": "stderr",
     "output_type": "stream",
     "text": [
      " ...done. (2 seconds, 0 min)\n"
     ]
    },
    {
     "name": "stdout",
     "output_type": "stream",
     "text": [
      "Downloading data from https://s3.amazonaws.com/fcp-indi/data/Projects/ABIDE_Initiative/Outputs/cpac/filt_noglobal/rois_ho/MaxMun_c_0051333_rois_ho.1D ...\n"
     ]
    },
    {
     "name": "stderr",
     "output_type": "stream",
     "text": [
      " ...done. (2 seconds, 0 min)\n"
     ]
    },
    {
     "name": "stdout",
     "output_type": "stream",
     "text": [
      "Downloading data from https://s3.amazonaws.com/fcp-indi/data/Projects/ABIDE_Initiative/Outputs/cpac/filt_noglobal/rois_ho/MaxMun_c_0051334_rois_ho.1D ...\n"
     ]
    },
    {
     "name": "stderr",
     "output_type": "stream",
     "text": [
      " ...done. (1 seconds, 0 min)\n"
     ]
    },
    {
     "name": "stdout",
     "output_type": "stream",
     "text": [
      "Downloading data from https://s3.amazonaws.com/fcp-indi/data/Projects/ABIDE_Initiative/Outputs/cpac/filt_noglobal/rois_ho/MaxMun_c_0051335_rois_ho.1D ...\n"
     ]
    },
    {
     "name": "stderr",
     "output_type": "stream",
     "text": [
      " ...done. (2 seconds, 0 min)\n"
     ]
    },
    {
     "name": "stdout",
     "output_type": "stream",
     "text": [
      "Downloading data from https://s3.amazonaws.com/fcp-indi/data/Projects/ABIDE_Initiative/Outputs/cpac/filt_noglobal/rois_ho/MaxMun_c_0051336_rois_ho.1D ...\n"
     ]
    },
    {
     "name": "stderr",
     "output_type": "stream",
     "text": [
      " ...done. (2 seconds, 0 min)\n"
     ]
    },
    {
     "name": "stdout",
     "output_type": "stream",
     "text": [
      "Downloading data from https://s3.amazonaws.com/fcp-indi/data/Projects/ABIDE_Initiative/Outputs/cpac/filt_noglobal/rois_ho/MaxMun_c_0051338_rois_ho.1D ...\n"
     ]
    },
    {
     "name": "stderr",
     "output_type": "stream",
     "text": [
      " ...done. (1 seconds, 0 min)\n"
     ]
    },
    {
     "name": "stdout",
     "output_type": "stream",
     "text": [
      "Downloading data from https://s3.amazonaws.com/fcp-indi/data/Projects/ABIDE_Initiative/Outputs/cpac/filt_noglobal/rois_ho/MaxMun_c_0051339_rois_ho.1D ...\n"
     ]
    },
    {
     "name": "stderr",
     "output_type": "stream",
     "text": [
      " ...done. (2 seconds, 0 min)\n"
     ]
    },
    {
     "name": "stdout",
     "output_type": "stream",
     "text": [
      "Downloading data from https://s3.amazonaws.com/fcp-indi/data/Projects/ABIDE_Initiative/Outputs/cpac/filt_noglobal/rois_ho/MaxMun_c_0051340_rois_ho.1D ...\n"
     ]
    },
    {
     "name": "stderr",
     "output_type": "stream",
     "text": [
      " ...done. (2 seconds, 0 min)\n"
     ]
    },
    {
     "name": "stdout",
     "output_type": "stream",
     "text": [
      "Downloading data from https://s3.amazonaws.com/fcp-indi/data/Projects/ABIDE_Initiative/Outputs/cpac/filt_noglobal/rois_ho/MaxMun_c_0051341_rois_ho.1D ...\n"
     ]
    },
    {
     "name": "stderr",
     "output_type": "stream",
     "text": [
      " ...done. (1 seconds, 0 min)\n"
     ]
    },
    {
     "name": "stdout",
     "output_type": "stream",
     "text": [
      "Downloading data from https://s3.amazonaws.com/fcp-indi/data/Projects/ABIDE_Initiative/Outputs/cpac/filt_noglobal/rois_ho/MaxMun_c_0051342_rois_ho.1D ...\n"
     ]
    },
    {
     "name": "stderr",
     "output_type": "stream",
     "text": [
      " ...done. (1 seconds, 0 min)\n"
     ]
    },
    {
     "name": "stdout",
     "output_type": "stream",
     "text": [
      "Downloading data from https://s3.amazonaws.com/fcp-indi/data/Projects/ABIDE_Initiative/Outputs/cpac/filt_noglobal/rois_ho/MaxMun_c_0051343_rois_ho.1D ...\n"
     ]
    },
    {
     "name": "stderr",
     "output_type": "stream",
     "text": [
      " ...done. (2 seconds, 0 min)\n"
     ]
    },
    {
     "name": "stdout",
     "output_type": "stream",
     "text": [
      "Downloading data from https://s3.amazonaws.com/fcp-indi/data/Projects/ABIDE_Initiative/Outputs/cpac/filt_noglobal/rois_ho/MaxMun_c_0051344_rois_ho.1D ...\n"
     ]
    },
    {
     "name": "stderr",
     "output_type": "stream",
     "text": [
      " ...done. (2 seconds, 0 min)\n"
     ]
    },
    {
     "name": "stdout",
     "output_type": "stream",
     "text": [
      "Downloading data from https://s3.amazonaws.com/fcp-indi/data/Projects/ABIDE_Initiative/Outputs/cpac/filt_noglobal/rois_ho/MaxMun_c_0051345_rois_ho.1D ...\n"
     ]
    },
    {
     "name": "stderr",
     "output_type": "stream",
     "text": [
      " ...done. (1 seconds, 0 min)\n"
     ]
    },
    {
     "name": "stdout",
     "output_type": "stream",
     "text": [
      "Downloading data from https://s3.amazonaws.com/fcp-indi/data/Projects/ABIDE_Initiative/Outputs/cpac/filt_noglobal/rois_ho/MaxMun_c_0051346_rois_ho.1D ...\n"
     ]
    },
    {
     "name": "stderr",
     "output_type": "stream",
     "text": [
      " ...done. (1 seconds, 0 min)\n"
     ]
    },
    {
     "name": "stdout",
     "output_type": "stream",
     "text": [
      "Downloading data from https://s3.amazonaws.com/fcp-indi/data/Projects/ABIDE_Initiative/Outputs/cpac/filt_noglobal/rois_ho/MaxMun_c_0051347_rois_ho.1D ...\n"
     ]
    },
    {
     "name": "stderr",
     "output_type": "stream",
     "text": [
      " ...done. (2 seconds, 0 min)\n"
     ]
    },
    {
     "name": "stdout",
     "output_type": "stream",
     "text": [
      "Downloading data from https://s3.amazonaws.com/fcp-indi/data/Projects/ABIDE_Initiative/Outputs/cpac/filt_noglobal/rois_ho/MaxMun_d_0051349_rois_ho.1D ...\n"
     ]
    },
    {
     "name": "stderr",
     "output_type": "stream",
     "text": [
      " ...done. (2 seconds, 0 min)\n"
     ]
    },
    {
     "name": "stdout",
     "output_type": "stream",
     "text": [
      "Downloading data from https://s3.amazonaws.com/fcp-indi/data/Projects/ABIDE_Initiative/Outputs/cpac/filt_noglobal/rois_ho/MaxMun_d_0051350_rois_ho.1D ...\n"
     ]
    },
    {
     "name": "stderr",
     "output_type": "stream",
     "text": [
      " ...done. (2 seconds, 0 min)\n"
     ]
    },
    {
     "name": "stdout",
     "output_type": "stream",
     "text": [
      "Downloading data from https://s3.amazonaws.com/fcp-indi/data/Projects/ABIDE_Initiative/Outputs/cpac/filt_noglobal/rois_ho/MaxMun_d_0051351_rois_ho.1D ...\n"
     ]
    },
    {
     "name": "stderr",
     "output_type": "stream",
     "text": [
      " ...done. (2 seconds, 0 min)\n"
     ]
    },
    {
     "name": "stdout",
     "output_type": "stream",
     "text": [
      "Downloading data from https://s3.amazonaws.com/fcp-indi/data/Projects/ABIDE_Initiative/Outputs/cpac/filt_noglobal/rois_ho/MaxMun_d_0051354_rois_ho.1D ...\n"
     ]
    },
    {
     "name": "stderr",
     "output_type": "stream",
     "text": [
      " ...done. (2 seconds, 0 min)\n"
     ]
    },
    {
     "name": "stdout",
     "output_type": "stream",
     "text": [
      "Downloading data from https://s3.amazonaws.com/fcp-indi/data/Projects/ABIDE_Initiative/Outputs/cpac/filt_noglobal/rois_ho/MaxMun_d_0051356_rois_ho.1D ...\n"
     ]
    },
    {
     "name": "stderr",
     "output_type": "stream",
     "text": [
      " ...done. (2 seconds, 0 min)\n"
     ]
    },
    {
     "name": "stdout",
     "output_type": "stream",
     "text": [
      "Downloading data from https://s3.amazonaws.com/fcp-indi/data/Projects/ABIDE_Initiative/Outputs/cpac/filt_noglobal/rois_ho/MaxMun_d_0051357_rois_ho.1D ...\n"
     ]
    },
    {
     "name": "stderr",
     "output_type": "stream",
     "text": [
      " ...done. (2 seconds, 0 min)\n"
     ]
    },
    {
     "name": "stdout",
     "output_type": "stream",
     "text": [
      "Downloading data from https://s3.amazonaws.com/fcp-indi/data/Projects/ABIDE_Initiative/Outputs/cpac/filt_noglobal/rois_ho/MaxMun_d_0051359_rois_ho.1D ...\n"
     ]
    },
    {
     "name": "stderr",
     "output_type": "stream",
     "text": [
      " ...done. (2 seconds, 0 min)\n"
     ]
    },
    {
     "name": "stdout",
     "output_type": "stream",
     "text": [
      "Downloading data from https://s3.amazonaws.com/fcp-indi/data/Projects/ABIDE_Initiative/Outputs/cpac/filt_noglobal/rois_ho/MaxMun_d_0051360_rois_ho.1D ...\n"
     ]
    },
    {
     "name": "stderr",
     "output_type": "stream",
     "text": [
      " ...done. (2 seconds, 0 min)\n"
     ]
    },
    {
     "name": "stdout",
     "output_type": "stream",
     "text": [
      "Downloading data from https://s3.amazonaws.com/fcp-indi/data/Projects/ABIDE_Initiative/Outputs/cpac/filt_noglobal/rois_ho/MaxMun_d_0051361_rois_ho.1D ...\n"
     ]
    },
    {
     "name": "stderr",
     "output_type": "stream",
     "text": [
      " ...done. (2 seconds, 0 min)\n"
     ]
    },
    {
     "name": "stdout",
     "output_type": "stream",
     "text": [
      "Downloading data from https://s3.amazonaws.com/fcp-indi/data/Projects/ABIDE_Initiative/Outputs/cpac/filt_noglobal/rois_ho/MaxMun_a_0051362_rois_ho.1D ...\n"
     ]
    },
    {
     "name": "stderr",
     "output_type": "stream",
     "text": [
      " ...done. (2 seconds, 0 min)\n"
     ]
    },
    {
     "name": "stdout",
     "output_type": "stream",
     "text": [
      "Downloading data from https://s3.amazonaws.com/fcp-indi/data/Projects/ABIDE_Initiative/Outputs/cpac/filt_noglobal/rois_ho/MaxMun_a_0051363_rois_ho.1D ...\n"
     ]
    },
    {
     "name": "stderr",
     "output_type": "stream",
     "text": [
      " ...done. (2 seconds, 0 min)\n"
     ]
    },
    {
     "name": "stdout",
     "output_type": "stream",
     "text": [
      "Downloading data from https://s3.amazonaws.com/fcp-indi/data/Projects/ABIDE_Initiative/Outputs/cpac/filt_noglobal/rois_ho/MaxMun_a_0051364_rois_ho.1D ...\n"
     ]
    },
    {
     "name": "stderr",
     "output_type": "stream",
     "text": [
      " ...done. (2 seconds, 0 min)\n"
     ]
    },
    {
     "name": "stdout",
     "output_type": "stream",
     "text": [
      "Downloading data from https://s3.amazonaws.com/fcp-indi/data/Projects/ABIDE_Initiative/Outputs/cpac/filt_noglobal/rois_ho/MaxMun_a_0051365_rois_ho.1D ...\n"
     ]
    },
    {
     "name": "stderr",
     "output_type": "stream",
     "text": [
      " ...done. (2 seconds, 0 min)\n"
     ]
    },
    {
     "name": "stdout",
     "output_type": "stream",
     "text": [
      "Downloading data from https://s3.amazonaws.com/fcp-indi/data/Projects/ABIDE_Initiative/Outputs/cpac/filt_noglobal/rois_ho/MaxMun_a_0051369_rois_ho.1D ...\n"
     ]
    },
    {
     "name": "stderr",
     "output_type": "stream",
     "text": [
      " ...done. (1 seconds, 0 min)\n"
     ]
    },
    {
     "name": "stdout",
     "output_type": "stream",
     "text": [
      "Downloading data from https://s3.amazonaws.com/fcp-indi/data/Projects/ABIDE_Initiative/Outputs/cpac/filt_noglobal/rois_ho/MaxMun_a_0051370_rois_ho.1D ...\n"
     ]
    },
    {
     "name": "stderr",
     "output_type": "stream",
     "text": [
      " ...done. (1 seconds, 0 min)\n"
     ]
    },
    {
     "name": "stdout",
     "output_type": "stream",
     "text": [
      "Downloading data from https://s3.amazonaws.com/fcp-indi/data/Projects/ABIDE_Initiative/Outputs/cpac/filt_noglobal/rois_ho/MaxMun_a_0051373_rois_ho.1D ...\n"
     ]
    },
    {
     "name": "stderr",
     "output_type": "stream",
     "text": [
      " ...done. (1 seconds, 0 min)\n"
     ]
    },
    {
     "name": "stdout",
     "output_type": "stream",
     "text": [
      "Downloading data from https://s3.amazonaws.com/fcp-indi/data/Projects/ABIDE_Initiative/Outputs/cpac/filt_noglobal/rois_ho/Caltech_0051461_rois_ho.1D ...\n"
     ]
    },
    {
     "name": "stderr",
     "output_type": "stream",
     "text": [
      " ...done. (2 seconds, 0 min)\n"
     ]
    },
    {
     "name": "stdout",
     "output_type": "stream",
     "text": [
      "Downloading data from https://s3.amazonaws.com/fcp-indi/data/Projects/ABIDE_Initiative/Outputs/cpac/filt_noglobal/rois_ho/Caltech_0051463_rois_ho.1D ...\n"
     ]
    },
    {
     "name": "stderr",
     "output_type": "stream",
     "text": [
      " ...done. (2 seconds, 0 min)\n"
     ]
    },
    {
     "name": "stdout",
     "output_type": "stream",
     "text": [
      "Downloading data from https://s3.amazonaws.com/fcp-indi/data/Projects/ABIDE_Initiative/Outputs/cpac/filt_noglobal/rois_ho/Caltech_0051464_rois_ho.1D ...\n"
     ]
    },
    {
     "name": "stderr",
     "output_type": "stream",
     "text": [
      " ...done. (2 seconds, 0 min)\n"
     ]
    },
    {
     "name": "stdout",
     "output_type": "stream",
     "text": [
      "Downloading data from https://s3.amazonaws.com/fcp-indi/data/Projects/ABIDE_Initiative/Outputs/cpac/filt_noglobal/rois_ho/Caltech_0051465_rois_ho.1D ...\n"
     ]
    },
    {
     "name": "stderr",
     "output_type": "stream",
     "text": [
      " ...done. (2 seconds, 0 min)\n"
     ]
    },
    {
     "name": "stdout",
     "output_type": "stream",
     "text": [
      "Downloading data from https://s3.amazonaws.com/fcp-indi/data/Projects/ABIDE_Initiative/Outputs/cpac/filt_noglobal/rois_ho/Caltech_0051473_rois_ho.1D ...\n"
     ]
    },
    {
     "name": "stderr",
     "output_type": "stream",
     "text": [
      " ...done. (2 seconds, 0 min)\n"
     ]
    },
    {
     "name": "stdout",
     "output_type": "stream",
     "text": [
      "Downloading data from https://s3.amazonaws.com/fcp-indi/data/Projects/ABIDE_Initiative/Outputs/cpac/filt_noglobal/rois_ho/Caltech_0051477_rois_ho.1D ...\n"
     ]
    },
    {
     "name": "stderr",
     "output_type": "stream",
     "text": [
      " ...done. (2 seconds, 0 min)\n"
     ]
    },
    {
     "name": "stdout",
     "output_type": "stream",
     "text": [
      "Downloading data from https://s3.amazonaws.com/fcp-indi/data/Projects/ABIDE_Initiative/Outputs/cpac/filt_noglobal/rois_ho/Caltech_0051479_rois_ho.1D ...\n"
     ]
    },
    {
     "name": "stderr",
     "output_type": "stream",
     "text": [
      " ...done. (2 seconds, 0 min)\n"
     ]
    },
    {
     "name": "stdout",
     "output_type": "stream",
     "text": [
      "Downloading data from https://s3.amazonaws.com/fcp-indi/data/Projects/ABIDE_Initiative/Outputs/cpac/filt_noglobal/rois_ho/Caltech_0051480_rois_ho.1D ...\n"
     ]
    },
    {
     "name": "stderr",
     "output_type": "stream",
     "text": [
      " ...done. (2 seconds, 0 min)\n"
     ]
    },
    {
     "name": "stdout",
     "output_type": "stream",
     "text": [
      "Downloading data from https://s3.amazonaws.com/fcp-indi/data/Projects/ABIDE_Initiative/Outputs/cpac/filt_noglobal/rois_ho/Caltech_0051481_rois_ho.1D ...\n"
     ]
    },
    {
     "name": "stderr",
     "output_type": "stream",
     "text": [
      " ...done. (2 seconds, 0 min)\n"
     ]
    },
    {
     "name": "stdout",
     "output_type": "stream",
     "text": [
      "Downloading data from https://s3.amazonaws.com/fcp-indi/data/Projects/ABIDE_Initiative/Outputs/cpac/filt_noglobal/rois_ho/Caltech_0051482_rois_ho.1D ...\n"
     ]
    },
    {
     "name": "stderr",
     "output_type": "stream",
     "text": [
      " ...done. (2 seconds, 0 min)\n"
     ]
    },
    {
     "name": "stdout",
     "output_type": "stream",
     "text": [
      "Downloading data from https://s3.amazonaws.com/fcp-indi/data/Projects/ABIDE_Initiative/Outputs/cpac/filt_noglobal/rois_ho/Caltech_0051484_rois_ho.1D ...\n"
     ]
    },
    {
     "name": "stderr",
     "output_type": "stream",
     "text": [
      " ...done. (2 seconds, 0 min)\n"
     ]
    },
    {
     "name": "stdout",
     "output_type": "stream",
     "text": [
      "Downloading data from https://s3.amazonaws.com/fcp-indi/data/Projects/ABIDE_Initiative/Outputs/cpac/filt_noglobal/rois_ho/Caltech_0051487_rois_ho.1D ...\n"
     ]
    },
    {
     "name": "stderr",
     "output_type": "stream",
     "text": [
      " ...done. (2 seconds, 0 min)\n"
     ]
    },
    {
     "name": "stdout",
     "output_type": "stream",
     "text": [
      "Downloading data from https://s3.amazonaws.com/fcp-indi/data/Projects/ABIDE_Initiative/Outputs/cpac/filt_noglobal/rois_ho/Caltech_0051488_rois_ho.1D ...\n"
     ]
    },
    {
     "name": "stderr",
     "output_type": "stream",
     "text": [
      " ...done. (2 seconds, 0 min)\n"
     ]
    },
    {
     "name": "stdout",
     "output_type": "stream",
     "text": [
      "Downloading data from https://s3.amazonaws.com/fcp-indi/data/Projects/ABIDE_Initiative/Outputs/cpac/filt_noglobal/rois_ho/Caltech_0051491_rois_ho.1D ...\n"
     ]
    },
    {
     "name": "stderr",
     "output_type": "stream",
     "text": [
      " ...done. (2 seconds, 0 min)\n"
     ]
    },
    {
     "name": "stdout",
     "output_type": "stream",
     "text": [
      "Downloading data from https://s3.amazonaws.com/fcp-indi/data/Projects/ABIDE_Initiative/Outputs/cpac/filt_noglobal/rois_ho/Caltech_0051493_rois_ho.1D ...\n"
     ]
    },
    {
     "name": "stderr",
     "output_type": "stream",
     "text": [
      " ...done. (2 seconds, 0 min)\n"
     ]
    },
    {
     "name": "stdout",
     "output_type": "stream",
     "text": [
      "Downloading data from https://s3.amazonaws.com/fcp-indi/data/Projects/ABIDE_Initiative/Outputs/cpac/filt_noglobal/rois_ho/SBL_0051556_rois_ho.1D ...\n"
     ]
    },
    {
     "name": "stderr",
     "output_type": "stream",
     "text": [
      " ...done. (2 seconds, 0 min)\n"
     ]
    },
    {
     "name": "stdout",
     "output_type": "stream",
     "text": [
      "Downloading data from https://s3.amazonaws.com/fcp-indi/data/Projects/ABIDE_Initiative/Outputs/cpac/filt_noglobal/rois_ho/SBL_0051557_rois_ho.1D ...\n"
     ]
    },
    {
     "name": "stderr",
     "output_type": "stream",
     "text": [
      " ...done. (2 seconds, 0 min)\n"
     ]
    },
    {
     "name": "stdout",
     "output_type": "stream",
     "text": [
      "Downloading data from https://s3.amazonaws.com/fcp-indi/data/Projects/ABIDE_Initiative/Outputs/cpac/filt_noglobal/rois_ho/SBL_0051558_rois_ho.1D ...\n"
     ]
    },
    {
     "name": "stderr",
     "output_type": "stream",
     "text": [
      " ...done. (2 seconds, 0 min)\n"
     ]
    },
    {
     "name": "stdout",
     "output_type": "stream",
     "text": [
      "Downloading data from https://s3.amazonaws.com/fcp-indi/data/Projects/ABIDE_Initiative/Outputs/cpac/filt_noglobal/rois_ho/SBL_0051559_rois_ho.1D ...\n"
     ]
    },
    {
     "name": "stderr",
     "output_type": "stream",
     "text": [
      " ...done. (2 seconds, 0 min)\n"
     ]
    },
    {
     "name": "stdout",
     "output_type": "stream",
     "text": [
      "Downloading data from https://s3.amazonaws.com/fcp-indi/data/Projects/ABIDE_Initiative/Outputs/cpac/filt_noglobal/rois_ho/SBL_0051560_rois_ho.1D ...\n"
     ]
    },
    {
     "name": "stderr",
     "output_type": "stream",
     "text": [
      " ...done. (2 seconds, 0 min)\n"
     ]
    },
    {
     "name": "stdout",
     "output_type": "stream",
     "text": [
      "Downloading data from https://s3.amazonaws.com/fcp-indi/data/Projects/ABIDE_Initiative/Outputs/cpac/filt_noglobal/rois_ho/SBL_0051562_rois_ho.1D ...\n"
     ]
    },
    {
     "name": "stderr",
     "output_type": "stream",
     "text": [
      " ...done. (2 seconds, 0 min)\n"
     ]
    },
    {
     "name": "stdout",
     "output_type": "stream",
     "text": [
      "Downloading data from https://s3.amazonaws.com/fcp-indi/data/Projects/ABIDE_Initiative/Outputs/cpac/filt_noglobal/rois_ho/SBL_0051563_rois_ho.1D ...\n"
     ]
    },
    {
     "name": "stderr",
     "output_type": "stream",
     "text": [
      " ...done. (2 seconds, 0 min)\n"
     ]
    },
    {
     "name": "stdout",
     "output_type": "stream",
     "text": [
      "Downloading data from https://s3.amazonaws.com/fcp-indi/data/Projects/ABIDE_Initiative/Outputs/cpac/filt_noglobal/rois_ho/SBL_0051564_rois_ho.1D ...\n"
     ]
    },
    {
     "name": "stderr",
     "output_type": "stream",
     "text": [
      " ...done. (2 seconds, 0 min)\n"
     ]
    },
    {
     "name": "stdout",
     "output_type": "stream",
     "text": [
      "Downloading data from https://s3.amazonaws.com/fcp-indi/data/Projects/ABIDE_Initiative/Outputs/cpac/filt_noglobal/rois_ho/SBL_0051565_rois_ho.1D ...\n"
     ]
    },
    {
     "name": "stderr",
     "output_type": "stream",
     "text": [
      " ...done. (2 seconds, 0 min)\n"
     ]
    },
    {
     "name": "stdout",
     "output_type": "stream",
     "text": [
      "Downloading data from https://s3.amazonaws.com/fcp-indi/data/Projects/ABIDE_Initiative/Outputs/cpac/filt_noglobal/rois_ho/SBL_0051566_rois_ho.1D ...\n"
     ]
    },
    {
     "name": "stderr",
     "output_type": "stream",
     "text": [
      " ...done. (2 seconds, 0 min)\n"
     ]
    },
    {
     "name": "stdout",
     "output_type": "stream",
     "text": [
      "Downloading data from https://s3.amazonaws.com/fcp-indi/data/Projects/ABIDE_Initiative/Outputs/cpac/filt_noglobal/rois_ho/SBL_0051567_rois_ho.1D ...\n"
     ]
    },
    {
     "name": "stderr",
     "output_type": "stream",
     "text": [
      " ...done. (2 seconds, 0 min)\n"
     ]
    },
    {
     "name": "stdout",
     "output_type": "stream",
     "text": [
      "Downloading data from https://s3.amazonaws.com/fcp-indi/data/Projects/ABIDE_Initiative/Outputs/cpac/filt_noglobal/rois_ho/SBL_0051568_rois_ho.1D ...\n"
     ]
    },
    {
     "name": "stderr",
     "output_type": "stream",
     "text": [
      " ...done. (2 seconds, 0 min)\n"
     ]
    },
    {
     "name": "stdout",
     "output_type": "stream",
     "text": [
      "Downloading data from https://s3.amazonaws.com/fcp-indi/data/Projects/ABIDE_Initiative/Outputs/cpac/filt_noglobal/rois_ho/SBL_0051569_rois_ho.1D ...\n"
     ]
    },
    {
     "name": "stderr",
     "output_type": "stream",
     "text": [
      " ...done. (2 seconds, 0 min)\n"
     ]
    },
    {
     "name": "stdout",
     "output_type": "stream",
     "text": [
      "Downloading data from https://s3.amazonaws.com/fcp-indi/data/Projects/ABIDE_Initiative/Outputs/cpac/filt_noglobal/rois_ho/SBL_0051570_rois_ho.1D ...\n"
     ]
    },
    {
     "name": "stderr",
     "output_type": "stream",
     "text": [
      " ...done. (2 seconds, 0 min)\n"
     ]
    },
    {
     "name": "stdout",
     "output_type": "stream",
     "text": [
      "Downloading data from https://s3.amazonaws.com/fcp-indi/data/Projects/ABIDE_Initiative/Outputs/cpac/filt_noglobal/rois_ho/SBL_0051572_rois_ho.1D ...\n"
     ]
    },
    {
     "name": "stderr",
     "output_type": "stream",
     "text": [
      " ...done. (2 seconds, 0 min)\n"
     ]
    },
    {
     "name": "stdout",
     "output_type": "stream",
     "text": [
      "Downloading data from https://s3.amazonaws.com/fcp-indi/data/Projects/ABIDE_Initiative/Outputs/cpac/filt_noglobal/rois_ho/SBL_0051573_rois_ho.1D ...\n"
     ]
    },
    {
     "name": "stderr",
     "output_type": "stream",
     "text": [
      " ...done. (2 seconds, 0 min)\n"
     ]
    },
    {
     "name": "stdout",
     "output_type": "stream",
     "text": [
      "Downloading data from https://s3.amazonaws.com/fcp-indi/data/Projects/ABIDE_Initiative/Outputs/cpac/filt_noglobal/rois_ho/SBL_0051574_rois_ho.1D ...\n"
     ]
    },
    {
     "name": "stderr",
     "output_type": "stream",
     "text": [
      " ...done. (2 seconds, 0 min)\n"
     ]
    },
    {
     "name": "stdout",
     "output_type": "stream",
     "text": [
      "Downloading data from https://s3.amazonaws.com/fcp-indi/data/Projects/ABIDE_Initiative/Outputs/cpac/filt_noglobal/rois_ho/SBL_0051576_rois_ho.1D ...\n"
     ]
    },
    {
     "name": "stderr",
     "output_type": "stream",
     "text": [
      " ...done. (2 seconds, 0 min)\n"
     ]
    },
    {
     "name": "stdout",
     "output_type": "stream",
     "text": [
      "Downloading data from https://s3.amazonaws.com/fcp-indi/data/Projects/ABIDE_Initiative/Outputs/cpac/filt_noglobal/rois_ho/SBL_0051577_rois_ho.1D ...\n"
     ]
    },
    {
     "name": "stderr",
     "output_type": "stream",
     "text": [
      " ...done. (2 seconds, 0 min)\n"
     ]
    },
    {
     "name": "stdout",
     "output_type": "stream",
     "text": [
      "Downloading data from https://s3.amazonaws.com/fcp-indi/data/Projects/ABIDE_Initiative/Outputs/cpac/filt_noglobal/rois_ho/SBL_0051578_rois_ho.1D ...\n"
     ]
    },
    {
     "name": "stderr",
     "output_type": "stream",
     "text": [
      " ...done. (2 seconds, 0 min)\n"
     ]
    },
    {
     "name": "stdout",
     "output_type": "stream",
     "text": [
      "Downloading data from https://s3.amazonaws.com/fcp-indi/data/Projects/ABIDE_Initiative/Outputs/cpac/filt_noglobal/rois_ho/SBL_0051579_rois_ho.1D ...\n"
     ]
    },
    {
     "name": "stderr",
     "output_type": "stream",
     "text": [
      " ...done. (2 seconds, 0 min)\n"
     ]
    },
    {
     "name": "stdout",
     "output_type": "stream",
     "text": [
      "Downloading data from https://s3.amazonaws.com/fcp-indi/data/Projects/ABIDE_Initiative/Outputs/cpac/filt_noglobal/rois_ho/SBL_0051580_rois_ho.1D ...\n"
     ]
    },
    {
     "name": "stderr",
     "output_type": "stream",
     "text": [
      " ...done. (2 seconds, 0 min)\n"
     ]
    },
    {
     "name": "stdout",
     "output_type": "stream",
     "text": [
      "Downloading data from https://s3.amazonaws.com/fcp-indi/data/Projects/ABIDE_Initiative/Outputs/cpac/filt_noglobal/rois_ho/SBL_0051582_rois_ho.1D ...\n"
     ]
    },
    {
     "name": "stderr",
     "output_type": "stream",
     "text": [
      " ...done. (2 seconds, 0 min)\n"
     ]
    },
    {
     "name": "stdout",
     "output_type": "stream",
     "text": [
      "Downloading data from https://s3.amazonaws.com/fcp-indi/data/Projects/ABIDE_Initiative/Outputs/cpac/filt_noglobal/rois_ho/SBL_0051583_rois_ho.1D ...\n"
     ]
    },
    {
     "name": "stderr",
     "output_type": "stream",
     "text": [
      " ...done. (2 seconds, 0 min)\n"
     ]
    },
    {
     "name": "stdout",
     "output_type": "stream",
     "text": [
      "Downloading data from https://s3.amazonaws.com/fcp-indi/data/Projects/ABIDE_Initiative/Outputs/cpac/filt_noglobal/rois_ho/SBL_0051584_rois_ho.1D ...\n"
     ]
    },
    {
     "name": "stderr",
     "output_type": "stream",
     "text": [
      " ...done. (2 seconds, 0 min)\n"
     ]
    },
    {
     "name": "stdout",
     "output_type": "stream",
     "text": [
      "Downloading data from https://s3.amazonaws.com/fcp-indi/data/Projects/ABIDE_Initiative/Outputs/cpac/filt_noglobal/rois_ho/SBL_0051585_rois_ho.1D ...\n"
     ]
    },
    {
     "name": "stderr",
     "output_type": "stream",
     "text": [
      " ...done. (2 seconds, 0 min)\n"
     ]
    },
    {
     "name": "stdout",
     "output_type": "stream",
     "text": [
      "Downloading data from https://s3.amazonaws.com/fcp-indi/data/Projects/ABIDE_Initiative/Outputs/cpac/filt_noglobal/rois_ho/MaxMun_a_0051606_rois_ho.1D ...\n"
     ]
    },
    {
     "name": "stderr",
     "output_type": "stream",
     "text": [
      " ...done. (1 seconds, 0 min)\n"
     ]
    },
    {
     "name": "stdout",
     "output_type": "stream",
     "text": [
      "Downloading data from https://s3.amazonaws.com/fcp-indi/data/Projects/ABIDE_Initiative/Outputs/cpac/filt_noglobal/rois_ho/MaxMun_a_0051607_rois_ho.1D ...\n"
     ]
    },
    {
     "name": "stderr",
     "output_type": "stream",
     "text": [
      " ...done. (1 seconds, 0 min)\n"
     ]
    }
   ],
   "source": [
    "# Download database files\n",
    "abide = datasets.fetch_abide_pcp(data_dir=root_folder, n_subjects=num_subjects, pipeline=pipeline,\n",
    "                                 band_pass_filtering=True, global_signal_regression=False, derivatives=files)\n",
    "\n",
    "\n",
    "#subject_IDs = Reader.get_ids(num_subjects)\n",
    "#subject_IDs = subject_IDs.tolist()"
   ]
  },
  {
   "cell_type": "code",
   "execution_count": 4,
   "metadata": {
    "collapsed": true,
    "jupyter": {
     "outputs_hidden": true
    }
   },
   "outputs": [
    {
     "name": "stdout",
     "output_type": "stream",
     "text": [
      "Reading timeseries file /data/zfzhu/zs/MMGL/miccai_ABIDE/data/ABIDE_pcp/cpac/filt_noglobal/50003/Pitt_0050003_rois_ho.1D\n",
      "Reading timeseries file /data/zfzhu/zs/MMGL/miccai_ABIDE/data/ABIDE_pcp/cpac/filt_noglobal/50004/Pitt_0050004_rois_ho.1D\n",
      "Reading timeseries file /data/zfzhu/zs/MMGL/miccai_ABIDE/data/ABIDE_pcp/cpac/filt_noglobal/50005/Pitt_0050005_rois_ho.1D\n",
      "Reading timeseries file /data/zfzhu/zs/MMGL/miccai_ABIDE/data/ABIDE_pcp/cpac/filt_noglobal/50006/Pitt_0050006_rois_ho.1D\n",
      "Reading timeseries file /data/zfzhu/zs/MMGL/miccai_ABIDE/data/ABIDE_pcp/cpac/filt_noglobal/50007/Pitt_0050007_rois_ho.1D\n",
      "Reading timeseries file /data/zfzhu/zs/MMGL/miccai_ABIDE/data/ABIDE_pcp/cpac/filt_noglobal/50008/Pitt_0050008_rois_ho.1D\n",
      "Reading timeseries file /data/zfzhu/zs/MMGL/miccai_ABIDE/data/ABIDE_pcp/cpac/filt_noglobal/50010/Pitt_0050010_rois_ho.1D\n",
      "Reading timeseries file /data/zfzhu/zs/MMGL/miccai_ABIDE/data/ABIDE_pcp/cpac/filt_noglobal/50011/Pitt_0050011_rois_ho.1D\n",
      "Reading timeseries file /data/zfzhu/zs/MMGL/miccai_ABIDE/data/ABIDE_pcp/cpac/filt_noglobal/50012/Pitt_0050012_rois_ho.1D\n",
      "Reading timeseries file /data/zfzhu/zs/MMGL/miccai_ABIDE/data/ABIDE_pcp/cpac/filt_noglobal/50013/Pitt_0050013_rois_ho.1D\n",
      "Reading timeseries file /data/zfzhu/zs/MMGL/miccai_ABIDE/data/ABIDE_pcp/cpac/filt_noglobal/50014/Pitt_0050014_rois_ho.1D\n",
      "Reading timeseries file /data/zfzhu/zs/MMGL/miccai_ABIDE/data/ABIDE_pcp/cpac/filt_noglobal/50015/Pitt_0050015_rois_ho.1D\n",
      "Reading timeseries file /data/zfzhu/zs/MMGL/miccai_ABIDE/data/ABIDE_pcp/cpac/filt_noglobal/50016/Pitt_0050016_rois_ho.1D\n",
      "Reading timeseries file /data/zfzhu/zs/MMGL/miccai_ABIDE/data/ABIDE_pcp/cpac/filt_noglobal/50020/Pitt_0050020_rois_ho.1D\n",
      "Reading timeseries file /data/zfzhu/zs/MMGL/miccai_ABIDE/data/ABIDE_pcp/cpac/filt_noglobal/50022/Pitt_0050022_rois_ho.1D\n",
      "Reading timeseries file /data/zfzhu/zs/MMGL/miccai_ABIDE/data/ABIDE_pcp/cpac/filt_noglobal/50023/Pitt_0050023_rois_ho.1D\n",
      "Reading timeseries file /data/zfzhu/zs/MMGL/miccai_ABIDE/data/ABIDE_pcp/cpac/filt_noglobal/50024/Pitt_0050024_rois_ho.1D\n",
      "Reading timeseries file /data/zfzhu/zs/MMGL/miccai_ABIDE/data/ABIDE_pcp/cpac/filt_noglobal/50025/Pitt_0050025_rois_ho.1D\n",
      "Reading timeseries file /data/zfzhu/zs/MMGL/miccai_ABIDE/data/ABIDE_pcp/cpac/filt_noglobal/50026/Pitt_0050026_rois_ho.1D\n",
      "Reading timeseries file /data/zfzhu/zs/MMGL/miccai_ABIDE/data/ABIDE_pcp/cpac/filt_noglobal/50027/Pitt_0050027_rois_ho.1D\n",
      "Reading timeseries file /data/zfzhu/zs/MMGL/miccai_ABIDE/data/ABIDE_pcp/cpac/filt_noglobal/50028/Pitt_0050028_rois_ho.1D\n",
      "Reading timeseries file /data/zfzhu/zs/MMGL/miccai_ABIDE/data/ABIDE_pcp/cpac/filt_noglobal/50030/Pitt_0050030_rois_ho.1D\n",
      "Reading timeseries file /data/zfzhu/zs/MMGL/miccai_ABIDE/data/ABIDE_pcp/cpac/filt_noglobal/50031/Pitt_0050031_rois_ho.1D\n",
      "Reading timeseries file /data/zfzhu/zs/MMGL/miccai_ABIDE/data/ABIDE_pcp/cpac/filt_noglobal/50032/Pitt_0050032_rois_ho.1D\n",
      "Reading timeseries file /data/zfzhu/zs/MMGL/miccai_ABIDE/data/ABIDE_pcp/cpac/filt_noglobal/50033/Pitt_0050033_rois_ho.1D\n",
      "Reading timeseries file /data/zfzhu/zs/MMGL/miccai_ABIDE/data/ABIDE_pcp/cpac/filt_noglobal/50034/Pitt_0050034_rois_ho.1D\n",
      "Reading timeseries file /data/zfzhu/zs/MMGL/miccai_ABIDE/data/ABIDE_pcp/cpac/filt_noglobal/50035/Pitt_0050035_rois_ho.1D\n",
      "Reading timeseries file /data/zfzhu/zs/MMGL/miccai_ABIDE/data/ABIDE_pcp/cpac/filt_noglobal/50036/Pitt_0050036_rois_ho.1D\n",
      "Reading timeseries file /data/zfzhu/zs/MMGL/miccai_ABIDE/data/ABIDE_pcp/cpac/filt_noglobal/50037/Pitt_0050037_rois_ho.1D\n",
      "Reading timeseries file /data/zfzhu/zs/MMGL/miccai_ABIDE/data/ABIDE_pcp/cpac/filt_noglobal/50038/Pitt_0050038_rois_ho.1D\n",
      "Reading timeseries file /data/zfzhu/zs/MMGL/miccai_ABIDE/data/ABIDE_pcp/cpac/filt_noglobal/50039/Pitt_0050039_rois_ho.1D\n",
      "Reading timeseries file /data/zfzhu/zs/MMGL/miccai_ABIDE/data/ABIDE_pcp/cpac/filt_noglobal/50040/Pitt_0050040_rois_ho.1D\n",
      "Reading timeseries file /data/zfzhu/zs/MMGL/miccai_ABIDE/data/ABIDE_pcp/cpac/filt_noglobal/50041/Pitt_0050041_rois_ho.1D\n",
      "Reading timeseries file /data/zfzhu/zs/MMGL/miccai_ABIDE/data/ABIDE_pcp/cpac/filt_noglobal/50042/Pitt_0050042_rois_ho.1D\n",
      "Reading timeseries file /data/zfzhu/zs/MMGL/miccai_ABIDE/data/ABIDE_pcp/cpac/filt_noglobal/50043/Pitt_0050043_rois_ho.1D\n",
      "Reading timeseries file /data/zfzhu/zs/MMGL/miccai_ABIDE/data/ABIDE_pcp/cpac/filt_noglobal/50044/Pitt_0050044_rois_ho.1D\n",
      "Reading timeseries file /data/zfzhu/zs/MMGL/miccai_ABIDE/data/ABIDE_pcp/cpac/filt_noglobal/50045/Pitt_0050045_rois_ho.1D\n",
      "Reading timeseries file /data/zfzhu/zs/MMGL/miccai_ABIDE/data/ABIDE_pcp/cpac/filt_noglobal/50046/Pitt_0050046_rois_ho.1D\n",
      "Reading timeseries file /data/zfzhu/zs/MMGL/miccai_ABIDE/data/ABIDE_pcp/cpac/filt_noglobal/50047/Pitt_0050047_rois_ho.1D\n",
      "Reading timeseries file /data/zfzhu/zs/MMGL/miccai_ABIDE/data/ABIDE_pcp/cpac/filt_noglobal/50048/Pitt_0050048_rois_ho.1D\n",
      "Reading timeseries file /data/zfzhu/zs/MMGL/miccai_ABIDE/data/ABIDE_pcp/cpac/filt_noglobal/50049/Pitt_0050049_rois_ho.1D\n",
      "Reading timeseries file /data/zfzhu/zs/MMGL/miccai_ABIDE/data/ABIDE_pcp/cpac/filt_noglobal/50050/Pitt_0050050_rois_ho.1D\n",
      "Reading timeseries file /data/zfzhu/zs/MMGL/miccai_ABIDE/data/ABIDE_pcp/cpac/filt_noglobal/50051/Pitt_0050051_rois_ho.1D\n",
      "Reading timeseries file /data/zfzhu/zs/MMGL/miccai_ABIDE/data/ABIDE_pcp/cpac/filt_noglobal/50052/Pitt_0050052_rois_ho.1D\n",
      "Reading timeseries file /data/zfzhu/zs/MMGL/miccai_ABIDE/data/ABIDE_pcp/cpac/filt_noglobal/50053/Pitt_0050053_rois_ho.1D\n",
      "Reading timeseries file /data/zfzhu/zs/MMGL/miccai_ABIDE/data/ABIDE_pcp/cpac/filt_noglobal/50054/Pitt_0050054_rois_ho.1D\n",
      "Reading timeseries file /data/zfzhu/zs/MMGL/miccai_ABIDE/data/ABIDE_pcp/cpac/filt_noglobal/50056/Pitt_0050056_rois_ho.1D\n",
      "Reading timeseries file /data/zfzhu/zs/MMGL/miccai_ABIDE/data/ABIDE_pcp/cpac/filt_noglobal/50057/Pitt_0050057_rois_ho.1D\n",
      "Reading timeseries file /data/zfzhu/zs/MMGL/miccai_ABIDE/data/ABIDE_pcp/cpac/filt_noglobal/50059/Pitt_0050059_rois_ho.1D\n",
      "Reading timeseries file /data/zfzhu/zs/MMGL/miccai_ABIDE/data/ABIDE_pcp/cpac/filt_noglobal/50060/Pitt_0050060_rois_ho.1D\n",
      "Reading timeseries file /data/zfzhu/zs/MMGL/miccai_ABIDE/data/ABIDE_pcp/cpac/filt_noglobal/50102/Olin_0050102_rois_ho.1D\n",
      "Reading timeseries file /data/zfzhu/zs/MMGL/miccai_ABIDE/data/ABIDE_pcp/cpac/filt_noglobal/50103/Olin_0050103_rois_ho.1D\n",
      "Reading timeseries file /data/zfzhu/zs/MMGL/miccai_ABIDE/data/ABIDE_pcp/cpac/filt_noglobal/50104/Olin_0050104_rois_ho.1D\n",
      "Reading timeseries file /data/zfzhu/zs/MMGL/miccai_ABIDE/data/ABIDE_pcp/cpac/filt_noglobal/50105/Olin_0050105_rois_ho.1D\n",
      "Reading timeseries file /data/zfzhu/zs/MMGL/miccai_ABIDE/data/ABIDE_pcp/cpac/filt_noglobal/50106/Olin_0050106_rois_ho.1D\n",
      "Reading timeseries file /data/zfzhu/zs/MMGL/miccai_ABIDE/data/ABIDE_pcp/cpac/filt_noglobal/50107/Olin_0050107_rois_ho.1D\n",
      "Reading timeseries file /data/zfzhu/zs/MMGL/miccai_ABIDE/data/ABIDE_pcp/cpac/filt_noglobal/50109/Olin_0050109_rois_ho.1D\n",
      "Reading timeseries file /data/zfzhu/zs/MMGL/miccai_ABIDE/data/ABIDE_pcp/cpac/filt_noglobal/50111/Olin_0050111_rois_ho.1D\n",
      "Reading timeseries file /data/zfzhu/zs/MMGL/miccai_ABIDE/data/ABIDE_pcp/cpac/filt_noglobal/50112/Olin_0050112_rois_ho.1D\n",
      "Reading timeseries file /data/zfzhu/zs/MMGL/miccai_ABIDE/data/ABIDE_pcp/cpac/filt_noglobal/50113/Olin_0050113_rois_ho.1D\n",
      "Reading timeseries file /data/zfzhu/zs/MMGL/miccai_ABIDE/data/ABIDE_pcp/cpac/filt_noglobal/50114/Olin_0050114_rois_ho.1D\n",
      "Reading timeseries file /data/zfzhu/zs/MMGL/miccai_ABIDE/data/ABIDE_pcp/cpac/filt_noglobal/50115/Olin_0050115_rois_ho.1D\n",
      "Reading timeseries file /data/zfzhu/zs/MMGL/miccai_ABIDE/data/ABIDE_pcp/cpac/filt_noglobal/50116/Olin_0050116_rois_ho.1D\n",
      "Reading timeseries file /data/zfzhu/zs/MMGL/miccai_ABIDE/data/ABIDE_pcp/cpac/filt_noglobal/50117/Olin_0050117_rois_ho.1D\n",
      "Reading timeseries file /data/zfzhu/zs/MMGL/miccai_ABIDE/data/ABIDE_pcp/cpac/filt_noglobal/50118/Olin_0050118_rois_ho.1D\n",
      "Reading timeseries file /data/zfzhu/zs/MMGL/miccai_ABIDE/data/ABIDE_pcp/cpac/filt_noglobal/50119/Olin_0050119_rois_ho.1D\n",
      "Reading timeseries file /data/zfzhu/zs/MMGL/miccai_ABIDE/data/ABIDE_pcp/cpac/filt_noglobal/50121/Olin_0050121_rois_ho.1D\n",
      "Reading timeseries file /data/zfzhu/zs/MMGL/miccai_ABIDE/data/ABIDE_pcp/cpac/filt_noglobal/50123/Olin_0050123_rois_ho.1D\n",
      "Reading timeseries file /data/zfzhu/zs/MMGL/miccai_ABIDE/data/ABIDE_pcp/cpac/filt_noglobal/50124/Olin_0050124_rois_ho.1D\n",
      "Reading timeseries file /data/zfzhu/zs/MMGL/miccai_ABIDE/data/ABIDE_pcp/cpac/filt_noglobal/50125/Olin_0050125_rois_ho.1D\n",
      "Reading timeseries file /data/zfzhu/zs/MMGL/miccai_ABIDE/data/ABIDE_pcp/cpac/filt_noglobal/50127/Olin_0050127_rois_ho.1D\n",
      "Reading timeseries file /data/zfzhu/zs/MMGL/miccai_ABIDE/data/ABIDE_pcp/cpac/filt_noglobal/50128/Olin_0050128_rois_ho.1D\n",
      "Reading timeseries file /data/zfzhu/zs/MMGL/miccai_ABIDE/data/ABIDE_pcp/cpac/filt_noglobal/50129/Olin_0050129_rois_ho.1D\n",
      "Reading timeseries file /data/zfzhu/zs/MMGL/miccai_ABIDE/data/ABIDE_pcp/cpac/filt_noglobal/50130/Olin_0050130_rois_ho.1D\n",
      "Reading timeseries file /data/zfzhu/zs/MMGL/miccai_ABIDE/data/ABIDE_pcp/cpac/filt_noglobal/50131/Olin_0050131_rois_ho.1D\n",
      "Reading timeseries file /data/zfzhu/zs/MMGL/miccai_ABIDE/data/ABIDE_pcp/cpac/filt_noglobal/50132/Olin_0050132_rois_ho.1D\n",
      "Reading timeseries file /data/zfzhu/zs/MMGL/miccai_ABIDE/data/ABIDE_pcp/cpac/filt_noglobal/50134/Olin_0050134_rois_ho.1D\n",
      "Reading timeseries file /data/zfzhu/zs/MMGL/miccai_ABIDE/data/ABIDE_pcp/cpac/filt_noglobal/50135/Olin_0050135_rois_ho.1D\n",
      "Reading timeseries file /data/zfzhu/zs/MMGL/miccai_ABIDE/data/ABIDE_pcp/cpac/filt_noglobal/50142/OHSU_0050142_rois_ho.1D\n",
      "Reading timeseries file /data/zfzhu/zs/MMGL/miccai_ABIDE/data/ABIDE_pcp/cpac/filt_noglobal/50143/OHSU_0050143_rois_ho.1D\n",
      "Reading timeseries file /data/zfzhu/zs/MMGL/miccai_ABIDE/data/ABIDE_pcp/cpac/filt_noglobal/50144/OHSU_0050144_rois_ho.1D\n",
      "Reading timeseries file /data/zfzhu/zs/MMGL/miccai_ABIDE/data/ABIDE_pcp/cpac/filt_noglobal/50145/OHSU_0050145_rois_ho.1D\n",
      "Reading timeseries file /data/zfzhu/zs/MMGL/miccai_ABIDE/data/ABIDE_pcp/cpac/filt_noglobal/50146/OHSU_0050146_rois_ho.1D\n",
      "Reading timeseries file /data/zfzhu/zs/MMGL/miccai_ABIDE/data/ABIDE_pcp/cpac/filt_noglobal/50147/OHSU_0050147_rois_ho.1D\n",
      "Reading timeseries file /data/zfzhu/zs/MMGL/miccai_ABIDE/data/ABIDE_pcp/cpac/filt_noglobal/50148/OHSU_0050148_rois_ho.1D\n",
      "Reading timeseries file /data/zfzhu/zs/MMGL/miccai_ABIDE/data/ABIDE_pcp/cpac/filt_noglobal/50149/OHSU_0050149_rois_ho.1D\n",
      "Reading timeseries file /data/zfzhu/zs/MMGL/miccai_ABIDE/data/ABIDE_pcp/cpac/filt_noglobal/50150/OHSU_0050150_rois_ho.1D\n",
      "Reading timeseries file /data/zfzhu/zs/MMGL/miccai_ABIDE/data/ABIDE_pcp/cpac/filt_noglobal/50152/OHSU_0050152_rois_ho.1D\n",
      "Reading timeseries file /data/zfzhu/zs/MMGL/miccai_ABIDE/data/ABIDE_pcp/cpac/filt_noglobal/50153/OHSU_0050153_rois_ho.1D\n",
      "Reading timeseries file /data/zfzhu/zs/MMGL/miccai_ABIDE/data/ABIDE_pcp/cpac/filt_noglobal/50156/OHSU_0050156_rois_ho.1D\n",
      "Reading timeseries file /data/zfzhu/zs/MMGL/miccai_ABIDE/data/ABIDE_pcp/cpac/filt_noglobal/50157/OHSU_0050157_rois_ho.1D\n",
      "Reading timeseries file /data/zfzhu/zs/MMGL/miccai_ABIDE/data/ABIDE_pcp/cpac/filt_noglobal/50158/OHSU_0050158_rois_ho.1D\n",
      "Reading timeseries file /data/zfzhu/zs/MMGL/miccai_ABIDE/data/ABIDE_pcp/cpac/filt_noglobal/50159/OHSU_0050159_rois_ho.1D\n",
      "Reading timeseries file /data/zfzhu/zs/MMGL/miccai_ABIDE/data/ABIDE_pcp/cpac/filt_noglobal/50160/OHSU_0050160_rois_ho.1D\n",
      "Reading timeseries file /data/zfzhu/zs/MMGL/miccai_ABIDE/data/ABIDE_pcp/cpac/filt_noglobal/50161/OHSU_0050161_rois_ho.1D\n",
      "Reading timeseries file /data/zfzhu/zs/MMGL/miccai_ABIDE/data/ABIDE_pcp/cpac/filt_noglobal/50162/OHSU_0050162_rois_ho.1D\n",
      "Reading timeseries file /data/zfzhu/zs/MMGL/miccai_ABIDE/data/ABIDE_pcp/cpac/filt_noglobal/50163/OHSU_0050163_rois_ho.1D\n",
      "Reading timeseries file /data/zfzhu/zs/MMGL/miccai_ABIDE/data/ABIDE_pcp/cpac/filt_noglobal/50164/OHSU_0050164_rois_ho.1D\n",
      "Reading timeseries file /data/zfzhu/zs/MMGL/miccai_ABIDE/data/ABIDE_pcp/cpac/filt_noglobal/50167/OHSU_0050167_rois_ho.1D\n",
      "Reading timeseries file /data/zfzhu/zs/MMGL/miccai_ABIDE/data/ABIDE_pcp/cpac/filt_noglobal/50168/OHSU_0050168_rois_ho.1D\n",
      "Reading timeseries file /data/zfzhu/zs/MMGL/miccai_ABIDE/data/ABIDE_pcp/cpac/filt_noglobal/50169/OHSU_0050169_rois_ho.1D\n",
      "Reading timeseries file /data/zfzhu/zs/MMGL/miccai_ABIDE/data/ABIDE_pcp/cpac/filt_noglobal/50170/OHSU_0050170_rois_ho.1D\n",
      "Reading timeseries file /data/zfzhu/zs/MMGL/miccai_ABIDE/data/ABIDE_pcp/cpac/filt_noglobal/50171/OHSU_0050171_rois_ho.1D\n",
      "Reading timeseries file /data/zfzhu/zs/MMGL/miccai_ABIDE/data/ABIDE_pcp/cpac/filt_noglobal/50182/SDSU_0050182_rois_ho.1D\n",
      "Reading timeseries file /data/zfzhu/zs/MMGL/miccai_ABIDE/data/ABIDE_pcp/cpac/filt_noglobal/50183/SDSU_0050183_rois_ho.1D\n",
      "Reading timeseries file /data/zfzhu/zs/MMGL/miccai_ABIDE/data/ABIDE_pcp/cpac/filt_noglobal/50184/SDSU_0050184_rois_ho.1D\n",
      "Reading timeseries file /data/zfzhu/zs/MMGL/miccai_ABIDE/data/ABIDE_pcp/cpac/filt_noglobal/50186/SDSU_0050186_rois_ho.1D\n",
      "Reading timeseries file /data/zfzhu/zs/MMGL/miccai_ABIDE/data/ABIDE_pcp/cpac/filt_noglobal/50187/SDSU_0050187_rois_ho.1D\n",
      "Reading timeseries file /data/zfzhu/zs/MMGL/miccai_ABIDE/data/ABIDE_pcp/cpac/filt_noglobal/50188/SDSU_0050188_rois_ho.1D\n",
      "Reading timeseries file /data/zfzhu/zs/MMGL/miccai_ABIDE/data/ABIDE_pcp/cpac/filt_noglobal/50189/SDSU_0050189_rois_ho.1D\n",
      "Reading timeseries file /data/zfzhu/zs/MMGL/miccai_ABIDE/data/ABIDE_pcp/cpac/filt_noglobal/50190/SDSU_0050190_rois_ho.1D\n",
      "Reading timeseries file /data/zfzhu/zs/MMGL/miccai_ABIDE/data/ABIDE_pcp/cpac/filt_noglobal/50193/SDSU_0050193_rois_ho.1D\n",
      "Reading timeseries file /data/zfzhu/zs/MMGL/miccai_ABIDE/data/ABIDE_pcp/cpac/filt_noglobal/50194/SDSU_0050194_rois_ho.1D\n",
      "Reading timeseries file /data/zfzhu/zs/MMGL/miccai_ABIDE/data/ABIDE_pcp/cpac/filt_noglobal/50195/SDSU_0050195_rois_ho.1D\n",
      "Reading timeseries file /data/zfzhu/zs/MMGL/miccai_ABIDE/data/ABIDE_pcp/cpac/filt_noglobal/50196/SDSU_0050196_rois_ho.1D\n",
      "Reading timeseries file /data/zfzhu/zs/MMGL/miccai_ABIDE/data/ABIDE_pcp/cpac/filt_noglobal/50198/SDSU_0050198_rois_ho.1D\n",
      "Reading timeseries file /data/zfzhu/zs/MMGL/miccai_ABIDE/data/ABIDE_pcp/cpac/filt_noglobal/50199/SDSU_0050199_rois_ho.1D\n",
      "Reading timeseries file /data/zfzhu/zs/MMGL/miccai_ABIDE/data/ABIDE_pcp/cpac/filt_noglobal/50200/SDSU_0050200_rois_ho.1D\n",
      "Reading timeseries file /data/zfzhu/zs/MMGL/miccai_ABIDE/data/ABIDE_pcp/cpac/filt_noglobal/50201/SDSU_0050201_rois_ho.1D\n",
      "Reading timeseries file /data/zfzhu/zs/MMGL/miccai_ABIDE/data/ABIDE_pcp/cpac/filt_noglobal/50202/SDSU_0050202_rois_ho.1D\n",
      "Reading timeseries file /data/zfzhu/zs/MMGL/miccai_ABIDE/data/ABIDE_pcp/cpac/filt_noglobal/50203/SDSU_0050203_rois_ho.1D\n",
      "Reading timeseries file /data/zfzhu/zs/MMGL/miccai_ABIDE/data/ABIDE_pcp/cpac/filt_noglobal/50204/SDSU_0050204_rois_ho.1D\n",
      "Reading timeseries file /data/zfzhu/zs/MMGL/miccai_ABIDE/data/ABIDE_pcp/cpac/filt_noglobal/50205/SDSU_0050205_rois_ho.1D\n",
      "Reading timeseries file /data/zfzhu/zs/MMGL/miccai_ABIDE/data/ABIDE_pcp/cpac/filt_noglobal/50206/SDSU_0050206_rois_ho.1D\n",
      "Reading timeseries file /data/zfzhu/zs/MMGL/miccai_ABIDE/data/ABIDE_pcp/cpac/filt_noglobal/50208/SDSU_0050208_rois_ho.1D\n",
      "Reading timeseries file /data/zfzhu/zs/MMGL/miccai_ABIDE/data/ABIDE_pcp/cpac/filt_noglobal/50210/SDSU_0050210_rois_ho.1D\n",
      "Reading timeseries file /data/zfzhu/zs/MMGL/miccai_ABIDE/data/ABIDE_pcp/cpac/filt_noglobal/50213/SDSU_0050213_rois_ho.1D\n",
      "Reading timeseries file /data/zfzhu/zs/MMGL/miccai_ABIDE/data/ABIDE_pcp/cpac/filt_noglobal/50214/SDSU_0050214_rois_ho.1D\n",
      "Reading timeseries file /data/zfzhu/zs/MMGL/miccai_ABIDE/data/ABIDE_pcp/cpac/filt_noglobal/50215/SDSU_0050215_rois_ho.1D\n",
      "Reading timeseries file /data/zfzhu/zs/MMGL/miccai_ABIDE/data/ABIDE_pcp/cpac/filt_noglobal/50217/SDSU_0050217_rois_ho.1D\n",
      "Reading timeseries file /data/zfzhu/zs/MMGL/miccai_ABIDE/data/ABIDE_pcp/cpac/filt_noglobal/50232/Trinity_0050232_rois_ho.1D\n",
      "Reading timeseries file /data/zfzhu/zs/MMGL/miccai_ABIDE/data/ABIDE_pcp/cpac/filt_noglobal/50233/Trinity_0050233_rois_ho.1D\n",
      "Reading timeseries file /data/zfzhu/zs/MMGL/miccai_ABIDE/data/ABIDE_pcp/cpac/filt_noglobal/50234/Trinity_0050234_rois_ho.1D\n",
      "Reading timeseries file /data/zfzhu/zs/MMGL/miccai_ABIDE/data/ABIDE_pcp/cpac/filt_noglobal/50236/Trinity_0050236_rois_ho.1D\n",
      "Reading timeseries file /data/zfzhu/zs/MMGL/miccai_ABIDE/data/ABIDE_pcp/cpac/filt_noglobal/50237/Trinity_0050237_rois_ho.1D\n",
      "Reading timeseries file /data/zfzhu/zs/MMGL/miccai_ABIDE/data/ABIDE_pcp/cpac/filt_noglobal/50239/Trinity_0050239_rois_ho.1D\n",
      "Reading timeseries file /data/zfzhu/zs/MMGL/miccai_ABIDE/data/ABIDE_pcp/cpac/filt_noglobal/50240/Trinity_0050240_rois_ho.1D\n",
      "Reading timeseries file /data/zfzhu/zs/MMGL/miccai_ABIDE/data/ABIDE_pcp/cpac/filt_noglobal/50241/Trinity_0050241_rois_ho.1D\n",
      "Reading timeseries file /data/zfzhu/zs/MMGL/miccai_ABIDE/data/ABIDE_pcp/cpac/filt_noglobal/50243/Trinity_0050243_rois_ho.1D\n",
      "Reading timeseries file /data/zfzhu/zs/MMGL/miccai_ABIDE/data/ABIDE_pcp/cpac/filt_noglobal/50245/Trinity_0050245_rois_ho.1D\n",
      "Reading timeseries file /data/zfzhu/zs/MMGL/miccai_ABIDE/data/ABIDE_pcp/cpac/filt_noglobal/50247/Trinity_0050247_rois_ho.1D\n",
      "Reading timeseries file /data/zfzhu/zs/MMGL/miccai_ABIDE/data/ABIDE_pcp/cpac/filt_noglobal/50248/Trinity_0050248_rois_ho.1D\n",
      "Reading timeseries file /data/zfzhu/zs/MMGL/miccai_ABIDE/data/ABIDE_pcp/cpac/filt_noglobal/50249/Trinity_0050249_rois_ho.1D\n",
      "Reading timeseries file /data/zfzhu/zs/MMGL/miccai_ABIDE/data/ABIDE_pcp/cpac/filt_noglobal/50250/Trinity_0050250_rois_ho.1D\n",
      "Reading timeseries file /data/zfzhu/zs/MMGL/miccai_ABIDE/data/ABIDE_pcp/cpac/filt_noglobal/50251/Trinity_0050251_rois_ho.1D\n",
      "Reading timeseries file /data/zfzhu/zs/MMGL/miccai_ABIDE/data/ABIDE_pcp/cpac/filt_noglobal/50252/Trinity_0050252_rois_ho.1D\n",
      "Reading timeseries file /data/zfzhu/zs/MMGL/miccai_ABIDE/data/ABIDE_pcp/cpac/filt_noglobal/50253/Trinity_0050253_rois_ho.1D\n",
      "Reading timeseries file /data/zfzhu/zs/MMGL/miccai_ABIDE/data/ABIDE_pcp/cpac/filt_noglobal/50254/Trinity_0050254_rois_ho.1D\n",
      "Reading timeseries file /data/zfzhu/zs/MMGL/miccai_ABIDE/data/ABIDE_pcp/cpac/filt_noglobal/50255/Trinity_0050255_rois_ho.1D\n",
      "Reading timeseries file /data/zfzhu/zs/MMGL/miccai_ABIDE/data/ABIDE_pcp/cpac/filt_noglobal/50257/Trinity_0050257_rois_ho.1D\n",
      "Reading timeseries file /data/zfzhu/zs/MMGL/miccai_ABIDE/data/ABIDE_pcp/cpac/filt_noglobal/50259/Trinity_0050259_rois_ho.1D\n",
      "Reading timeseries file /data/zfzhu/zs/MMGL/miccai_ABIDE/data/ABIDE_pcp/cpac/filt_noglobal/50260/Trinity_0050260_rois_ho.1D\n",
      "Reading timeseries file /data/zfzhu/zs/MMGL/miccai_ABIDE/data/ABIDE_pcp/cpac/filt_noglobal/50261/Trinity_0050261_rois_ho.1D\n",
      "Reading timeseries file /data/zfzhu/zs/MMGL/miccai_ABIDE/data/ABIDE_pcp/cpac/filt_noglobal/50262/Trinity_0050262_rois_ho.1D\n",
      "Reading timeseries file /data/zfzhu/zs/MMGL/miccai_ABIDE/data/ABIDE_pcp/cpac/filt_noglobal/50263/Trinity_0050263_rois_ho.1D\n",
      "Reading timeseries file /data/zfzhu/zs/MMGL/miccai_ABIDE/data/ABIDE_pcp/cpac/filt_noglobal/50264/Trinity_0050264_rois_ho.1D\n",
      "Reading timeseries file /data/zfzhu/zs/MMGL/miccai_ABIDE/data/ABIDE_pcp/cpac/filt_noglobal/50265/Trinity_0050265_rois_ho.1D\n",
      "Reading timeseries file /data/zfzhu/zs/MMGL/miccai_ABIDE/data/ABIDE_pcp/cpac/filt_noglobal/50266/Trinity_0050266_rois_ho.1D\n",
      "Reading timeseries file /data/zfzhu/zs/MMGL/miccai_ABIDE/data/ABIDE_pcp/cpac/filt_noglobal/50267/Trinity_0050267_rois_ho.1D\n",
      "Reading timeseries file /data/zfzhu/zs/MMGL/miccai_ABIDE/data/ABIDE_pcp/cpac/filt_noglobal/50268/Trinity_0050268_rois_ho.1D\n",
      "Reading timeseries file /data/zfzhu/zs/MMGL/miccai_ABIDE/data/ABIDE_pcp/cpac/filt_noglobal/50269/Trinity_0050269_rois_ho.1D\n",
      "Reading timeseries file /data/zfzhu/zs/MMGL/miccai_ABIDE/data/ABIDE_pcp/cpac/filt_noglobal/50270/Trinity_0050270_rois_ho.1D\n",
      "Reading timeseries file /data/zfzhu/zs/MMGL/miccai_ABIDE/data/ABIDE_pcp/cpac/filt_noglobal/50271/Trinity_0050271_rois_ho.1D\n",
      "Reading timeseries file /data/zfzhu/zs/MMGL/miccai_ABIDE/data/ABIDE_pcp/cpac/filt_noglobal/50272/UM_1_0050272_rois_ho.1D\n",
      "Reading timeseries file /data/zfzhu/zs/MMGL/miccai_ABIDE/data/ABIDE_pcp/cpac/filt_noglobal/50273/UM_1_0050273_rois_ho.1D\n",
      "Reading timeseries file /data/zfzhu/zs/MMGL/miccai_ABIDE/data/ABIDE_pcp/cpac/filt_noglobal/50274/UM_1_0050274_rois_ho.1D\n",
      "Reading timeseries file /data/zfzhu/zs/MMGL/miccai_ABIDE/data/ABIDE_pcp/cpac/filt_noglobal/50275/UM_1_0050275_rois_ho.1D\n",
      "Reading timeseries file /data/zfzhu/zs/MMGL/miccai_ABIDE/data/ABIDE_pcp/cpac/filt_noglobal/50276/UM_1_0050276_rois_ho.1D\n",
      "Reading timeseries file /data/zfzhu/zs/MMGL/miccai_ABIDE/data/ABIDE_pcp/cpac/filt_noglobal/50278/UM_1_0050278_rois_ho.1D\n",
      "Reading timeseries file /data/zfzhu/zs/MMGL/miccai_ABIDE/data/ABIDE_pcp/cpac/filt_noglobal/50282/UM_1_0050282_rois_ho.1D\n",
      "Reading timeseries file /data/zfzhu/zs/MMGL/miccai_ABIDE/data/ABIDE_pcp/cpac/filt_noglobal/50284/UM_1_0050284_rois_ho.1D\n",
      "Reading timeseries file /data/zfzhu/zs/MMGL/miccai_ABIDE/data/ABIDE_pcp/cpac/filt_noglobal/50285/UM_1_0050285_rois_ho.1D\n",
      "Reading timeseries file /data/zfzhu/zs/MMGL/miccai_ABIDE/data/ABIDE_pcp/cpac/filt_noglobal/50287/UM_1_0050287_rois_ho.1D\n",
      "Reading timeseries file /data/zfzhu/zs/MMGL/miccai_ABIDE/data/ABIDE_pcp/cpac/filt_noglobal/50289/UM_1_0050289_rois_ho.1D\n",
      "Reading timeseries file /data/zfzhu/zs/MMGL/miccai_ABIDE/data/ABIDE_pcp/cpac/filt_noglobal/50290/UM_1_0050290_rois_ho.1D\n",
      "Reading timeseries file /data/zfzhu/zs/MMGL/miccai_ABIDE/data/ABIDE_pcp/cpac/filt_noglobal/50291/UM_1_0050291_rois_ho.1D\n",
      "Reading timeseries file /data/zfzhu/zs/MMGL/miccai_ABIDE/data/ABIDE_pcp/cpac/filt_noglobal/50292/UM_1_0050292_rois_ho.1D\n",
      "Reading timeseries file /data/zfzhu/zs/MMGL/miccai_ABIDE/data/ABIDE_pcp/cpac/filt_noglobal/50293/UM_1_0050293_rois_ho.1D\n",
      "Reading timeseries file /data/zfzhu/zs/MMGL/miccai_ABIDE/data/ABIDE_pcp/cpac/filt_noglobal/50294/UM_1_0050294_rois_ho.1D\n",
      "Reading timeseries file /data/zfzhu/zs/MMGL/miccai_ABIDE/data/ABIDE_pcp/cpac/filt_noglobal/50295/UM_1_0050295_rois_ho.1D\n",
      "Reading timeseries file /data/zfzhu/zs/MMGL/miccai_ABIDE/data/ABIDE_pcp/cpac/filt_noglobal/50297/UM_1_0050297_rois_ho.1D\n",
      "Reading timeseries file /data/zfzhu/zs/MMGL/miccai_ABIDE/data/ABIDE_pcp/cpac/filt_noglobal/50298/UM_1_0050298_rois_ho.1D\n",
      "Reading timeseries file /data/zfzhu/zs/MMGL/miccai_ABIDE/data/ABIDE_pcp/cpac/filt_noglobal/50300/UM_1_0050300_rois_ho.1D\n",
      "Reading timeseries file /data/zfzhu/zs/MMGL/miccai_ABIDE/data/ABIDE_pcp/cpac/filt_noglobal/50301/UM_1_0050301_rois_ho.1D\n",
      "Reading timeseries file /data/zfzhu/zs/MMGL/miccai_ABIDE/data/ABIDE_pcp/cpac/filt_noglobal/50302/UM_1_0050302_rois_ho.1D\n",
      "Reading timeseries file /data/zfzhu/zs/MMGL/miccai_ABIDE/data/ABIDE_pcp/cpac/filt_noglobal/50304/UM_1_0050304_rois_ho.1D\n",
      "Reading timeseries file /data/zfzhu/zs/MMGL/miccai_ABIDE/data/ABIDE_pcp/cpac/filt_noglobal/50308/UM_1_0050308_rois_ho.1D\n",
      "Reading timeseries file /data/zfzhu/zs/MMGL/miccai_ABIDE/data/ABIDE_pcp/cpac/filt_noglobal/50310/UM_1_0050310_rois_ho.1D\n",
      "Reading timeseries file /data/zfzhu/zs/MMGL/miccai_ABIDE/data/ABIDE_pcp/cpac/filt_noglobal/50312/UM_1_0050312_rois_ho.1D\n",
      "Reading timeseries file /data/zfzhu/zs/MMGL/miccai_ABIDE/data/ABIDE_pcp/cpac/filt_noglobal/50314/UM_1_0050314_rois_ho.1D\n",
      "Reading timeseries file /data/zfzhu/zs/MMGL/miccai_ABIDE/data/ABIDE_pcp/cpac/filt_noglobal/50315/UM_1_0050315_rois_ho.1D\n",
      "Reading timeseries file /data/zfzhu/zs/MMGL/miccai_ABIDE/data/ABIDE_pcp/cpac/filt_noglobal/50318/UM_1_0050318_rois_ho.1D\n",
      "Reading timeseries file /data/zfzhu/zs/MMGL/miccai_ABIDE/data/ABIDE_pcp/cpac/filt_noglobal/50319/UM_1_0050319_rois_ho.1D\n",
      "Reading timeseries file /data/zfzhu/zs/MMGL/miccai_ABIDE/data/ABIDE_pcp/cpac/filt_noglobal/50320/UM_1_0050320_rois_ho.1D\n",
      "Reading timeseries file /data/zfzhu/zs/MMGL/miccai_ABIDE/data/ABIDE_pcp/cpac/filt_noglobal/50321/UM_1_0050321_rois_ho.1D\n",
      "Reading timeseries file /data/zfzhu/zs/MMGL/miccai_ABIDE/data/ABIDE_pcp/cpac/filt_noglobal/50324/UM_1_0050324_rois_ho.1D\n",
      "Reading timeseries file /data/zfzhu/zs/MMGL/miccai_ABIDE/data/ABIDE_pcp/cpac/filt_noglobal/50325/UM_1_0050325_rois_ho.1D\n",
      "Reading timeseries file /data/zfzhu/zs/MMGL/miccai_ABIDE/data/ABIDE_pcp/cpac/filt_noglobal/50327/UM_1_0050327_rois_ho.1D\n",
      "Reading timeseries file /data/zfzhu/zs/MMGL/miccai_ABIDE/data/ABIDE_pcp/cpac/filt_noglobal/50329/UM_1_0050329_rois_ho.1D\n",
      "Reading timeseries file /data/zfzhu/zs/MMGL/miccai_ABIDE/data/ABIDE_pcp/cpac/filt_noglobal/50330/UM_1_0050330_rois_ho.1D\n",
      "Reading timeseries file /data/zfzhu/zs/MMGL/miccai_ABIDE/data/ABIDE_pcp/cpac/filt_noglobal/50331/UM_1_0050331_rois_ho.1D\n",
      "Reading timeseries file /data/zfzhu/zs/MMGL/miccai_ABIDE/data/ABIDE_pcp/cpac/filt_noglobal/50332/UM_1_0050332_rois_ho.1D\n",
      "Reading timeseries file /data/zfzhu/zs/MMGL/miccai_ABIDE/data/ABIDE_pcp/cpac/filt_noglobal/50333/UM_1_0050333_rois_ho.1D\n",
      "Reading timeseries file /data/zfzhu/zs/MMGL/miccai_ABIDE/data/ABIDE_pcp/cpac/filt_noglobal/50334/UM_1_0050334_rois_ho.1D\n",
      "Reading timeseries file /data/zfzhu/zs/MMGL/miccai_ABIDE/data/ABIDE_pcp/cpac/filt_noglobal/50335/UM_1_0050335_rois_ho.1D\n",
      "Reading timeseries file /data/zfzhu/zs/MMGL/miccai_ABIDE/data/ABIDE_pcp/cpac/filt_noglobal/50336/UM_1_0050336_rois_ho.1D\n",
      "Reading timeseries file /data/zfzhu/zs/MMGL/miccai_ABIDE/data/ABIDE_pcp/cpac/filt_noglobal/50337/UM_1_0050337_rois_ho.1D\n",
      "Reading timeseries file /data/zfzhu/zs/MMGL/miccai_ABIDE/data/ABIDE_pcp/cpac/filt_noglobal/50338/UM_1_0050338_rois_ho.1D\n",
      "Reading timeseries file /data/zfzhu/zs/MMGL/miccai_ABIDE/data/ABIDE_pcp/cpac/filt_noglobal/50339/UM_1_0050339_rois_ho.1D\n",
      "Reading timeseries file /data/zfzhu/zs/MMGL/miccai_ABIDE/data/ABIDE_pcp/cpac/filt_noglobal/50340/UM_1_0050340_rois_ho.1D\n",
      "Reading timeseries file /data/zfzhu/zs/MMGL/miccai_ABIDE/data/ABIDE_pcp/cpac/filt_noglobal/50341/UM_1_0050341_rois_ho.1D\n",
      "Reading timeseries file /data/zfzhu/zs/MMGL/miccai_ABIDE/data/ABIDE_pcp/cpac/filt_noglobal/50342/UM_1_0050342_rois_ho.1D\n",
      "Reading timeseries file /data/zfzhu/zs/MMGL/miccai_ABIDE/data/ABIDE_pcp/cpac/filt_noglobal/50343/UM_1_0050343_rois_ho.1D\n",
      "Reading timeseries file /data/zfzhu/zs/MMGL/miccai_ABIDE/data/ABIDE_pcp/cpac/filt_noglobal/50344/UM_1_0050344_rois_ho.1D\n",
      "Reading timeseries file /data/zfzhu/zs/MMGL/miccai_ABIDE/data/ABIDE_pcp/cpac/filt_noglobal/50345/UM_1_0050345_rois_ho.1D\n",
      "Reading timeseries file /data/zfzhu/zs/MMGL/miccai_ABIDE/data/ABIDE_pcp/cpac/filt_noglobal/50346/UM_1_0050346_rois_ho.1D\n",
      "Reading timeseries file /data/zfzhu/zs/MMGL/miccai_ABIDE/data/ABIDE_pcp/cpac/filt_noglobal/50347/UM_1_0050347_rois_ho.1D\n",
      "Reading timeseries file /data/zfzhu/zs/MMGL/miccai_ABIDE/data/ABIDE_pcp/cpac/filt_noglobal/50348/UM_1_0050348_rois_ho.1D\n",
      "Reading timeseries file /data/zfzhu/zs/MMGL/miccai_ABIDE/data/ABIDE_pcp/cpac/filt_noglobal/50349/UM_1_0050349_rois_ho.1D\n",
      "Reading timeseries file /data/zfzhu/zs/MMGL/miccai_ABIDE/data/ABIDE_pcp/cpac/filt_noglobal/50350/UM_1_0050350_rois_ho.1D\n",
      "Reading timeseries file /data/zfzhu/zs/MMGL/miccai_ABIDE/data/ABIDE_pcp/cpac/filt_noglobal/50351/UM_1_0050351_rois_ho.1D\n",
      "Reading timeseries file /data/zfzhu/zs/MMGL/miccai_ABIDE/data/ABIDE_pcp/cpac/filt_noglobal/50352/UM_1_0050352_rois_ho.1D\n",
      "Reading timeseries file /data/zfzhu/zs/MMGL/miccai_ABIDE/data/ABIDE_pcp/cpac/filt_noglobal/50353/UM_1_0050353_rois_ho.1D\n",
      "Reading timeseries file /data/zfzhu/zs/MMGL/miccai_ABIDE/data/ABIDE_pcp/cpac/filt_noglobal/50354/UM_1_0050354_rois_ho.1D\n",
      "Reading timeseries file /data/zfzhu/zs/MMGL/miccai_ABIDE/data/ABIDE_pcp/cpac/filt_noglobal/50355/UM_1_0050355_rois_ho.1D\n",
      "Reading timeseries file /data/zfzhu/zs/MMGL/miccai_ABIDE/data/ABIDE_pcp/cpac/filt_noglobal/50356/UM_1_0050356_rois_ho.1D\n",
      "Reading timeseries file /data/zfzhu/zs/MMGL/miccai_ABIDE/data/ABIDE_pcp/cpac/filt_noglobal/50357/UM_1_0050357_rois_ho.1D\n",
      "Reading timeseries file /data/zfzhu/zs/MMGL/miccai_ABIDE/data/ABIDE_pcp/cpac/filt_noglobal/50358/UM_1_0050358_rois_ho.1D\n",
      "Reading timeseries file /data/zfzhu/zs/MMGL/miccai_ABIDE/data/ABIDE_pcp/cpac/filt_noglobal/50359/UM_1_0050359_rois_ho.1D\n",
      "Reading timeseries file /data/zfzhu/zs/MMGL/miccai_ABIDE/data/ABIDE_pcp/cpac/filt_noglobal/50360/UM_1_0050360_rois_ho.1D\n",
      "Reading timeseries file /data/zfzhu/zs/MMGL/miccai_ABIDE/data/ABIDE_pcp/cpac/filt_noglobal/50361/UM_1_0050361_rois_ho.1D\n",
      "Reading timeseries file /data/zfzhu/zs/MMGL/miccai_ABIDE/data/ABIDE_pcp/cpac/filt_noglobal/50362/UM_1_0050362_rois_ho.1D\n",
      "Reading timeseries file /data/zfzhu/zs/MMGL/miccai_ABIDE/data/ABIDE_pcp/cpac/filt_noglobal/50363/UM_1_0050363_rois_ho.1D\n",
      "Reading timeseries file /data/zfzhu/zs/MMGL/miccai_ABIDE/data/ABIDE_pcp/cpac/filt_noglobal/50364/UM_1_0050364_rois_ho.1D\n",
      "Reading timeseries file /data/zfzhu/zs/MMGL/miccai_ABIDE/data/ABIDE_pcp/cpac/filt_noglobal/50365/UM_1_0050365_rois_ho.1D\n",
      "Reading timeseries file /data/zfzhu/zs/MMGL/miccai_ABIDE/data/ABIDE_pcp/cpac/filt_noglobal/50366/UM_1_0050366_rois_ho.1D\n",
      "Reading timeseries file /data/zfzhu/zs/MMGL/miccai_ABIDE/data/ABIDE_pcp/cpac/filt_noglobal/50367/UM_1_0050367_rois_ho.1D\n",
      "Reading timeseries file /data/zfzhu/zs/MMGL/miccai_ABIDE/data/ABIDE_pcp/cpac/filt_noglobal/50368/UM_1_0050368_rois_ho.1D\n",
      "Reading timeseries file /data/zfzhu/zs/MMGL/miccai_ABIDE/data/ABIDE_pcp/cpac/filt_noglobal/50369/UM_1_0050369_rois_ho.1D\n",
      "Reading timeseries file /data/zfzhu/zs/MMGL/miccai_ABIDE/data/ABIDE_pcp/cpac/filt_noglobal/50370/UM_1_0050370_rois_ho.1D\n",
      "Reading timeseries file /data/zfzhu/zs/MMGL/miccai_ABIDE/data/ABIDE_pcp/cpac/filt_noglobal/50372/UM_1_0050372_rois_ho.1D\n",
      "Reading timeseries file /data/zfzhu/zs/MMGL/miccai_ABIDE/data/ABIDE_pcp/cpac/filt_noglobal/50373/UM_1_0050373_rois_ho.1D\n",
      "Reading timeseries file /data/zfzhu/zs/MMGL/miccai_ABIDE/data/ABIDE_pcp/cpac/filt_noglobal/50374/UM_1_0050374_rois_ho.1D\n",
      "Reading timeseries file /data/zfzhu/zs/MMGL/miccai_ABIDE/data/ABIDE_pcp/cpac/filt_noglobal/50375/UM_1_0050375_rois_ho.1D\n",
      "Reading timeseries file /data/zfzhu/zs/MMGL/miccai_ABIDE/data/ABIDE_pcp/cpac/filt_noglobal/50376/UM_1_0050376_rois_ho.1D\n",
      "Reading timeseries file /data/zfzhu/zs/MMGL/miccai_ABIDE/data/ABIDE_pcp/cpac/filt_noglobal/50377/UM_1_0050377_rois_ho.1D\n",
      "Reading timeseries file /data/zfzhu/zs/MMGL/miccai_ABIDE/data/ABIDE_pcp/cpac/filt_noglobal/50379/UM_1_0050379_rois_ho.1D\n",
      "Reading timeseries file /data/zfzhu/zs/MMGL/miccai_ABIDE/data/ABIDE_pcp/cpac/filt_noglobal/50380/UM_1_0050380_rois_ho.1D\n",
      "Reading timeseries file /data/zfzhu/zs/MMGL/miccai_ABIDE/data/ABIDE_pcp/cpac/filt_noglobal/50381/UM_1_0050381_rois_ho.1D\n",
      "Reading timeseries file /data/zfzhu/zs/MMGL/miccai_ABIDE/data/ABIDE_pcp/cpac/filt_noglobal/50382/UM_2_0050382_rois_ho.1D\n",
      "Reading timeseries file /data/zfzhu/zs/MMGL/miccai_ABIDE/data/ABIDE_pcp/cpac/filt_noglobal/50383/UM_2_0050383_rois_ho.1D\n",
      "Reading timeseries file /data/zfzhu/zs/MMGL/miccai_ABIDE/data/ABIDE_pcp/cpac/filt_noglobal/50385/UM_2_0050385_rois_ho.1D\n",
      "Reading timeseries file /data/zfzhu/zs/MMGL/miccai_ABIDE/data/ABIDE_pcp/cpac/filt_noglobal/50386/UM_2_0050386_rois_ho.1D\n",
      "Reading timeseries file /data/zfzhu/zs/MMGL/miccai_ABIDE/data/ABIDE_pcp/cpac/filt_noglobal/50387/UM_2_0050387_rois_ho.1D\n",
      "Reading timeseries file /data/zfzhu/zs/MMGL/miccai_ABIDE/data/ABIDE_pcp/cpac/filt_noglobal/50388/UM_2_0050388_rois_ho.1D\n",
      "Reading timeseries file /data/zfzhu/zs/MMGL/miccai_ABIDE/data/ABIDE_pcp/cpac/filt_noglobal/50390/UM_2_0050390_rois_ho.1D\n",
      "Reading timeseries file /data/zfzhu/zs/MMGL/miccai_ABIDE/data/ABIDE_pcp/cpac/filt_noglobal/50391/UM_2_0050391_rois_ho.1D\n",
      "Reading timeseries file /data/zfzhu/zs/MMGL/miccai_ABIDE/data/ABIDE_pcp/cpac/filt_noglobal/50397/UM_2_0050397_rois_ho.1D\n",
      "Reading timeseries file /data/zfzhu/zs/MMGL/miccai_ABIDE/data/ABIDE_pcp/cpac/filt_noglobal/50399/UM_2_0050399_rois_ho.1D\n",
      "Reading timeseries file /data/zfzhu/zs/MMGL/miccai_ABIDE/data/ABIDE_pcp/cpac/filt_noglobal/50402/UM_2_0050402_rois_ho.1D\n",
      "Reading timeseries file /data/zfzhu/zs/MMGL/miccai_ABIDE/data/ABIDE_pcp/cpac/filt_noglobal/50403/UM_2_0050403_rois_ho.1D\n",
      "Reading timeseries file /data/zfzhu/zs/MMGL/miccai_ABIDE/data/ABIDE_pcp/cpac/filt_noglobal/50404/UM_2_0050404_rois_ho.1D\n",
      "Reading timeseries file /data/zfzhu/zs/MMGL/miccai_ABIDE/data/ABIDE_pcp/cpac/filt_noglobal/50405/UM_2_0050405_rois_ho.1D\n",
      "Reading timeseries file /data/zfzhu/zs/MMGL/miccai_ABIDE/data/ABIDE_pcp/cpac/filt_noglobal/50406/UM_2_0050406_rois_ho.1D\n",
      "Reading timeseries file /data/zfzhu/zs/MMGL/miccai_ABIDE/data/ABIDE_pcp/cpac/filt_noglobal/50407/UM_2_0050407_rois_ho.1D\n",
      "Reading timeseries file /data/zfzhu/zs/MMGL/miccai_ABIDE/data/ABIDE_pcp/cpac/filt_noglobal/50408/UM_2_0050408_rois_ho.1D\n",
      "Reading timeseries file /data/zfzhu/zs/MMGL/miccai_ABIDE/data/ABIDE_pcp/cpac/filt_noglobal/50410/UM_2_0050410_rois_ho.1D\n",
      "Reading timeseries file /data/zfzhu/zs/MMGL/miccai_ABIDE/data/ABIDE_pcp/cpac/filt_noglobal/50411/UM_2_0050411_rois_ho.1D\n",
      "Reading timeseries file /data/zfzhu/zs/MMGL/miccai_ABIDE/data/ABIDE_pcp/cpac/filt_noglobal/50412/UM_2_0050412_rois_ho.1D\n",
      "Reading timeseries file /data/zfzhu/zs/MMGL/miccai_ABIDE/data/ABIDE_pcp/cpac/filt_noglobal/50413/UM_2_0050413_rois_ho.1D\n",
      "Reading timeseries file /data/zfzhu/zs/MMGL/miccai_ABIDE/data/ABIDE_pcp/cpac/filt_noglobal/50414/UM_2_0050414_rois_ho.1D\n",
      "Reading timeseries file /data/zfzhu/zs/MMGL/miccai_ABIDE/data/ABIDE_pcp/cpac/filt_noglobal/50415/UM_2_0050415_rois_ho.1D\n",
      "Reading timeseries file /data/zfzhu/zs/MMGL/miccai_ABIDE/data/ABIDE_pcp/cpac/filt_noglobal/50416/UM_2_0050416_rois_ho.1D\n",
      "Reading timeseries file /data/zfzhu/zs/MMGL/miccai_ABIDE/data/ABIDE_pcp/cpac/filt_noglobal/50417/UM_2_0050417_rois_ho.1D\n",
      "Reading timeseries file /data/zfzhu/zs/MMGL/miccai_ABIDE/data/ABIDE_pcp/cpac/filt_noglobal/50418/UM_2_0050418_rois_ho.1D\n",
      "Reading timeseries file /data/zfzhu/zs/MMGL/miccai_ABIDE/data/ABIDE_pcp/cpac/filt_noglobal/50419/UM_2_0050419_rois_ho.1D\n",
      "Reading timeseries file /data/zfzhu/zs/MMGL/miccai_ABIDE/data/ABIDE_pcp/cpac/filt_noglobal/50421/UM_2_0050421_rois_ho.1D\n",
      "Reading timeseries file /data/zfzhu/zs/MMGL/miccai_ABIDE/data/ABIDE_pcp/cpac/filt_noglobal/50422/UM_2_0050422_rois_ho.1D\n",
      "Reading timeseries file /data/zfzhu/zs/MMGL/miccai_ABIDE/data/ABIDE_pcp/cpac/filt_noglobal/50424/UM_2_0050424_rois_ho.1D\n",
      "Reading timeseries file /data/zfzhu/zs/MMGL/miccai_ABIDE/data/ABIDE_pcp/cpac/filt_noglobal/50425/UM_2_0050425_rois_ho.1D\n",
      "Reading timeseries file /data/zfzhu/zs/MMGL/miccai_ABIDE/data/ABIDE_pcp/cpac/filt_noglobal/50426/UM_2_0050426_rois_ho.1D\n",
      "Reading timeseries file /data/zfzhu/zs/MMGL/miccai_ABIDE/data/ABIDE_pcp/cpac/filt_noglobal/50427/UM_2_0050427_rois_ho.1D\n",
      "Reading timeseries file /data/zfzhu/zs/MMGL/miccai_ABIDE/data/ABIDE_pcp/cpac/filt_noglobal/50428/UM_2_0050428_rois_ho.1D\n",
      "Reading timeseries file /data/zfzhu/zs/MMGL/miccai_ABIDE/data/ABIDE_pcp/cpac/filt_noglobal/50433/USM_0050433_rois_ho.1D\n",
      "Reading timeseries file /data/zfzhu/zs/MMGL/miccai_ABIDE/data/ABIDE_pcp/cpac/filt_noglobal/50434/USM_0050434_rois_ho.1D\n",
      "Reading timeseries file /data/zfzhu/zs/MMGL/miccai_ABIDE/data/ABIDE_pcp/cpac/filt_noglobal/50435/USM_0050435_rois_ho.1D\n",
      "Reading timeseries file /data/zfzhu/zs/MMGL/miccai_ABIDE/data/ABIDE_pcp/cpac/filt_noglobal/50436/USM_0050436_rois_ho.1D\n",
      "Reading timeseries file /data/zfzhu/zs/MMGL/miccai_ABIDE/data/ABIDE_pcp/cpac/filt_noglobal/50437/USM_0050437_rois_ho.1D\n",
      "Reading timeseries file /data/zfzhu/zs/MMGL/miccai_ABIDE/data/ABIDE_pcp/cpac/filt_noglobal/50438/USM_0050438_rois_ho.1D\n",
      "Reading timeseries file /data/zfzhu/zs/MMGL/miccai_ABIDE/data/ABIDE_pcp/cpac/filt_noglobal/50439/USM_0050439_rois_ho.1D\n",
      "Reading timeseries file /data/zfzhu/zs/MMGL/miccai_ABIDE/data/ABIDE_pcp/cpac/filt_noglobal/50440/USM_0050440_rois_ho.1D\n",
      "Reading timeseries file /data/zfzhu/zs/MMGL/miccai_ABIDE/data/ABIDE_pcp/cpac/filt_noglobal/50441/USM_0050441_rois_ho.1D\n",
      "Reading timeseries file /data/zfzhu/zs/MMGL/miccai_ABIDE/data/ABIDE_pcp/cpac/filt_noglobal/50442/USM_0050442_rois_ho.1D\n",
      "Reading timeseries file /data/zfzhu/zs/MMGL/miccai_ABIDE/data/ABIDE_pcp/cpac/filt_noglobal/50443/USM_0050443_rois_ho.1D\n",
      "Reading timeseries file /data/zfzhu/zs/MMGL/miccai_ABIDE/data/ABIDE_pcp/cpac/filt_noglobal/50444/USM_0050444_rois_ho.1D\n",
      "Reading timeseries file /data/zfzhu/zs/MMGL/miccai_ABIDE/data/ABIDE_pcp/cpac/filt_noglobal/50445/USM_0050445_rois_ho.1D\n",
      "Reading timeseries file /data/zfzhu/zs/MMGL/miccai_ABIDE/data/ABIDE_pcp/cpac/filt_noglobal/50446/USM_0050446_rois_ho.1D\n",
      "Reading timeseries file /data/zfzhu/zs/MMGL/miccai_ABIDE/data/ABIDE_pcp/cpac/filt_noglobal/50447/USM_0050447_rois_ho.1D\n",
      "Reading timeseries file /data/zfzhu/zs/MMGL/miccai_ABIDE/data/ABIDE_pcp/cpac/filt_noglobal/50448/USM_0050448_rois_ho.1D\n",
      "Reading timeseries file /data/zfzhu/zs/MMGL/miccai_ABIDE/data/ABIDE_pcp/cpac/filt_noglobal/50449/USM_0050449_rois_ho.1D\n",
      "Reading timeseries file /data/zfzhu/zs/MMGL/miccai_ABIDE/data/ABIDE_pcp/cpac/filt_noglobal/50453/USM_0050453_rois_ho.1D\n",
      "Reading timeseries file /data/zfzhu/zs/MMGL/miccai_ABIDE/data/ABIDE_pcp/cpac/filt_noglobal/50463/USM_0050463_rois_ho.1D\n",
      "Reading timeseries file /data/zfzhu/zs/MMGL/miccai_ABIDE/data/ABIDE_pcp/cpac/filt_noglobal/50466/USM_0050466_rois_ho.1D\n",
      "Reading timeseries file /data/zfzhu/zs/MMGL/miccai_ABIDE/data/ABIDE_pcp/cpac/filt_noglobal/50467/USM_0050467_rois_ho.1D\n",
      "Reading timeseries file /data/zfzhu/zs/MMGL/miccai_ABIDE/data/ABIDE_pcp/cpac/filt_noglobal/50468/USM_0050468_rois_ho.1D\n",
      "Reading timeseries file /data/zfzhu/zs/MMGL/miccai_ABIDE/data/ABIDE_pcp/cpac/filt_noglobal/50469/USM_0050469_rois_ho.1D\n",
      "Reading timeseries file /data/zfzhu/zs/MMGL/miccai_ABIDE/data/ABIDE_pcp/cpac/filt_noglobal/50470/USM_0050470_rois_ho.1D\n",
      "Reading timeseries file /data/zfzhu/zs/MMGL/miccai_ABIDE/data/ABIDE_pcp/cpac/filt_noglobal/50477/USM_0050477_rois_ho.1D\n",
      "Reading timeseries file /data/zfzhu/zs/MMGL/miccai_ABIDE/data/ABIDE_pcp/cpac/filt_noglobal/50480/USM_0050480_rois_ho.1D\n",
      "Reading timeseries file /data/zfzhu/zs/MMGL/miccai_ABIDE/data/ABIDE_pcp/cpac/filt_noglobal/50481/USM_0050481_rois_ho.1D\n",
      "Reading timeseries file /data/zfzhu/zs/MMGL/miccai_ABIDE/data/ABIDE_pcp/cpac/filt_noglobal/50482/USM_0050482_rois_ho.1D\n",
      "Reading timeseries file /data/zfzhu/zs/MMGL/miccai_ABIDE/data/ABIDE_pcp/cpac/filt_noglobal/50483/USM_0050483_rois_ho.1D\n",
      "Reading timeseries file /data/zfzhu/zs/MMGL/miccai_ABIDE/data/ABIDE_pcp/cpac/filt_noglobal/50485/USM_0050485_rois_ho.1D\n",
      "Reading timeseries file /data/zfzhu/zs/MMGL/miccai_ABIDE/data/ABIDE_pcp/cpac/filt_noglobal/50486/USM_0050486_rois_ho.1D\n",
      "Reading timeseries file /data/zfzhu/zs/MMGL/miccai_ABIDE/data/ABIDE_pcp/cpac/filt_noglobal/50487/USM_0050487_rois_ho.1D\n",
      "Reading timeseries file /data/zfzhu/zs/MMGL/miccai_ABIDE/data/ABIDE_pcp/cpac/filt_noglobal/50488/USM_0050488_rois_ho.1D\n",
      "Reading timeseries file /data/zfzhu/zs/MMGL/miccai_ABIDE/data/ABIDE_pcp/cpac/filt_noglobal/50490/USM_0050490_rois_ho.1D\n",
      "Reading timeseries file /data/zfzhu/zs/MMGL/miccai_ABIDE/data/ABIDE_pcp/cpac/filt_noglobal/50491/USM_0050491_rois_ho.1D\n",
      "Reading timeseries file /data/zfzhu/zs/MMGL/miccai_ABIDE/data/ABIDE_pcp/cpac/filt_noglobal/50492/USM_0050492_rois_ho.1D\n",
      "Reading timeseries file /data/zfzhu/zs/MMGL/miccai_ABIDE/data/ABIDE_pcp/cpac/filt_noglobal/50493/USM_0050493_rois_ho.1D\n",
      "Reading timeseries file /data/zfzhu/zs/MMGL/miccai_ABIDE/data/ABIDE_pcp/cpac/filt_noglobal/50494/USM_0050494_rois_ho.1D\n",
      "Reading timeseries file /data/zfzhu/zs/MMGL/miccai_ABIDE/data/ABIDE_pcp/cpac/filt_noglobal/50496/USM_0050496_rois_ho.1D\n",
      "Reading timeseries file /data/zfzhu/zs/MMGL/miccai_ABIDE/data/ABIDE_pcp/cpac/filt_noglobal/50497/USM_0050497_rois_ho.1D\n",
      "Reading timeseries file /data/zfzhu/zs/MMGL/miccai_ABIDE/data/ABIDE_pcp/cpac/filt_noglobal/50498/USM_0050498_rois_ho.1D\n",
      "Reading timeseries file /data/zfzhu/zs/MMGL/miccai_ABIDE/data/ABIDE_pcp/cpac/filt_noglobal/50499/USM_0050499_rois_ho.1D\n",
      "Reading timeseries file /data/zfzhu/zs/MMGL/miccai_ABIDE/data/ABIDE_pcp/cpac/filt_noglobal/50500/USM_0050500_rois_ho.1D\n",
      "Reading timeseries file /data/zfzhu/zs/MMGL/miccai_ABIDE/data/ABIDE_pcp/cpac/filt_noglobal/50501/USM_0050501_rois_ho.1D\n",
      "Reading timeseries file /data/zfzhu/zs/MMGL/miccai_ABIDE/data/ABIDE_pcp/cpac/filt_noglobal/50502/USM_0050502_rois_ho.1D\n",
      "Reading timeseries file /data/zfzhu/zs/MMGL/miccai_ABIDE/data/ABIDE_pcp/cpac/filt_noglobal/50503/USM_0050503_rois_ho.1D\n",
      "Reading timeseries file /data/zfzhu/zs/MMGL/miccai_ABIDE/data/ABIDE_pcp/cpac/filt_noglobal/50504/USM_0050504_rois_ho.1D\n",
      "Reading timeseries file /data/zfzhu/zs/MMGL/miccai_ABIDE/data/ABIDE_pcp/cpac/filt_noglobal/50507/USM_0050507_rois_ho.1D\n",
      "Reading timeseries file /data/zfzhu/zs/MMGL/miccai_ABIDE/data/ABIDE_pcp/cpac/filt_noglobal/50509/USM_0050509_rois_ho.1D\n",
      "Reading timeseries file /data/zfzhu/zs/MMGL/miccai_ABIDE/data/ABIDE_pcp/cpac/filt_noglobal/50510/USM_0050510_rois_ho.1D\n",
      "Reading timeseries file /data/zfzhu/zs/MMGL/miccai_ABIDE/data/ABIDE_pcp/cpac/filt_noglobal/50514/USM_0050514_rois_ho.1D\n",
      "Reading timeseries file /data/zfzhu/zs/MMGL/miccai_ABIDE/data/ABIDE_pcp/cpac/filt_noglobal/50515/USM_0050515_rois_ho.1D\n",
      "Reading timeseries file /data/zfzhu/zs/MMGL/miccai_ABIDE/data/ABIDE_pcp/cpac/filt_noglobal/50516/USM_0050516_rois_ho.1D\n",
      "Reading timeseries file /data/zfzhu/zs/MMGL/miccai_ABIDE/data/ABIDE_pcp/cpac/filt_noglobal/50518/USM_0050518_rois_ho.1D\n",
      "Reading timeseries file /data/zfzhu/zs/MMGL/miccai_ABIDE/data/ABIDE_pcp/cpac/filt_noglobal/50519/USM_0050519_rois_ho.1D\n",
      "Reading timeseries file /data/zfzhu/zs/MMGL/miccai_ABIDE/data/ABIDE_pcp/cpac/filt_noglobal/50520/USM_0050520_rois_ho.1D\n",
      "Reading timeseries file /data/zfzhu/zs/MMGL/miccai_ABIDE/data/ABIDE_pcp/cpac/filt_noglobal/50521/USM_0050521_rois_ho.1D\n",
      "Reading timeseries file /data/zfzhu/zs/MMGL/miccai_ABIDE/data/ABIDE_pcp/cpac/filt_noglobal/50523/USM_0050523_rois_ho.1D\n",
      "Reading timeseries file /data/zfzhu/zs/MMGL/miccai_ABIDE/data/ABIDE_pcp/cpac/filt_noglobal/50524/USM_0050524_rois_ho.1D\n",
      "Reading timeseries file /data/zfzhu/zs/MMGL/miccai_ABIDE/data/ABIDE_pcp/cpac/filt_noglobal/50525/USM_0050525_rois_ho.1D\n",
      "Reading timeseries file /data/zfzhu/zs/MMGL/miccai_ABIDE/data/ABIDE_pcp/cpac/filt_noglobal/50526/USM_0050526_rois_ho.1D\n",
      "Reading timeseries file /data/zfzhu/zs/MMGL/miccai_ABIDE/data/ABIDE_pcp/cpac/filt_noglobal/50527/USM_0050527_rois_ho.1D\n",
      "Reading timeseries file /data/zfzhu/zs/MMGL/miccai_ABIDE/data/ABIDE_pcp/cpac/filt_noglobal/50528/USM_0050528_rois_ho.1D\n",
      "Reading timeseries file /data/zfzhu/zs/MMGL/miccai_ABIDE/data/ABIDE_pcp/cpac/filt_noglobal/50529/USM_0050529_rois_ho.1D\n",
      "Reading timeseries file /data/zfzhu/zs/MMGL/miccai_ABIDE/data/ABIDE_pcp/cpac/filt_noglobal/50530/USM_0050530_rois_ho.1D\n",
      "Reading timeseries file /data/zfzhu/zs/MMGL/miccai_ABIDE/data/ABIDE_pcp/cpac/filt_noglobal/50531/USM_0050531_rois_ho.1D\n",
      "Reading timeseries file /data/zfzhu/zs/MMGL/miccai_ABIDE/data/ABIDE_pcp/cpac/filt_noglobal/50532/USM_0050532_rois_ho.1D\n",
      "Reading timeseries file /data/zfzhu/zs/MMGL/miccai_ABIDE/data/ABIDE_pcp/cpac/filt_noglobal/50551/Yale_0050551_rois_ho.1D\n",
      "Reading timeseries file /data/zfzhu/zs/MMGL/miccai_ABIDE/data/ABIDE_pcp/cpac/filt_noglobal/50552/Yale_0050552_rois_ho.1D\n",
      "Reading timeseries file /data/zfzhu/zs/MMGL/miccai_ABIDE/data/ABIDE_pcp/cpac/filt_noglobal/50555/Yale_0050555_rois_ho.1D\n",
      "Reading timeseries file /data/zfzhu/zs/MMGL/miccai_ABIDE/data/ABIDE_pcp/cpac/filt_noglobal/50557/Yale_0050557_rois_ho.1D\n",
      "Reading timeseries file /data/zfzhu/zs/MMGL/miccai_ABIDE/data/ABIDE_pcp/cpac/filt_noglobal/50558/Yale_0050558_rois_ho.1D\n",
      "Reading timeseries file /data/zfzhu/zs/MMGL/miccai_ABIDE/data/ABIDE_pcp/cpac/filt_noglobal/50561/Yale_0050561_rois_ho.1D\n",
      "Reading timeseries file /data/zfzhu/zs/MMGL/miccai_ABIDE/data/ABIDE_pcp/cpac/filt_noglobal/50563/Yale_0050563_rois_ho.1D\n",
      "Reading timeseries file /data/zfzhu/zs/MMGL/miccai_ABIDE/data/ABIDE_pcp/cpac/filt_noglobal/50565/Yale_0050565_rois_ho.1D\n",
      "Reading timeseries file /data/zfzhu/zs/MMGL/miccai_ABIDE/data/ABIDE_pcp/cpac/filt_noglobal/50568/Yale_0050568_rois_ho.1D\n",
      "Reading timeseries file /data/zfzhu/zs/MMGL/miccai_ABIDE/data/ABIDE_pcp/cpac/filt_noglobal/50569/Yale_0050569_rois_ho.1D\n",
      "Reading timeseries file /data/zfzhu/zs/MMGL/miccai_ABIDE/data/ABIDE_pcp/cpac/filt_noglobal/50570/Yale_0050570_rois_ho.1D\n",
      "Reading timeseries file /data/zfzhu/zs/MMGL/miccai_ABIDE/data/ABIDE_pcp/cpac/filt_noglobal/50571/Yale_0050571_rois_ho.1D\n",
      "Reading timeseries file /data/zfzhu/zs/MMGL/miccai_ABIDE/data/ABIDE_pcp/cpac/filt_noglobal/50572/Yale_0050572_rois_ho.1D\n",
      "Reading timeseries file /data/zfzhu/zs/MMGL/miccai_ABIDE/data/ABIDE_pcp/cpac/filt_noglobal/50573/Yale_0050573_rois_ho.1D\n",
      "Reading timeseries file /data/zfzhu/zs/MMGL/miccai_ABIDE/data/ABIDE_pcp/cpac/filt_noglobal/50574/Yale_0050574_rois_ho.1D\n",
      "Reading timeseries file /data/zfzhu/zs/MMGL/miccai_ABIDE/data/ABIDE_pcp/cpac/filt_noglobal/50575/Yale_0050575_rois_ho.1D\n",
      "Reading timeseries file /data/zfzhu/zs/MMGL/miccai_ABIDE/data/ABIDE_pcp/cpac/filt_noglobal/50576/Yale_0050576_rois_ho.1D\n",
      "Reading timeseries file /data/zfzhu/zs/MMGL/miccai_ABIDE/data/ABIDE_pcp/cpac/filt_noglobal/50577/Yale_0050577_rois_ho.1D\n",
      "Reading timeseries file /data/zfzhu/zs/MMGL/miccai_ABIDE/data/ABIDE_pcp/cpac/filt_noglobal/50578/Yale_0050578_rois_ho.1D\n",
      "Reading timeseries file /data/zfzhu/zs/MMGL/miccai_ABIDE/data/ABIDE_pcp/cpac/filt_noglobal/50601/Yale_0050601_rois_ho.1D\n",
      "Reading timeseries file /data/zfzhu/zs/MMGL/miccai_ABIDE/data/ABIDE_pcp/cpac/filt_noglobal/50602/Yale_0050602_rois_ho.1D\n",
      "Reading timeseries file /data/zfzhu/zs/MMGL/miccai_ABIDE/data/ABIDE_pcp/cpac/filt_noglobal/50603/Yale_0050603_rois_ho.1D\n",
      "Reading timeseries file /data/zfzhu/zs/MMGL/miccai_ABIDE/data/ABIDE_pcp/cpac/filt_noglobal/50604/Yale_0050604_rois_ho.1D\n",
      "Reading timeseries file /data/zfzhu/zs/MMGL/miccai_ABIDE/data/ABIDE_pcp/cpac/filt_noglobal/50606/Yale_0050606_rois_ho.1D\n",
      "Reading timeseries file /data/zfzhu/zs/MMGL/miccai_ABIDE/data/ABIDE_pcp/cpac/filt_noglobal/50607/Yale_0050607_rois_ho.1D\n",
      "Reading timeseries file /data/zfzhu/zs/MMGL/miccai_ABIDE/data/ABIDE_pcp/cpac/filt_noglobal/50608/Yale_0050608_rois_ho.1D\n",
      "Reading timeseries file /data/zfzhu/zs/MMGL/miccai_ABIDE/data/ABIDE_pcp/cpac/filt_noglobal/50612/Yale_0050612_rois_ho.1D\n",
      "Reading timeseries file /data/zfzhu/zs/MMGL/miccai_ABIDE/data/ABIDE_pcp/cpac/filt_noglobal/50613/Yale_0050613_rois_ho.1D\n",
      "Reading timeseries file /data/zfzhu/zs/MMGL/miccai_ABIDE/data/ABIDE_pcp/cpac/filt_noglobal/50614/Yale_0050614_rois_ho.1D\n",
      "Reading timeseries file /data/zfzhu/zs/MMGL/miccai_ABIDE/data/ABIDE_pcp/cpac/filt_noglobal/50615/Yale_0050615_rois_ho.1D\n",
      "Reading timeseries file /data/zfzhu/zs/MMGL/miccai_ABIDE/data/ABIDE_pcp/cpac/filt_noglobal/50616/Yale_0050616_rois_ho.1D\n",
      "Reading timeseries file /data/zfzhu/zs/MMGL/miccai_ABIDE/data/ABIDE_pcp/cpac/filt_noglobal/50619/Yale_0050619_rois_ho.1D\n",
      "Reading timeseries file /data/zfzhu/zs/MMGL/miccai_ABIDE/data/ABIDE_pcp/cpac/filt_noglobal/50620/Yale_0050620_rois_ho.1D\n",
      "Reading timeseries file /data/zfzhu/zs/MMGL/miccai_ABIDE/data/ABIDE_pcp/cpac/filt_noglobal/50621/Yale_0050621_rois_ho.1D\n",
      "Reading timeseries file /data/zfzhu/zs/MMGL/miccai_ABIDE/data/ABIDE_pcp/cpac/filt_noglobal/50622/Yale_0050622_rois_ho.1D\n",
      "Reading timeseries file /data/zfzhu/zs/MMGL/miccai_ABIDE/data/ABIDE_pcp/cpac/filt_noglobal/50623/Yale_0050623_rois_ho.1D\n",
      "Reading timeseries file /data/zfzhu/zs/MMGL/miccai_ABIDE/data/ABIDE_pcp/cpac/filt_noglobal/50624/Yale_0050624_rois_ho.1D\n",
      "Reading timeseries file /data/zfzhu/zs/MMGL/miccai_ABIDE/data/ABIDE_pcp/cpac/filt_noglobal/50625/Yale_0050625_rois_ho.1D\n",
      "Reading timeseries file /data/zfzhu/zs/MMGL/miccai_ABIDE/data/ABIDE_pcp/cpac/filt_noglobal/50626/Yale_0050626_rois_ho.1D\n",
      "Reading timeseries file /data/zfzhu/zs/MMGL/miccai_ABIDE/data/ABIDE_pcp/cpac/filt_noglobal/50627/Yale_0050627_rois_ho.1D\n",
      "Reading timeseries file /data/zfzhu/zs/MMGL/miccai_ABIDE/data/ABIDE_pcp/cpac/filt_noglobal/50628/Yale_0050628_rois_ho.1D\n",
      "Reading timeseries file /data/zfzhu/zs/MMGL/miccai_ABIDE/data/ABIDE_pcp/cpac/filt_noglobal/50642/CMU_a_0050642_rois_ho.1D\n",
      "Reading timeseries file /data/zfzhu/zs/MMGL/miccai_ABIDE/data/ABIDE_pcp/cpac/filt_noglobal/50644/CMU_b_0050644_rois_ho.1D\n",
      "Reading timeseries file /data/zfzhu/zs/MMGL/miccai_ABIDE/data/ABIDE_pcp/cpac/filt_noglobal/50647/CMU_a_0050647_rois_ho.1D\n",
      "Reading timeseries file /data/zfzhu/zs/MMGL/miccai_ABIDE/data/ABIDE_pcp/cpac/filt_noglobal/50648/CMU_b_0050648_rois_ho.1D\n",
      "Reading timeseries file /data/zfzhu/zs/MMGL/miccai_ABIDE/data/ABIDE_pcp/cpac/filt_noglobal/50649/CMU_a_0050649_rois_ho.1D\n",
      "Reading timeseries file /data/zfzhu/zs/MMGL/miccai_ABIDE/data/ABIDE_pcp/cpac/filt_noglobal/50654/CMU_a_0050654_rois_ho.1D\n",
      "Reading timeseries file /data/zfzhu/zs/MMGL/miccai_ABIDE/data/ABIDE_pcp/cpac/filt_noglobal/50656/CMU_a_0050656_rois_ho.1D\n",
      "Reading timeseries file /data/zfzhu/zs/MMGL/miccai_ABIDE/data/ABIDE_pcp/cpac/filt_noglobal/50659/CMU_a_0050659_rois_ho.1D\n",
      "Reading timeseries file /data/zfzhu/zs/MMGL/miccai_ABIDE/data/ABIDE_pcp/cpac/filt_noglobal/50664/CMU_a_0050664_rois_ho.1D\n",
      "Reading timeseries file /data/zfzhu/zs/MMGL/miccai_ABIDE/data/ABIDE_pcp/cpac/filt_noglobal/50665/CMU_a_0050665_rois_ho.1D\n",
      "Reading timeseries file /data/zfzhu/zs/MMGL/miccai_ABIDE/data/ABIDE_pcp/cpac/filt_noglobal/50669/CMU_b_0050669_rois_ho.1D\n",
      "Reading timeseries file /data/zfzhu/zs/MMGL/miccai_ABIDE/data/ABIDE_pcp/cpac/filt_noglobal/50682/Leuven_1_0050682_rois_ho.1D\n",
      "Reading timeseries file /data/zfzhu/zs/MMGL/miccai_ABIDE/data/ABIDE_pcp/cpac/filt_noglobal/50683/Leuven_1_0050683_rois_ho.1D\n",
      "Reading timeseries file /data/zfzhu/zs/MMGL/miccai_ABIDE/data/ABIDE_pcp/cpac/filt_noglobal/50685/Leuven_1_0050685_rois_ho.1D\n",
      "Reading timeseries file /data/zfzhu/zs/MMGL/miccai_ABIDE/data/ABIDE_pcp/cpac/filt_noglobal/50686/Leuven_1_0050686_rois_ho.1D\n",
      "Reading timeseries file /data/zfzhu/zs/MMGL/miccai_ABIDE/data/ABIDE_pcp/cpac/filt_noglobal/50687/Leuven_1_0050687_rois_ho.1D\n",
      "Reading timeseries file /data/zfzhu/zs/MMGL/miccai_ABIDE/data/ABIDE_pcp/cpac/filt_noglobal/50688/Leuven_1_0050688_rois_ho.1D\n",
      "Reading timeseries file /data/zfzhu/zs/MMGL/miccai_ABIDE/data/ABIDE_pcp/cpac/filt_noglobal/50689/Leuven_1_0050689_rois_ho.1D\n",
      "Reading timeseries file /data/zfzhu/zs/MMGL/miccai_ABIDE/data/ABIDE_pcp/cpac/filt_noglobal/50690/Leuven_1_0050690_rois_ho.1D\n",
      "Reading timeseries file /data/zfzhu/zs/MMGL/miccai_ABIDE/data/ABIDE_pcp/cpac/filt_noglobal/50691/Leuven_1_0050691_rois_ho.1D\n",
      "Reading timeseries file /data/zfzhu/zs/MMGL/miccai_ABIDE/data/ABIDE_pcp/cpac/filt_noglobal/50692/Leuven_1_0050692_rois_ho.1D\n",
      "Reading timeseries file /data/zfzhu/zs/MMGL/miccai_ABIDE/data/ABIDE_pcp/cpac/filt_noglobal/50693/Leuven_1_0050693_rois_ho.1D\n",
      "Reading timeseries file /data/zfzhu/zs/MMGL/miccai_ABIDE/data/ABIDE_pcp/cpac/filt_noglobal/50694/Leuven_1_0050694_rois_ho.1D\n",
      "Reading timeseries file /data/zfzhu/zs/MMGL/miccai_ABIDE/data/ABIDE_pcp/cpac/filt_noglobal/50695/Leuven_1_0050695_rois_ho.1D\n",
      "Reading timeseries file /data/zfzhu/zs/MMGL/miccai_ABIDE/data/ABIDE_pcp/cpac/filt_noglobal/50696/Leuven_1_0050696_rois_ho.1D\n",
      "Reading timeseries file /data/zfzhu/zs/MMGL/miccai_ABIDE/data/ABIDE_pcp/cpac/filt_noglobal/50697/Leuven_1_0050697_rois_ho.1D\n",
      "Reading timeseries file /data/zfzhu/zs/MMGL/miccai_ABIDE/data/ABIDE_pcp/cpac/filt_noglobal/50698/Leuven_1_0050698_rois_ho.1D\n",
      "Reading timeseries file /data/zfzhu/zs/MMGL/miccai_ABIDE/data/ABIDE_pcp/cpac/filt_noglobal/50699/Leuven_1_0050699_rois_ho.1D\n",
      "Reading timeseries file /data/zfzhu/zs/MMGL/miccai_ABIDE/data/ABIDE_pcp/cpac/filt_noglobal/50700/Leuven_1_0050700_rois_ho.1D\n",
      "Reading timeseries file /data/zfzhu/zs/MMGL/miccai_ABIDE/data/ABIDE_pcp/cpac/filt_noglobal/50701/Leuven_1_0050701_rois_ho.1D\n",
      "Reading timeseries file /data/zfzhu/zs/MMGL/miccai_ABIDE/data/ABIDE_pcp/cpac/filt_noglobal/50702/Leuven_1_0050702_rois_ho.1D\n",
      "Reading timeseries file /data/zfzhu/zs/MMGL/miccai_ABIDE/data/ABIDE_pcp/cpac/filt_noglobal/50703/Leuven_1_0050703_rois_ho.1D\n",
      "Reading timeseries file /data/zfzhu/zs/MMGL/miccai_ABIDE/data/ABIDE_pcp/cpac/filt_noglobal/50704/Leuven_1_0050704_rois_ho.1D\n",
      "Reading timeseries file /data/zfzhu/zs/MMGL/miccai_ABIDE/data/ABIDE_pcp/cpac/filt_noglobal/50705/Leuven_1_0050705_rois_ho.1D\n",
      "Reading timeseries file /data/zfzhu/zs/MMGL/miccai_ABIDE/data/ABIDE_pcp/cpac/filt_noglobal/50706/Leuven_1_0050706_rois_ho.1D\n",
      "Reading timeseries file /data/zfzhu/zs/MMGL/miccai_ABIDE/data/ABIDE_pcp/cpac/filt_noglobal/50707/Leuven_1_0050707_rois_ho.1D\n",
      "Reading timeseries file /data/zfzhu/zs/MMGL/miccai_ABIDE/data/ABIDE_pcp/cpac/filt_noglobal/50708/Leuven_1_0050708_rois_ho.1D\n",
      "Reading timeseries file /data/zfzhu/zs/MMGL/miccai_ABIDE/data/ABIDE_pcp/cpac/filt_noglobal/50709/Leuven_1_0050709_rois_ho.1D\n",
      "Reading timeseries file /data/zfzhu/zs/MMGL/miccai_ABIDE/data/ABIDE_pcp/cpac/filt_noglobal/50711/Leuven_1_0050711_rois_ho.1D\n",
      "Reading timeseries file /data/zfzhu/zs/MMGL/miccai_ABIDE/data/ABIDE_pcp/cpac/filt_noglobal/50722/Leuven_2_0050722_rois_ho.1D\n",
      "Reading timeseries file /data/zfzhu/zs/MMGL/miccai_ABIDE/data/ABIDE_pcp/cpac/filt_noglobal/50723/Leuven_2_0050723_rois_ho.1D\n",
      "Reading timeseries file /data/zfzhu/zs/MMGL/miccai_ABIDE/data/ABIDE_pcp/cpac/filt_noglobal/50724/Leuven_2_0050724_rois_ho.1D\n",
      "Reading timeseries file /data/zfzhu/zs/MMGL/miccai_ABIDE/data/ABIDE_pcp/cpac/filt_noglobal/50725/Leuven_2_0050725_rois_ho.1D\n",
      "Reading timeseries file /data/zfzhu/zs/MMGL/miccai_ABIDE/data/ABIDE_pcp/cpac/filt_noglobal/50726/Leuven_2_0050726_rois_ho.1D\n",
      "Reading timeseries file /data/zfzhu/zs/MMGL/miccai_ABIDE/data/ABIDE_pcp/cpac/filt_noglobal/50728/Leuven_2_0050728_rois_ho.1D\n",
      "Reading timeseries file /data/zfzhu/zs/MMGL/miccai_ABIDE/data/ABIDE_pcp/cpac/filt_noglobal/50730/Leuven_2_0050730_rois_ho.1D\n",
      "Reading timeseries file /data/zfzhu/zs/MMGL/miccai_ABIDE/data/ABIDE_pcp/cpac/filt_noglobal/50731/Leuven_2_0050731_rois_ho.1D\n",
      "Reading timeseries file /data/zfzhu/zs/MMGL/miccai_ABIDE/data/ABIDE_pcp/cpac/filt_noglobal/50733/Leuven_2_0050733_rois_ho.1D\n",
      "Reading timeseries file /data/zfzhu/zs/MMGL/miccai_ABIDE/data/ABIDE_pcp/cpac/filt_noglobal/50735/Leuven_2_0050735_rois_ho.1D\n",
      "Reading timeseries file /data/zfzhu/zs/MMGL/miccai_ABIDE/data/ABIDE_pcp/cpac/filt_noglobal/50737/Leuven_2_0050737_rois_ho.1D\n",
      "Reading timeseries file /data/zfzhu/zs/MMGL/miccai_ABIDE/data/ABIDE_pcp/cpac/filt_noglobal/50738/Leuven_2_0050738_rois_ho.1D\n",
      "Reading timeseries file /data/zfzhu/zs/MMGL/miccai_ABIDE/data/ABIDE_pcp/cpac/filt_noglobal/50739/Leuven_2_0050739_rois_ho.1D\n",
      "Reading timeseries file /data/zfzhu/zs/MMGL/miccai_ABIDE/data/ABIDE_pcp/cpac/filt_noglobal/50740/Leuven_2_0050740_rois_ho.1D\n",
      "Reading timeseries file /data/zfzhu/zs/MMGL/miccai_ABIDE/data/ABIDE_pcp/cpac/filt_noglobal/50741/Leuven_2_0050741_rois_ho.1D\n",
      "Reading timeseries file /data/zfzhu/zs/MMGL/miccai_ABIDE/data/ABIDE_pcp/cpac/filt_noglobal/50742/Leuven_2_0050742_rois_ho.1D\n",
      "Reading timeseries file /data/zfzhu/zs/MMGL/miccai_ABIDE/data/ABIDE_pcp/cpac/filt_noglobal/50743/Leuven_2_0050743_rois_ho.1D\n",
      "Reading timeseries file /data/zfzhu/zs/MMGL/miccai_ABIDE/data/ABIDE_pcp/cpac/filt_noglobal/50744/Leuven_2_0050744_rois_ho.1D\n",
      "Reading timeseries file /data/zfzhu/zs/MMGL/miccai_ABIDE/data/ABIDE_pcp/cpac/filt_noglobal/50745/Leuven_2_0050745_rois_ho.1D\n",
      "Reading timeseries file /data/zfzhu/zs/MMGL/miccai_ABIDE/data/ABIDE_pcp/cpac/filt_noglobal/50748/Leuven_2_0050748_rois_ho.1D\n",
      "Reading timeseries file /data/zfzhu/zs/MMGL/miccai_ABIDE/data/ABIDE_pcp/cpac/filt_noglobal/50749/Leuven_2_0050749_rois_ho.1D\n",
      "Reading timeseries file /data/zfzhu/zs/MMGL/miccai_ABIDE/data/ABIDE_pcp/cpac/filt_noglobal/50750/Leuven_2_0050750_rois_ho.1D\n",
      "Reading timeseries file /data/zfzhu/zs/MMGL/miccai_ABIDE/data/ABIDE_pcp/cpac/filt_noglobal/50751/Leuven_2_0050751_rois_ho.1D\n",
      "Reading timeseries file /data/zfzhu/zs/MMGL/miccai_ABIDE/data/ABIDE_pcp/cpac/filt_noglobal/50752/Leuven_2_0050752_rois_ho.1D\n",
      "Reading timeseries file /data/zfzhu/zs/MMGL/miccai_ABIDE/data/ABIDE_pcp/cpac/filt_noglobal/50754/Leuven_2_0050754_rois_ho.1D\n",
      "Reading timeseries file /data/zfzhu/zs/MMGL/miccai_ABIDE/data/ABIDE_pcp/cpac/filt_noglobal/50755/Leuven_2_0050755_rois_ho.1D\n",
      "Reading timeseries file /data/zfzhu/zs/MMGL/miccai_ABIDE/data/ABIDE_pcp/cpac/filt_noglobal/50756/Leuven_2_0050756_rois_ho.1D\n",
      "Reading timeseries file /data/zfzhu/zs/MMGL/miccai_ABIDE/data/ABIDE_pcp/cpac/filt_noglobal/50757/Leuven_2_0050757_rois_ho.1D\n",
      "Reading timeseries file /data/zfzhu/zs/MMGL/miccai_ABIDE/data/ABIDE_pcp/cpac/filt_noglobal/50772/KKI_0050772_rois_ho.1D\n",
      "Reading timeseries file /data/zfzhu/zs/MMGL/miccai_ABIDE/data/ABIDE_pcp/cpac/filt_noglobal/50773/KKI_0050773_rois_ho.1D\n",
      "Reading timeseries file /data/zfzhu/zs/MMGL/miccai_ABIDE/data/ABIDE_pcp/cpac/filt_noglobal/50774/KKI_0050774_rois_ho.1D\n",
      "Reading timeseries file /data/zfzhu/zs/MMGL/miccai_ABIDE/data/ABIDE_pcp/cpac/filt_noglobal/50775/KKI_0050775_rois_ho.1D\n",
      "Reading timeseries file /data/zfzhu/zs/MMGL/miccai_ABIDE/data/ABIDE_pcp/cpac/filt_noglobal/50776/KKI_0050776_rois_ho.1D\n",
      "Reading timeseries file /data/zfzhu/zs/MMGL/miccai_ABIDE/data/ABIDE_pcp/cpac/filt_noglobal/50777/KKI_0050777_rois_ho.1D\n",
      "Reading timeseries file /data/zfzhu/zs/MMGL/miccai_ABIDE/data/ABIDE_pcp/cpac/filt_noglobal/50778/KKI_0050778_rois_ho.1D\n",
      "Reading timeseries file /data/zfzhu/zs/MMGL/miccai_ABIDE/data/ABIDE_pcp/cpac/filt_noglobal/50780/KKI_0050780_rois_ho.1D\n",
      "Reading timeseries file /data/zfzhu/zs/MMGL/miccai_ABIDE/data/ABIDE_pcp/cpac/filt_noglobal/50781/KKI_0050781_rois_ho.1D\n",
      "Reading timeseries file /data/zfzhu/zs/MMGL/miccai_ABIDE/data/ABIDE_pcp/cpac/filt_noglobal/50782/KKI_0050782_rois_ho.1D\n",
      "Reading timeseries file /data/zfzhu/zs/MMGL/miccai_ABIDE/data/ABIDE_pcp/cpac/filt_noglobal/50783/KKI_0050783_rois_ho.1D\n",
      "Reading timeseries file /data/zfzhu/zs/MMGL/miccai_ABIDE/data/ABIDE_pcp/cpac/filt_noglobal/50786/KKI_0050786_rois_ho.1D\n",
      "Reading timeseries file /data/zfzhu/zs/MMGL/miccai_ABIDE/data/ABIDE_pcp/cpac/filt_noglobal/50790/KKI_0050790_rois_ho.1D\n",
      "Reading timeseries file /data/zfzhu/zs/MMGL/miccai_ABIDE/data/ABIDE_pcp/cpac/filt_noglobal/50791/KKI_0050791_rois_ho.1D\n",
      "Reading timeseries file /data/zfzhu/zs/MMGL/miccai_ABIDE/data/ABIDE_pcp/cpac/filt_noglobal/50792/KKI_0050792_rois_ho.1D\n",
      "Reading timeseries file /data/zfzhu/zs/MMGL/miccai_ABIDE/data/ABIDE_pcp/cpac/filt_noglobal/50796/KKI_0050796_rois_ho.1D\n",
      "Reading timeseries file /data/zfzhu/zs/MMGL/miccai_ABIDE/data/ABIDE_pcp/cpac/filt_noglobal/50797/KKI_0050797_rois_ho.1D\n",
      "Reading timeseries file /data/zfzhu/zs/MMGL/miccai_ABIDE/data/ABIDE_pcp/cpac/filt_noglobal/50798/KKI_0050798_rois_ho.1D\n",
      "Reading timeseries file /data/zfzhu/zs/MMGL/miccai_ABIDE/data/ABIDE_pcp/cpac/filt_noglobal/50799/KKI_0050799_rois_ho.1D\n",
      "Reading timeseries file /data/zfzhu/zs/MMGL/miccai_ABIDE/data/ABIDE_pcp/cpac/filt_noglobal/50800/KKI_0050800_rois_ho.1D\n",
      "Reading timeseries file /data/zfzhu/zs/MMGL/miccai_ABIDE/data/ABIDE_pcp/cpac/filt_noglobal/50801/KKI_0050801_rois_ho.1D\n",
      "Reading timeseries file /data/zfzhu/zs/MMGL/miccai_ABIDE/data/ABIDE_pcp/cpac/filt_noglobal/50803/KKI_0050803_rois_ho.1D\n",
      "Reading timeseries file /data/zfzhu/zs/MMGL/miccai_ABIDE/data/ABIDE_pcp/cpac/filt_noglobal/50807/KKI_0050807_rois_ho.1D\n",
      "Reading timeseries file /data/zfzhu/zs/MMGL/miccai_ABIDE/data/ABIDE_pcp/cpac/filt_noglobal/50812/KKI_0050812_rois_ho.1D\n",
      "Reading timeseries file /data/zfzhu/zs/MMGL/miccai_ABIDE/data/ABIDE_pcp/cpac/filt_noglobal/50814/KKI_0050814_rois_ho.1D\n",
      "Reading timeseries file /data/zfzhu/zs/MMGL/miccai_ABIDE/data/ABIDE_pcp/cpac/filt_noglobal/50816/KKI_0050816_rois_ho.1D\n",
      "Reading timeseries file /data/zfzhu/zs/MMGL/miccai_ABIDE/data/ABIDE_pcp/cpac/filt_noglobal/50817/KKI_0050817_rois_ho.1D\n",
      "Reading timeseries file /data/zfzhu/zs/MMGL/miccai_ABIDE/data/ABIDE_pcp/cpac/filt_noglobal/50818/KKI_0050818_rois_ho.1D\n",
      "Reading timeseries file /data/zfzhu/zs/MMGL/miccai_ABIDE/data/ABIDE_pcp/cpac/filt_noglobal/50820/KKI_0050820_rois_ho.1D\n",
      "Reading timeseries file /data/zfzhu/zs/MMGL/miccai_ABIDE/data/ABIDE_pcp/cpac/filt_noglobal/50821/KKI_0050821_rois_ho.1D\n",
      "Reading timeseries file /data/zfzhu/zs/MMGL/miccai_ABIDE/data/ABIDE_pcp/cpac/filt_noglobal/50822/KKI_0050822_rois_ho.1D\n",
      "Reading timeseries file /data/zfzhu/zs/MMGL/miccai_ABIDE/data/ABIDE_pcp/cpac/filt_noglobal/50823/KKI_0050823_rois_ho.1D\n",
      "Reading timeseries file /data/zfzhu/zs/MMGL/miccai_ABIDE/data/ABIDE_pcp/cpac/filt_noglobal/50824/KKI_0050824_rois_ho.1D\n",
      "Reading timeseries file /data/zfzhu/zs/MMGL/miccai_ABIDE/data/ABIDE_pcp/cpac/filt_noglobal/50952/NYU_0050952_rois_ho.1D\n",
      "Reading timeseries file /data/zfzhu/zs/MMGL/miccai_ABIDE/data/ABIDE_pcp/cpac/filt_noglobal/50954/NYU_0050954_rois_ho.1D\n",
      "Reading timeseries file /data/zfzhu/zs/MMGL/miccai_ABIDE/data/ABIDE_pcp/cpac/filt_noglobal/50955/NYU_0050955_rois_ho.1D\n",
      "Reading timeseries file /data/zfzhu/zs/MMGL/miccai_ABIDE/data/ABIDE_pcp/cpac/filt_noglobal/50956/NYU_0050956_rois_ho.1D\n",
      "Reading timeseries file /data/zfzhu/zs/MMGL/miccai_ABIDE/data/ABIDE_pcp/cpac/filt_noglobal/50957/NYU_0050957_rois_ho.1D\n",
      "Reading timeseries file /data/zfzhu/zs/MMGL/miccai_ABIDE/data/ABIDE_pcp/cpac/filt_noglobal/50958/NYU_0050958_rois_ho.1D\n",
      "Reading timeseries file /data/zfzhu/zs/MMGL/miccai_ABIDE/data/ABIDE_pcp/cpac/filt_noglobal/50959/NYU_0050959_rois_ho.1D\n",
      "Reading timeseries file /data/zfzhu/zs/MMGL/miccai_ABIDE/data/ABIDE_pcp/cpac/filt_noglobal/50960/NYU_0050960_rois_ho.1D\n",
      "Reading timeseries file /data/zfzhu/zs/MMGL/miccai_ABIDE/data/ABIDE_pcp/cpac/filt_noglobal/50961/NYU_0050961_rois_ho.1D\n",
      "Reading timeseries file /data/zfzhu/zs/MMGL/miccai_ABIDE/data/ABIDE_pcp/cpac/filt_noglobal/50962/NYU_0050962_rois_ho.1D\n",
      "Reading timeseries file /data/zfzhu/zs/MMGL/miccai_ABIDE/data/ABIDE_pcp/cpac/filt_noglobal/50964/NYU_0050964_rois_ho.1D\n",
      "Reading timeseries file /data/zfzhu/zs/MMGL/miccai_ABIDE/data/ABIDE_pcp/cpac/filt_noglobal/50965/NYU_0050965_rois_ho.1D\n",
      "Reading timeseries file /data/zfzhu/zs/MMGL/miccai_ABIDE/data/ABIDE_pcp/cpac/filt_noglobal/50966/NYU_0050966_rois_ho.1D\n",
      "Reading timeseries file /data/zfzhu/zs/MMGL/miccai_ABIDE/data/ABIDE_pcp/cpac/filt_noglobal/50967/NYU_0050967_rois_ho.1D\n",
      "Reading timeseries file /data/zfzhu/zs/MMGL/miccai_ABIDE/data/ABIDE_pcp/cpac/filt_noglobal/50968/NYU_0050968_rois_ho.1D\n",
      "Reading timeseries file /data/zfzhu/zs/MMGL/miccai_ABIDE/data/ABIDE_pcp/cpac/filt_noglobal/50969/NYU_0050969_rois_ho.1D\n",
      "Reading timeseries file /data/zfzhu/zs/MMGL/miccai_ABIDE/data/ABIDE_pcp/cpac/filt_noglobal/50970/NYU_0050970_rois_ho.1D\n",
      "Reading timeseries file /data/zfzhu/zs/MMGL/miccai_ABIDE/data/ABIDE_pcp/cpac/filt_noglobal/50972/NYU_0050972_rois_ho.1D\n",
      "Reading timeseries file /data/zfzhu/zs/MMGL/miccai_ABIDE/data/ABIDE_pcp/cpac/filt_noglobal/50973/NYU_0050973_rois_ho.1D\n",
      "Reading timeseries file /data/zfzhu/zs/MMGL/miccai_ABIDE/data/ABIDE_pcp/cpac/filt_noglobal/50974/NYU_0050974_rois_ho.1D\n",
      "Reading timeseries file /data/zfzhu/zs/MMGL/miccai_ABIDE/data/ABIDE_pcp/cpac/filt_noglobal/50976/NYU_0050976_rois_ho.1D\n",
      "Reading timeseries file /data/zfzhu/zs/MMGL/miccai_ABIDE/data/ABIDE_pcp/cpac/filt_noglobal/50977/NYU_0050977_rois_ho.1D\n",
      "Reading timeseries file /data/zfzhu/zs/MMGL/miccai_ABIDE/data/ABIDE_pcp/cpac/filt_noglobal/50978/NYU_0050978_rois_ho.1D\n",
      "Reading timeseries file /data/zfzhu/zs/MMGL/miccai_ABIDE/data/ABIDE_pcp/cpac/filt_noglobal/50979/NYU_0050979_rois_ho.1D\n",
      "Reading timeseries file /data/zfzhu/zs/MMGL/miccai_ABIDE/data/ABIDE_pcp/cpac/filt_noglobal/50981/NYU_0050981_rois_ho.1D\n",
      "Reading timeseries file /data/zfzhu/zs/MMGL/miccai_ABIDE/data/ABIDE_pcp/cpac/filt_noglobal/50982/NYU_0050982_rois_ho.1D\n",
      "Reading timeseries file /data/zfzhu/zs/MMGL/miccai_ABIDE/data/ABIDE_pcp/cpac/filt_noglobal/50983/NYU_0050983_rois_ho.1D\n",
      "Reading timeseries file /data/zfzhu/zs/MMGL/miccai_ABIDE/data/ABIDE_pcp/cpac/filt_noglobal/50984/NYU_0050984_rois_ho.1D\n",
      "Reading timeseries file /data/zfzhu/zs/MMGL/miccai_ABIDE/data/ABIDE_pcp/cpac/filt_noglobal/50985/NYU_0050985_rois_ho.1D\n",
      "Reading timeseries file /data/zfzhu/zs/MMGL/miccai_ABIDE/data/ABIDE_pcp/cpac/filt_noglobal/50986/NYU_0050986_rois_ho.1D\n",
      "Reading timeseries file /data/zfzhu/zs/MMGL/miccai_ABIDE/data/ABIDE_pcp/cpac/filt_noglobal/50987/NYU_0050987_rois_ho.1D\n",
      "Reading timeseries file /data/zfzhu/zs/MMGL/miccai_ABIDE/data/ABIDE_pcp/cpac/filt_noglobal/50988/NYU_0050988_rois_ho.1D\n",
      "Reading timeseries file /data/zfzhu/zs/MMGL/miccai_ABIDE/data/ABIDE_pcp/cpac/filt_noglobal/50989/NYU_0050989_rois_ho.1D\n",
      "Reading timeseries file /data/zfzhu/zs/MMGL/miccai_ABIDE/data/ABIDE_pcp/cpac/filt_noglobal/50990/NYU_0050990_rois_ho.1D\n",
      "Reading timeseries file /data/zfzhu/zs/MMGL/miccai_ABIDE/data/ABIDE_pcp/cpac/filt_noglobal/50991/NYU_0050991_rois_ho.1D\n",
      "Reading timeseries file /data/zfzhu/zs/MMGL/miccai_ABIDE/data/ABIDE_pcp/cpac/filt_noglobal/50992/NYU_0050992_rois_ho.1D\n",
      "Reading timeseries file /data/zfzhu/zs/MMGL/miccai_ABIDE/data/ABIDE_pcp/cpac/filt_noglobal/50993/NYU_0050993_rois_ho.1D\n",
      "Reading timeseries file /data/zfzhu/zs/MMGL/miccai_ABIDE/data/ABIDE_pcp/cpac/filt_noglobal/50994/NYU_0050994_rois_ho.1D\n",
      "Reading timeseries file /data/zfzhu/zs/MMGL/miccai_ABIDE/data/ABIDE_pcp/cpac/filt_noglobal/50995/NYU_0050995_rois_ho.1D\n",
      "Reading timeseries file /data/zfzhu/zs/MMGL/miccai_ABIDE/data/ABIDE_pcp/cpac/filt_noglobal/50996/NYU_0050996_rois_ho.1D\n",
      "Reading timeseries file /data/zfzhu/zs/MMGL/miccai_ABIDE/data/ABIDE_pcp/cpac/filt_noglobal/50997/NYU_0050997_rois_ho.1D\n",
      "Reading timeseries file /data/zfzhu/zs/MMGL/miccai_ABIDE/data/ABIDE_pcp/cpac/filt_noglobal/50999/NYU_0050999_rois_ho.1D\n",
      "Reading timeseries file /data/zfzhu/zs/MMGL/miccai_ABIDE/data/ABIDE_pcp/cpac/filt_noglobal/51000/NYU_0051000_rois_ho.1D\n",
      "Reading timeseries file /data/zfzhu/zs/MMGL/miccai_ABIDE/data/ABIDE_pcp/cpac/filt_noglobal/51001/NYU_0051001_rois_ho.1D\n",
      "Reading timeseries file /data/zfzhu/zs/MMGL/miccai_ABIDE/data/ABIDE_pcp/cpac/filt_noglobal/51002/NYU_0051002_rois_ho.1D\n",
      "Reading timeseries file /data/zfzhu/zs/MMGL/miccai_ABIDE/data/ABIDE_pcp/cpac/filt_noglobal/51003/NYU_0051003_rois_ho.1D\n",
      "Reading timeseries file /data/zfzhu/zs/MMGL/miccai_ABIDE/data/ABIDE_pcp/cpac/filt_noglobal/51006/NYU_0051006_rois_ho.1D\n",
      "Reading timeseries file /data/zfzhu/zs/MMGL/miccai_ABIDE/data/ABIDE_pcp/cpac/filt_noglobal/51007/NYU_0051007_rois_ho.1D\n",
      "Reading timeseries file /data/zfzhu/zs/MMGL/miccai_ABIDE/data/ABIDE_pcp/cpac/filt_noglobal/51008/NYU_0051008_rois_ho.1D\n",
      "Reading timeseries file /data/zfzhu/zs/MMGL/miccai_ABIDE/data/ABIDE_pcp/cpac/filt_noglobal/51009/NYU_0051009_rois_ho.1D\n",
      "Reading timeseries file /data/zfzhu/zs/MMGL/miccai_ABIDE/data/ABIDE_pcp/cpac/filt_noglobal/51010/NYU_0051010_rois_ho.1D\n",
      "Reading timeseries file /data/zfzhu/zs/MMGL/miccai_ABIDE/data/ABIDE_pcp/cpac/filt_noglobal/51011/NYU_0051011_rois_ho.1D\n",
      "Reading timeseries file /data/zfzhu/zs/MMGL/miccai_ABIDE/data/ABIDE_pcp/cpac/filt_noglobal/51012/NYU_0051012_rois_ho.1D\n",
      "Reading timeseries file /data/zfzhu/zs/MMGL/miccai_ABIDE/data/ABIDE_pcp/cpac/filt_noglobal/51013/NYU_0051013_rois_ho.1D\n",
      "Reading timeseries file /data/zfzhu/zs/MMGL/miccai_ABIDE/data/ABIDE_pcp/cpac/filt_noglobal/51014/NYU_0051014_rois_ho.1D\n",
      "Reading timeseries file /data/zfzhu/zs/MMGL/miccai_ABIDE/data/ABIDE_pcp/cpac/filt_noglobal/51015/NYU_0051015_rois_ho.1D\n",
      "Reading timeseries file /data/zfzhu/zs/MMGL/miccai_ABIDE/data/ABIDE_pcp/cpac/filt_noglobal/51016/NYU_0051016_rois_ho.1D\n",
      "Reading timeseries file /data/zfzhu/zs/MMGL/miccai_ABIDE/data/ABIDE_pcp/cpac/filt_noglobal/51017/NYU_0051017_rois_ho.1D\n",
      "Reading timeseries file /data/zfzhu/zs/MMGL/miccai_ABIDE/data/ABIDE_pcp/cpac/filt_noglobal/51018/NYU_0051018_rois_ho.1D\n",
      "Reading timeseries file /data/zfzhu/zs/MMGL/miccai_ABIDE/data/ABIDE_pcp/cpac/filt_noglobal/51019/NYU_0051019_rois_ho.1D\n",
      "Reading timeseries file /data/zfzhu/zs/MMGL/miccai_ABIDE/data/ABIDE_pcp/cpac/filt_noglobal/51020/NYU_0051020_rois_ho.1D\n",
      "Reading timeseries file /data/zfzhu/zs/MMGL/miccai_ABIDE/data/ABIDE_pcp/cpac/filt_noglobal/51021/NYU_0051021_rois_ho.1D\n",
      "Reading timeseries file /data/zfzhu/zs/MMGL/miccai_ABIDE/data/ABIDE_pcp/cpac/filt_noglobal/51023/NYU_0051023_rois_ho.1D\n",
      "Reading timeseries file /data/zfzhu/zs/MMGL/miccai_ABIDE/data/ABIDE_pcp/cpac/filt_noglobal/51024/NYU_0051024_rois_ho.1D\n",
      "Reading timeseries file /data/zfzhu/zs/MMGL/miccai_ABIDE/data/ABIDE_pcp/cpac/filt_noglobal/51025/NYU_0051025_rois_ho.1D\n",
      "Reading timeseries file /data/zfzhu/zs/MMGL/miccai_ABIDE/data/ABIDE_pcp/cpac/filt_noglobal/51026/NYU_0051026_rois_ho.1D\n",
      "Reading timeseries file /data/zfzhu/zs/MMGL/miccai_ABIDE/data/ABIDE_pcp/cpac/filt_noglobal/51027/NYU_0051027_rois_ho.1D\n",
      "Reading timeseries file /data/zfzhu/zs/MMGL/miccai_ABIDE/data/ABIDE_pcp/cpac/filt_noglobal/51028/NYU_0051028_rois_ho.1D\n",
      "Reading timeseries file /data/zfzhu/zs/MMGL/miccai_ABIDE/data/ABIDE_pcp/cpac/filt_noglobal/51029/NYU_0051029_rois_ho.1D\n",
      "Reading timeseries file /data/zfzhu/zs/MMGL/miccai_ABIDE/data/ABIDE_pcp/cpac/filt_noglobal/51030/NYU_0051030_rois_ho.1D\n",
      "Reading timeseries file /data/zfzhu/zs/MMGL/miccai_ABIDE/data/ABIDE_pcp/cpac/filt_noglobal/51032/NYU_0051032_rois_ho.1D\n",
      "Reading timeseries file /data/zfzhu/zs/MMGL/miccai_ABIDE/data/ABIDE_pcp/cpac/filt_noglobal/51033/NYU_0051033_rois_ho.1D\n",
      "Reading timeseries file /data/zfzhu/zs/MMGL/miccai_ABIDE/data/ABIDE_pcp/cpac/filt_noglobal/51034/NYU_0051034_rois_ho.1D\n",
      "Reading timeseries file /data/zfzhu/zs/MMGL/miccai_ABIDE/data/ABIDE_pcp/cpac/filt_noglobal/51035/NYU_0051035_rois_ho.1D\n",
      "Reading timeseries file /data/zfzhu/zs/MMGL/miccai_ABIDE/data/ABIDE_pcp/cpac/filt_noglobal/51036/NYU_0051036_rois_ho.1D\n",
      "Reading timeseries file /data/zfzhu/zs/MMGL/miccai_ABIDE/data/ABIDE_pcp/cpac/filt_noglobal/51038/NYU_0051038_rois_ho.1D\n",
      "Reading timeseries file /data/zfzhu/zs/MMGL/miccai_ABIDE/data/ABIDE_pcp/cpac/filt_noglobal/51039/NYU_0051039_rois_ho.1D\n",
      "Reading timeseries file /data/zfzhu/zs/MMGL/miccai_ABIDE/data/ABIDE_pcp/cpac/filt_noglobal/51040/NYU_0051040_rois_ho.1D\n",
      "Reading timeseries file /data/zfzhu/zs/MMGL/miccai_ABIDE/data/ABIDE_pcp/cpac/filt_noglobal/51041/NYU_0051041_rois_ho.1D\n",
      "Reading timeseries file /data/zfzhu/zs/MMGL/miccai_ABIDE/data/ABIDE_pcp/cpac/filt_noglobal/51042/NYU_0051042_rois_ho.1D\n",
      "Reading timeseries file /data/zfzhu/zs/MMGL/miccai_ABIDE/data/ABIDE_pcp/cpac/filt_noglobal/51044/NYU_0051044_rois_ho.1D\n",
      "Reading timeseries file /data/zfzhu/zs/MMGL/miccai_ABIDE/data/ABIDE_pcp/cpac/filt_noglobal/51045/NYU_0051045_rois_ho.1D\n",
      "Reading timeseries file /data/zfzhu/zs/MMGL/miccai_ABIDE/data/ABIDE_pcp/cpac/filt_noglobal/51046/NYU_0051046_rois_ho.1D\n",
      "Reading timeseries file /data/zfzhu/zs/MMGL/miccai_ABIDE/data/ABIDE_pcp/cpac/filt_noglobal/51047/NYU_0051047_rois_ho.1D\n",
      "Reading timeseries file /data/zfzhu/zs/MMGL/miccai_ABIDE/data/ABIDE_pcp/cpac/filt_noglobal/51048/NYU_0051048_rois_ho.1D\n",
      "Reading timeseries file /data/zfzhu/zs/MMGL/miccai_ABIDE/data/ABIDE_pcp/cpac/filt_noglobal/51049/NYU_0051049_rois_ho.1D\n",
      "Reading timeseries file /data/zfzhu/zs/MMGL/miccai_ABIDE/data/ABIDE_pcp/cpac/filt_noglobal/51050/NYU_0051050_rois_ho.1D\n",
      "Reading timeseries file /data/zfzhu/zs/MMGL/miccai_ABIDE/data/ABIDE_pcp/cpac/filt_noglobal/51051/NYU_0051051_rois_ho.1D\n",
      "Reading timeseries file /data/zfzhu/zs/MMGL/miccai_ABIDE/data/ABIDE_pcp/cpac/filt_noglobal/51052/NYU_0051052_rois_ho.1D\n",
      "Reading timeseries file /data/zfzhu/zs/MMGL/miccai_ABIDE/data/ABIDE_pcp/cpac/filt_noglobal/51053/NYU_0051053_rois_ho.1D\n",
      "Reading timeseries file /data/zfzhu/zs/MMGL/miccai_ABIDE/data/ABIDE_pcp/cpac/filt_noglobal/51054/NYU_0051054_rois_ho.1D\n",
      "Reading timeseries file /data/zfzhu/zs/MMGL/miccai_ABIDE/data/ABIDE_pcp/cpac/filt_noglobal/51055/NYU_0051055_rois_ho.1D\n",
      "Reading timeseries file /data/zfzhu/zs/MMGL/miccai_ABIDE/data/ABIDE_pcp/cpac/filt_noglobal/51056/NYU_0051056_rois_ho.1D\n",
      "Reading timeseries file /data/zfzhu/zs/MMGL/miccai_ABIDE/data/ABIDE_pcp/cpac/filt_noglobal/51057/NYU_0051057_rois_ho.1D\n",
      "Reading timeseries file /data/zfzhu/zs/MMGL/miccai_ABIDE/data/ABIDE_pcp/cpac/filt_noglobal/51058/NYU_0051058_rois_ho.1D\n",
      "Reading timeseries file /data/zfzhu/zs/MMGL/miccai_ABIDE/data/ABIDE_pcp/cpac/filt_noglobal/51059/NYU_0051059_rois_ho.1D\n",
      "Reading timeseries file /data/zfzhu/zs/MMGL/miccai_ABIDE/data/ABIDE_pcp/cpac/filt_noglobal/51060/NYU_0051060_rois_ho.1D\n",
      "Reading timeseries file /data/zfzhu/zs/MMGL/miccai_ABIDE/data/ABIDE_pcp/cpac/filt_noglobal/51061/NYU_0051061_rois_ho.1D\n",
      "Reading timeseries file /data/zfzhu/zs/MMGL/miccai_ABIDE/data/ABIDE_pcp/cpac/filt_noglobal/51062/NYU_0051062_rois_ho.1D\n",
      "Reading timeseries file /data/zfzhu/zs/MMGL/miccai_ABIDE/data/ABIDE_pcp/cpac/filt_noglobal/51063/NYU_0051063_rois_ho.1D\n",
      "Reading timeseries file /data/zfzhu/zs/MMGL/miccai_ABIDE/data/ABIDE_pcp/cpac/filt_noglobal/51064/NYU_0051064_rois_ho.1D\n",
      "Reading timeseries file /data/zfzhu/zs/MMGL/miccai_ABIDE/data/ABIDE_pcp/cpac/filt_noglobal/51065/NYU_0051065_rois_ho.1D\n",
      "Reading timeseries file /data/zfzhu/zs/MMGL/miccai_ABIDE/data/ABIDE_pcp/cpac/filt_noglobal/51066/NYU_0051066_rois_ho.1D\n",
      "Reading timeseries file /data/zfzhu/zs/MMGL/miccai_ABIDE/data/ABIDE_pcp/cpac/filt_noglobal/51067/NYU_0051067_rois_ho.1D\n",
      "Reading timeseries file /data/zfzhu/zs/MMGL/miccai_ABIDE/data/ABIDE_pcp/cpac/filt_noglobal/51068/NYU_0051068_rois_ho.1D\n",
      "Reading timeseries file /data/zfzhu/zs/MMGL/miccai_ABIDE/data/ABIDE_pcp/cpac/filt_noglobal/51069/NYU_0051069_rois_ho.1D\n",
      "Reading timeseries file /data/zfzhu/zs/MMGL/miccai_ABIDE/data/ABIDE_pcp/cpac/filt_noglobal/51070/NYU_0051070_rois_ho.1D\n",
      "Reading timeseries file /data/zfzhu/zs/MMGL/miccai_ABIDE/data/ABIDE_pcp/cpac/filt_noglobal/51072/NYU_0051072_rois_ho.1D\n",
      "Reading timeseries file /data/zfzhu/zs/MMGL/miccai_ABIDE/data/ABIDE_pcp/cpac/filt_noglobal/51073/NYU_0051073_rois_ho.1D\n",
      "Reading timeseries file /data/zfzhu/zs/MMGL/miccai_ABIDE/data/ABIDE_pcp/cpac/filt_noglobal/51074/NYU_0051074_rois_ho.1D\n",
      "Reading timeseries file /data/zfzhu/zs/MMGL/miccai_ABIDE/data/ABIDE_pcp/cpac/filt_noglobal/51075/NYU_0051075_rois_ho.1D\n",
      "Reading timeseries file /data/zfzhu/zs/MMGL/miccai_ABIDE/data/ABIDE_pcp/cpac/filt_noglobal/51076/NYU_0051076_rois_ho.1D\n",
      "Reading timeseries file /data/zfzhu/zs/MMGL/miccai_ABIDE/data/ABIDE_pcp/cpac/filt_noglobal/51077/NYU_0051077_rois_ho.1D\n",
      "Reading timeseries file /data/zfzhu/zs/MMGL/miccai_ABIDE/data/ABIDE_pcp/cpac/filt_noglobal/51078/NYU_0051078_rois_ho.1D\n",
      "Reading timeseries file /data/zfzhu/zs/MMGL/miccai_ABIDE/data/ABIDE_pcp/cpac/filt_noglobal/51079/NYU_0051079_rois_ho.1D\n",
      "Reading timeseries file /data/zfzhu/zs/MMGL/miccai_ABIDE/data/ABIDE_pcp/cpac/filt_noglobal/51080/NYU_0051080_rois_ho.1D\n",
      "Reading timeseries file /data/zfzhu/zs/MMGL/miccai_ABIDE/data/ABIDE_pcp/cpac/filt_noglobal/51081/NYU_0051081_rois_ho.1D\n",
      "Reading timeseries file /data/zfzhu/zs/MMGL/miccai_ABIDE/data/ABIDE_pcp/cpac/filt_noglobal/51082/NYU_0051082_rois_ho.1D\n",
      "Reading timeseries file /data/zfzhu/zs/MMGL/miccai_ABIDE/data/ABIDE_pcp/cpac/filt_noglobal/51083/NYU_0051083_rois_ho.1D\n",
      "Reading timeseries file /data/zfzhu/zs/MMGL/miccai_ABIDE/data/ABIDE_pcp/cpac/filt_noglobal/51084/NYU_0051084_rois_ho.1D\n",
      "Reading timeseries file /data/zfzhu/zs/MMGL/miccai_ABIDE/data/ABIDE_pcp/cpac/filt_noglobal/51085/NYU_0051085_rois_ho.1D\n",
      "Reading timeseries file /data/zfzhu/zs/MMGL/miccai_ABIDE/data/ABIDE_pcp/cpac/filt_noglobal/51086/NYU_0051086_rois_ho.1D\n",
      "Reading timeseries file /data/zfzhu/zs/MMGL/miccai_ABIDE/data/ABIDE_pcp/cpac/filt_noglobal/51087/NYU_0051087_rois_ho.1D\n",
      "Reading timeseries file /data/zfzhu/zs/MMGL/miccai_ABIDE/data/ABIDE_pcp/cpac/filt_noglobal/51088/NYU_0051088_rois_ho.1D\n",
      "Reading timeseries file /data/zfzhu/zs/MMGL/miccai_ABIDE/data/ABIDE_pcp/cpac/filt_noglobal/51089/NYU_0051089_rois_ho.1D\n",
      "Reading timeseries file /data/zfzhu/zs/MMGL/miccai_ABIDE/data/ABIDE_pcp/cpac/filt_noglobal/51090/NYU_0051090_rois_ho.1D\n",
      "Reading timeseries file /data/zfzhu/zs/MMGL/miccai_ABIDE/data/ABIDE_pcp/cpac/filt_noglobal/51091/NYU_0051091_rois_ho.1D\n",
      "Reading timeseries file /data/zfzhu/zs/MMGL/miccai_ABIDE/data/ABIDE_pcp/cpac/filt_noglobal/51093/NYU_0051093_rois_ho.1D\n",
      "Reading timeseries file /data/zfzhu/zs/MMGL/miccai_ABIDE/data/ABIDE_pcp/cpac/filt_noglobal/51094/NYU_0051094_rois_ho.1D\n",
      "Reading timeseries file /data/zfzhu/zs/MMGL/miccai_ABIDE/data/ABIDE_pcp/cpac/filt_noglobal/51095/NYU_0051095_rois_ho.1D\n",
      "Reading timeseries file /data/zfzhu/zs/MMGL/miccai_ABIDE/data/ABIDE_pcp/cpac/filt_noglobal/51096/NYU_0051096_rois_ho.1D\n",
      "Reading timeseries file /data/zfzhu/zs/MMGL/miccai_ABIDE/data/ABIDE_pcp/cpac/filt_noglobal/51097/NYU_0051097_rois_ho.1D\n",
      "Reading timeseries file /data/zfzhu/zs/MMGL/miccai_ABIDE/data/ABIDE_pcp/cpac/filt_noglobal/51098/NYU_0051098_rois_ho.1D\n",
      "Reading timeseries file /data/zfzhu/zs/MMGL/miccai_ABIDE/data/ABIDE_pcp/cpac/filt_noglobal/51099/NYU_0051099_rois_ho.1D\n",
      "Reading timeseries file /data/zfzhu/zs/MMGL/miccai_ABIDE/data/ABIDE_pcp/cpac/filt_noglobal/51100/NYU_0051100_rois_ho.1D\n",
      "Reading timeseries file /data/zfzhu/zs/MMGL/miccai_ABIDE/data/ABIDE_pcp/cpac/filt_noglobal/51101/NYU_0051101_rois_ho.1D\n",
      "Reading timeseries file /data/zfzhu/zs/MMGL/miccai_ABIDE/data/ABIDE_pcp/cpac/filt_noglobal/51102/NYU_0051102_rois_ho.1D\n",
      "Reading timeseries file /data/zfzhu/zs/MMGL/miccai_ABIDE/data/ABIDE_pcp/cpac/filt_noglobal/51103/NYU_0051103_rois_ho.1D\n",
      "Reading timeseries file /data/zfzhu/zs/MMGL/miccai_ABIDE/data/ABIDE_pcp/cpac/filt_noglobal/51104/NYU_0051104_rois_ho.1D\n",
      "Reading timeseries file /data/zfzhu/zs/MMGL/miccai_ABIDE/data/ABIDE_pcp/cpac/filt_noglobal/51105/NYU_0051105_rois_ho.1D\n",
      "Reading timeseries file /data/zfzhu/zs/MMGL/miccai_ABIDE/data/ABIDE_pcp/cpac/filt_noglobal/51106/NYU_0051106_rois_ho.1D\n",
      "Reading timeseries file /data/zfzhu/zs/MMGL/miccai_ABIDE/data/ABIDE_pcp/cpac/filt_noglobal/51107/NYU_0051107_rois_ho.1D\n",
      "Reading timeseries file /data/zfzhu/zs/MMGL/miccai_ABIDE/data/ABIDE_pcp/cpac/filt_noglobal/51109/NYU_0051109_rois_ho.1D\n",
      "Reading timeseries file /data/zfzhu/zs/MMGL/miccai_ABIDE/data/ABIDE_pcp/cpac/filt_noglobal/51110/NYU_0051110_rois_ho.1D\n",
      "Reading timeseries file /data/zfzhu/zs/MMGL/miccai_ABIDE/data/ABIDE_pcp/cpac/filt_noglobal/51111/NYU_0051111_rois_ho.1D\n",
      "Reading timeseries file /data/zfzhu/zs/MMGL/miccai_ABIDE/data/ABIDE_pcp/cpac/filt_noglobal/51112/NYU_0051112_rois_ho.1D\n",
      "Reading timeseries file /data/zfzhu/zs/MMGL/miccai_ABIDE/data/ABIDE_pcp/cpac/filt_noglobal/51113/NYU_0051113_rois_ho.1D\n",
      "Reading timeseries file /data/zfzhu/zs/MMGL/miccai_ABIDE/data/ABIDE_pcp/cpac/filt_noglobal/51114/NYU_0051114_rois_ho.1D\n",
      "Reading timeseries file /data/zfzhu/zs/MMGL/miccai_ABIDE/data/ABIDE_pcp/cpac/filt_noglobal/51116/NYU_0051116_rois_ho.1D\n",
      "Reading timeseries file /data/zfzhu/zs/MMGL/miccai_ABIDE/data/ABIDE_pcp/cpac/filt_noglobal/51117/NYU_0051117_rois_ho.1D\n",
      "Reading timeseries file /data/zfzhu/zs/MMGL/miccai_ABIDE/data/ABIDE_pcp/cpac/filt_noglobal/51118/NYU_0051118_rois_ho.1D\n",
      "Reading timeseries file /data/zfzhu/zs/MMGL/miccai_ABIDE/data/ABIDE_pcp/cpac/filt_noglobal/51122/NYU_0051122_rois_ho.1D\n",
      "Reading timeseries file /data/zfzhu/zs/MMGL/miccai_ABIDE/data/ABIDE_pcp/cpac/filt_noglobal/51123/NYU_0051123_rois_ho.1D\n",
      "Reading timeseries file /data/zfzhu/zs/MMGL/miccai_ABIDE/data/ABIDE_pcp/cpac/filt_noglobal/51124/NYU_0051124_rois_ho.1D\n",
      "Reading timeseries file /data/zfzhu/zs/MMGL/miccai_ABIDE/data/ABIDE_pcp/cpac/filt_noglobal/51126/NYU_0051126_rois_ho.1D\n",
      "Reading timeseries file /data/zfzhu/zs/MMGL/miccai_ABIDE/data/ABIDE_pcp/cpac/filt_noglobal/51127/NYU_0051127_rois_ho.1D\n",
      "Reading timeseries file /data/zfzhu/zs/MMGL/miccai_ABIDE/data/ABIDE_pcp/cpac/filt_noglobal/51128/NYU_0051128_rois_ho.1D\n",
      "Reading timeseries file /data/zfzhu/zs/MMGL/miccai_ABIDE/data/ABIDE_pcp/cpac/filt_noglobal/51129/NYU_0051129_rois_ho.1D\n",
      "Reading timeseries file /data/zfzhu/zs/MMGL/miccai_ABIDE/data/ABIDE_pcp/cpac/filt_noglobal/51130/NYU_0051130_rois_ho.1D\n",
      "Reading timeseries file /data/zfzhu/zs/MMGL/miccai_ABIDE/data/ABIDE_pcp/cpac/filt_noglobal/51131/NYU_0051131_rois_ho.1D\n",
      "Reading timeseries file /data/zfzhu/zs/MMGL/miccai_ABIDE/data/ABIDE_pcp/cpac/filt_noglobal/51132/Trinity_0051132_rois_ho.1D\n",
      "Reading timeseries file /data/zfzhu/zs/MMGL/miccai_ABIDE/data/ABIDE_pcp/cpac/filt_noglobal/51133/Trinity_0051133_rois_ho.1D\n",
      "Reading timeseries file /data/zfzhu/zs/MMGL/miccai_ABIDE/data/ABIDE_pcp/cpac/filt_noglobal/51134/Trinity_0051134_rois_ho.1D\n",
      "Reading timeseries file /data/zfzhu/zs/MMGL/miccai_ABIDE/data/ABIDE_pcp/cpac/filt_noglobal/51135/Trinity_0051135_rois_ho.1D\n",
      "Reading timeseries file /data/zfzhu/zs/MMGL/miccai_ABIDE/data/ABIDE_pcp/cpac/filt_noglobal/51136/Trinity_0051136_rois_ho.1D\n",
      "Reading timeseries file /data/zfzhu/zs/MMGL/miccai_ABIDE/data/ABIDE_pcp/cpac/filt_noglobal/51137/Trinity_0051137_rois_ho.1D\n",
      "Reading timeseries file /data/zfzhu/zs/MMGL/miccai_ABIDE/data/ABIDE_pcp/cpac/filt_noglobal/51138/Trinity_0051138_rois_ho.1D\n",
      "Reading timeseries file /data/zfzhu/zs/MMGL/miccai_ABIDE/data/ABIDE_pcp/cpac/filt_noglobal/51139/Trinity_0051139_rois_ho.1D\n",
      "Reading timeseries file /data/zfzhu/zs/MMGL/miccai_ABIDE/data/ABIDE_pcp/cpac/filt_noglobal/51140/Trinity_0051140_rois_ho.1D\n",
      "Reading timeseries file /data/zfzhu/zs/MMGL/miccai_ABIDE/data/ABIDE_pcp/cpac/filt_noglobal/51141/Trinity_0051141_rois_ho.1D\n",
      "Reading timeseries file /data/zfzhu/zs/MMGL/miccai_ABIDE/data/ABIDE_pcp/cpac/filt_noglobal/51142/Trinity_0051142_rois_ho.1D\n",
      "Reading timeseries file /data/zfzhu/zs/MMGL/miccai_ABIDE/data/ABIDE_pcp/cpac/filt_noglobal/51146/NYU_0051146_rois_ho.1D\n",
      "Reading timeseries file /data/zfzhu/zs/MMGL/miccai_ABIDE/data/ABIDE_pcp/cpac/filt_noglobal/51147/NYU_0051147_rois_ho.1D\n",
      "Reading timeseries file /data/zfzhu/zs/MMGL/miccai_ABIDE/data/ABIDE_pcp/cpac/filt_noglobal/51148/NYU_0051148_rois_ho.1D\n",
      "Reading timeseries file /data/zfzhu/zs/MMGL/miccai_ABIDE/data/ABIDE_pcp/cpac/filt_noglobal/51149/NYU_0051149_rois_ho.1D\n",
      "Reading timeseries file /data/zfzhu/zs/MMGL/miccai_ABIDE/data/ABIDE_pcp/cpac/filt_noglobal/51150/NYU_0051150_rois_ho.1D\n",
      "Reading timeseries file /data/zfzhu/zs/MMGL/miccai_ABIDE/data/ABIDE_pcp/cpac/filt_noglobal/51151/NYU_0051151_rois_ho.1D\n",
      "Reading timeseries file /data/zfzhu/zs/MMGL/miccai_ABIDE/data/ABIDE_pcp/cpac/filt_noglobal/51152/NYU_0051152_rois_ho.1D\n",
      "Reading timeseries file /data/zfzhu/zs/MMGL/miccai_ABIDE/data/ABIDE_pcp/cpac/filt_noglobal/51153/NYU_0051153_rois_ho.1D\n",
      "Reading timeseries file /data/zfzhu/zs/MMGL/miccai_ABIDE/data/ABIDE_pcp/cpac/filt_noglobal/51154/NYU_0051154_rois_ho.1D\n",
      "Reading timeseries file /data/zfzhu/zs/MMGL/miccai_ABIDE/data/ABIDE_pcp/cpac/filt_noglobal/51155/NYU_0051155_rois_ho.1D\n",
      "Reading timeseries file /data/zfzhu/zs/MMGL/miccai_ABIDE/data/ABIDE_pcp/cpac/filt_noglobal/51156/NYU_0051156_rois_ho.1D\n",
      "Reading timeseries file /data/zfzhu/zs/MMGL/miccai_ABIDE/data/ABIDE_pcp/cpac/filt_noglobal/51159/NYU_0051159_rois_ho.1D\n",
      "Reading timeseries file /data/zfzhu/zs/MMGL/miccai_ABIDE/data/ABIDE_pcp/cpac/filt_noglobal/51161/Stanford_0051161_rois_ho.1D\n",
      "Reading timeseries file /data/zfzhu/zs/MMGL/miccai_ABIDE/data/ABIDE_pcp/cpac/filt_noglobal/51162/Stanford_0051162_rois_ho.1D\n",
      "Reading timeseries file /data/zfzhu/zs/MMGL/miccai_ABIDE/data/ABIDE_pcp/cpac/filt_noglobal/51163/Stanford_0051163_rois_ho.1D\n",
      "Reading timeseries file /data/zfzhu/zs/MMGL/miccai_ABIDE/data/ABIDE_pcp/cpac/filt_noglobal/51164/Stanford_0051164_rois_ho.1D\n",
      "Reading timeseries file /data/zfzhu/zs/MMGL/miccai_ABIDE/data/ABIDE_pcp/cpac/filt_noglobal/51168/Stanford_0051168_rois_ho.1D\n",
      "Reading timeseries file /data/zfzhu/zs/MMGL/miccai_ABIDE/data/ABIDE_pcp/cpac/filt_noglobal/51169/Stanford_0051169_rois_ho.1D\n",
      "Reading timeseries file /data/zfzhu/zs/MMGL/miccai_ABIDE/data/ABIDE_pcp/cpac/filt_noglobal/51170/Stanford_0051170_rois_ho.1D\n",
      "Reading timeseries file /data/zfzhu/zs/MMGL/miccai_ABIDE/data/ABIDE_pcp/cpac/filt_noglobal/51171/Stanford_0051171_rois_ho.1D\n",
      "Reading timeseries file /data/zfzhu/zs/MMGL/miccai_ABIDE/data/ABIDE_pcp/cpac/filt_noglobal/51173/Stanford_0051173_rois_ho.1D\n",
      "Reading timeseries file /data/zfzhu/zs/MMGL/miccai_ABIDE/data/ABIDE_pcp/cpac/filt_noglobal/51177/Stanford_0051177_rois_ho.1D\n",
      "Reading timeseries file /data/zfzhu/zs/MMGL/miccai_ABIDE/data/ABIDE_pcp/cpac/filt_noglobal/51178/Stanford_0051178_rois_ho.1D\n",
      "Reading timeseries file /data/zfzhu/zs/MMGL/miccai_ABIDE/data/ABIDE_pcp/cpac/filt_noglobal/51179/Stanford_0051179_rois_ho.1D\n",
      "Reading timeseries file /data/zfzhu/zs/MMGL/miccai_ABIDE/data/ABIDE_pcp/cpac/filt_noglobal/51180/Stanford_0051180_rois_ho.1D\n",
      "Reading timeseries file /data/zfzhu/zs/MMGL/miccai_ABIDE/data/ABIDE_pcp/cpac/filt_noglobal/51181/Stanford_0051181_rois_ho.1D\n",
      "Reading timeseries file /data/zfzhu/zs/MMGL/miccai_ABIDE/data/ABIDE_pcp/cpac/filt_noglobal/51182/Stanford_0051182_rois_ho.1D\n",
      "Reading timeseries file /data/zfzhu/zs/MMGL/miccai_ABIDE/data/ABIDE_pcp/cpac/filt_noglobal/51183/Stanford_0051183_rois_ho.1D\n",
      "Reading timeseries file /data/zfzhu/zs/MMGL/miccai_ABIDE/data/ABIDE_pcp/cpac/filt_noglobal/51184/Stanford_0051184_rois_ho.1D\n",
      "Reading timeseries file /data/zfzhu/zs/MMGL/miccai_ABIDE/data/ABIDE_pcp/cpac/filt_noglobal/51185/Stanford_0051185_rois_ho.1D\n",
      "Reading timeseries file /data/zfzhu/zs/MMGL/miccai_ABIDE/data/ABIDE_pcp/cpac/filt_noglobal/51187/Stanford_0051187_rois_ho.1D\n",
      "Reading timeseries file /data/zfzhu/zs/MMGL/miccai_ABIDE/data/ABIDE_pcp/cpac/filt_noglobal/51188/Stanford_0051188_rois_ho.1D\n",
      "Reading timeseries file /data/zfzhu/zs/MMGL/miccai_ABIDE/data/ABIDE_pcp/cpac/filt_noglobal/51189/Stanford_0051189_rois_ho.1D\n",
      "Reading timeseries file /data/zfzhu/zs/MMGL/miccai_ABIDE/data/ABIDE_pcp/cpac/filt_noglobal/51192/Stanford_0051192_rois_ho.1D\n",
      "Reading timeseries file /data/zfzhu/zs/MMGL/miccai_ABIDE/data/ABIDE_pcp/cpac/filt_noglobal/51194/Stanford_0051194_rois_ho.1D\n",
      "Reading timeseries file /data/zfzhu/zs/MMGL/miccai_ABIDE/data/ABIDE_pcp/cpac/filt_noglobal/51197/Stanford_0051197_rois_ho.1D\n",
      "Reading timeseries file /data/zfzhu/zs/MMGL/miccai_ABIDE/data/ABIDE_pcp/cpac/filt_noglobal/51198/Stanford_0051198_rois_ho.1D\n",
      "Reading timeseries file /data/zfzhu/zs/MMGL/miccai_ABIDE/data/ABIDE_pcp/cpac/filt_noglobal/51201/UCLA_1_0051201_rois_ho.1D\n",
      "Reading timeseries file /data/zfzhu/zs/MMGL/miccai_ABIDE/data/ABIDE_pcp/cpac/filt_noglobal/51202/UCLA_1_0051202_rois_ho.1D\n",
      "Reading timeseries file /data/zfzhu/zs/MMGL/miccai_ABIDE/data/ABIDE_pcp/cpac/filt_noglobal/51203/UCLA_1_0051203_rois_ho.1D\n",
      "Reading timeseries file /data/zfzhu/zs/MMGL/miccai_ABIDE/data/ABIDE_pcp/cpac/filt_noglobal/51204/UCLA_1_0051204_rois_ho.1D\n",
      "Reading timeseries file /data/zfzhu/zs/MMGL/miccai_ABIDE/data/ABIDE_pcp/cpac/filt_noglobal/51205/UCLA_1_0051205_rois_ho.1D\n",
      "Reading timeseries file /data/zfzhu/zs/MMGL/miccai_ABIDE/data/ABIDE_pcp/cpac/filt_noglobal/51206/UCLA_1_0051206_rois_ho.1D\n",
      "Reading timeseries file /data/zfzhu/zs/MMGL/miccai_ABIDE/data/ABIDE_pcp/cpac/filt_noglobal/51207/UCLA_1_0051207_rois_ho.1D\n",
      "Reading timeseries file /data/zfzhu/zs/MMGL/miccai_ABIDE/data/ABIDE_pcp/cpac/filt_noglobal/51208/UCLA_1_0051208_rois_ho.1D\n",
      "Reading timeseries file /data/zfzhu/zs/MMGL/miccai_ABIDE/data/ABIDE_pcp/cpac/filt_noglobal/51210/UCLA_1_0051210_rois_ho.1D\n",
      "Reading timeseries file /data/zfzhu/zs/MMGL/miccai_ABIDE/data/ABIDE_pcp/cpac/filt_noglobal/51211/UCLA_1_0051211_rois_ho.1D\n",
      "Reading timeseries file /data/zfzhu/zs/MMGL/miccai_ABIDE/data/ABIDE_pcp/cpac/filt_noglobal/51212/UCLA_1_0051212_rois_ho.1D\n",
      "Reading timeseries file /data/zfzhu/zs/MMGL/miccai_ABIDE/data/ABIDE_pcp/cpac/filt_noglobal/51214/UCLA_1_0051214_rois_ho.1D\n",
      "Reading timeseries file /data/zfzhu/zs/MMGL/miccai_ABIDE/data/ABIDE_pcp/cpac/filt_noglobal/51215/UCLA_1_0051215_rois_ho.1D\n",
      "Reading timeseries file /data/zfzhu/zs/MMGL/miccai_ABIDE/data/ABIDE_pcp/cpac/filt_noglobal/51216/UCLA_1_0051216_rois_ho.1D\n",
      "Reading timeseries file /data/zfzhu/zs/MMGL/miccai_ABIDE/data/ABIDE_pcp/cpac/filt_noglobal/51217/UCLA_1_0051217_rois_ho.1D\n",
      "Reading timeseries file /data/zfzhu/zs/MMGL/miccai_ABIDE/data/ABIDE_pcp/cpac/filt_noglobal/51218/UCLA_1_0051218_rois_ho.1D\n",
      "Reading timeseries file /data/zfzhu/zs/MMGL/miccai_ABIDE/data/ABIDE_pcp/cpac/filt_noglobal/51219/UCLA_1_0051219_rois_ho.1D\n",
      "Reading timeseries file /data/zfzhu/zs/MMGL/miccai_ABIDE/data/ABIDE_pcp/cpac/filt_noglobal/51220/UCLA_1_0051220_rois_ho.1D\n",
      "Reading timeseries file /data/zfzhu/zs/MMGL/miccai_ABIDE/data/ABIDE_pcp/cpac/filt_noglobal/51221/UCLA_1_0051221_rois_ho.1D\n",
      "Reading timeseries file /data/zfzhu/zs/MMGL/miccai_ABIDE/data/ABIDE_pcp/cpac/filt_noglobal/51222/UCLA_1_0051222_rois_ho.1D\n",
      "Reading timeseries file /data/zfzhu/zs/MMGL/miccai_ABIDE/data/ABIDE_pcp/cpac/filt_noglobal/51223/UCLA_1_0051223_rois_ho.1D\n",
      "Reading timeseries file /data/zfzhu/zs/MMGL/miccai_ABIDE/data/ABIDE_pcp/cpac/filt_noglobal/51224/UCLA_1_0051224_rois_ho.1D\n",
      "Reading timeseries file /data/zfzhu/zs/MMGL/miccai_ABIDE/data/ABIDE_pcp/cpac/filt_noglobal/51225/UCLA_1_0051225_rois_ho.1D\n",
      "Reading timeseries file /data/zfzhu/zs/MMGL/miccai_ABIDE/data/ABIDE_pcp/cpac/filt_noglobal/51226/UCLA_1_0051226_rois_ho.1D\n",
      "Reading timeseries file /data/zfzhu/zs/MMGL/miccai_ABIDE/data/ABIDE_pcp/cpac/filt_noglobal/51228/UCLA_1_0051228_rois_ho.1D\n",
      "Reading timeseries file /data/zfzhu/zs/MMGL/miccai_ABIDE/data/ABIDE_pcp/cpac/filt_noglobal/51229/UCLA_1_0051229_rois_ho.1D\n",
      "Reading timeseries file /data/zfzhu/zs/MMGL/miccai_ABIDE/data/ABIDE_pcp/cpac/filt_noglobal/51230/UCLA_1_0051230_rois_ho.1D\n",
      "Reading timeseries file /data/zfzhu/zs/MMGL/miccai_ABIDE/data/ABIDE_pcp/cpac/filt_noglobal/51231/UCLA_1_0051231_rois_ho.1D\n",
      "Reading timeseries file /data/zfzhu/zs/MMGL/miccai_ABIDE/data/ABIDE_pcp/cpac/filt_noglobal/51234/UCLA_1_0051234_rois_ho.1D\n",
      "Reading timeseries file /data/zfzhu/zs/MMGL/miccai_ABIDE/data/ABIDE_pcp/cpac/filt_noglobal/51235/UCLA_1_0051235_rois_ho.1D\n",
      "Reading timeseries file /data/zfzhu/zs/MMGL/miccai_ABIDE/data/ABIDE_pcp/cpac/filt_noglobal/51236/UCLA_1_0051236_rois_ho.1D\n",
      "Reading timeseries file /data/zfzhu/zs/MMGL/miccai_ABIDE/data/ABIDE_pcp/cpac/filt_noglobal/51237/UCLA_1_0051237_rois_ho.1D\n",
      "Reading timeseries file /data/zfzhu/zs/MMGL/miccai_ABIDE/data/ABIDE_pcp/cpac/filt_noglobal/51239/UCLA_1_0051239_rois_ho.1D\n",
      "Reading timeseries file /data/zfzhu/zs/MMGL/miccai_ABIDE/data/ABIDE_pcp/cpac/filt_noglobal/51240/UCLA_1_0051240_rois_ho.1D\n",
      "Reading timeseries file /data/zfzhu/zs/MMGL/miccai_ABIDE/data/ABIDE_pcp/cpac/filt_noglobal/51241/UCLA_1_0051241_rois_ho.1D\n",
      "Reading timeseries file /data/zfzhu/zs/MMGL/miccai_ABIDE/data/ABIDE_pcp/cpac/filt_noglobal/51248/UCLA_1_0051248_rois_ho.1D\n",
      "Reading timeseries file /data/zfzhu/zs/MMGL/miccai_ABIDE/data/ABIDE_pcp/cpac/filt_noglobal/51249/UCLA_1_0051249_rois_ho.1D\n",
      "Reading timeseries file /data/zfzhu/zs/MMGL/miccai_ABIDE/data/ABIDE_pcp/cpac/filt_noglobal/51250/UCLA_1_0051250_rois_ho.1D\n",
      "Reading timeseries file /data/zfzhu/zs/MMGL/miccai_ABIDE/data/ABIDE_pcp/cpac/filt_noglobal/51251/UCLA_1_0051251_rois_ho.1D\n",
      "Reading timeseries file /data/zfzhu/zs/MMGL/miccai_ABIDE/data/ABIDE_pcp/cpac/filt_noglobal/51252/UCLA_1_0051252_rois_ho.1D\n",
      "Reading timeseries file /data/zfzhu/zs/MMGL/miccai_ABIDE/data/ABIDE_pcp/cpac/filt_noglobal/51253/UCLA_1_0051253_rois_ho.1D\n",
      "Reading timeseries file /data/zfzhu/zs/MMGL/miccai_ABIDE/data/ABIDE_pcp/cpac/filt_noglobal/51254/UCLA_1_0051254_rois_ho.1D\n",
      "Reading timeseries file /data/zfzhu/zs/MMGL/miccai_ABIDE/data/ABIDE_pcp/cpac/filt_noglobal/51255/UCLA_1_0051255_rois_ho.1D\n",
      "Reading timeseries file /data/zfzhu/zs/MMGL/miccai_ABIDE/data/ABIDE_pcp/cpac/filt_noglobal/51256/UCLA_1_0051256_rois_ho.1D\n",
      "Reading timeseries file /data/zfzhu/zs/MMGL/miccai_ABIDE/data/ABIDE_pcp/cpac/filt_noglobal/51257/UCLA_1_0051257_rois_ho.1D\n",
      "Reading timeseries file /data/zfzhu/zs/MMGL/miccai_ABIDE/data/ABIDE_pcp/cpac/filt_noglobal/51260/UCLA_1_0051260_rois_ho.1D\n",
      "Reading timeseries file /data/zfzhu/zs/MMGL/miccai_ABIDE/data/ABIDE_pcp/cpac/filt_noglobal/51261/UCLA_1_0051261_rois_ho.1D\n",
      "Reading timeseries file /data/zfzhu/zs/MMGL/miccai_ABIDE/data/ABIDE_pcp/cpac/filt_noglobal/51262/UCLA_1_0051262_rois_ho.1D\n",
      "Reading timeseries file /data/zfzhu/zs/MMGL/miccai_ABIDE/data/ABIDE_pcp/cpac/filt_noglobal/51264/UCLA_1_0051264_rois_ho.1D\n",
      "Reading timeseries file /data/zfzhu/zs/MMGL/miccai_ABIDE/data/ABIDE_pcp/cpac/filt_noglobal/51265/UCLA_1_0051265_rois_ho.1D\n",
      "Reading timeseries file /data/zfzhu/zs/MMGL/miccai_ABIDE/data/ABIDE_pcp/cpac/filt_noglobal/51266/UCLA_1_0051266_rois_ho.1D\n",
      "Reading timeseries file /data/zfzhu/zs/MMGL/miccai_ABIDE/data/ABIDE_pcp/cpac/filt_noglobal/51267/UCLA_1_0051267_rois_ho.1D\n",
      "Reading timeseries file /data/zfzhu/zs/MMGL/miccai_ABIDE/data/ABIDE_pcp/cpac/filt_noglobal/51268/UCLA_1_0051268_rois_ho.1D\n",
      "Reading timeseries file /data/zfzhu/zs/MMGL/miccai_ABIDE/data/ABIDE_pcp/cpac/filt_noglobal/51269/UCLA_1_0051269_rois_ho.1D\n",
      "Reading timeseries file /data/zfzhu/zs/MMGL/miccai_ABIDE/data/ABIDE_pcp/cpac/filt_noglobal/51271/UCLA_1_0051271_rois_ho.1D\n",
      "Reading timeseries file /data/zfzhu/zs/MMGL/miccai_ABIDE/data/ABIDE_pcp/cpac/filt_noglobal/51272/UCLA_1_0051272_rois_ho.1D\n",
      "Reading timeseries file /data/zfzhu/zs/MMGL/miccai_ABIDE/data/ABIDE_pcp/cpac/filt_noglobal/51273/UCLA_1_0051273_rois_ho.1D\n",
      "Reading timeseries file /data/zfzhu/zs/MMGL/miccai_ABIDE/data/ABIDE_pcp/cpac/filt_noglobal/51275/UCLA_1_0051275_rois_ho.1D\n",
      "Reading timeseries file /data/zfzhu/zs/MMGL/miccai_ABIDE/data/ABIDE_pcp/cpac/filt_noglobal/51276/UCLA_1_0051276_rois_ho.1D\n",
      "Reading timeseries file /data/zfzhu/zs/MMGL/miccai_ABIDE/data/ABIDE_pcp/cpac/filt_noglobal/51277/UCLA_1_0051277_rois_ho.1D\n",
      "Reading timeseries file /data/zfzhu/zs/MMGL/miccai_ABIDE/data/ABIDE_pcp/cpac/filt_noglobal/51278/UCLA_1_0051278_rois_ho.1D\n",
      "Reading timeseries file /data/zfzhu/zs/MMGL/miccai_ABIDE/data/ABIDE_pcp/cpac/filt_noglobal/51279/UCLA_1_0051279_rois_ho.1D\n",
      "Reading timeseries file /data/zfzhu/zs/MMGL/miccai_ABIDE/data/ABIDE_pcp/cpac/filt_noglobal/51280/UCLA_1_0051280_rois_ho.1D\n",
      "Reading timeseries file /data/zfzhu/zs/MMGL/miccai_ABIDE/data/ABIDE_pcp/cpac/filt_noglobal/51281/UCLA_1_0051281_rois_ho.1D\n",
      "Reading timeseries file /data/zfzhu/zs/MMGL/miccai_ABIDE/data/ABIDE_pcp/cpac/filt_noglobal/51291/UCLA_2_0051291_rois_ho.1D\n",
      "Reading timeseries file /data/zfzhu/zs/MMGL/miccai_ABIDE/data/ABIDE_pcp/cpac/filt_noglobal/51292/UCLA_2_0051292_rois_ho.1D\n",
      "Reading timeseries file /data/zfzhu/zs/MMGL/miccai_ABIDE/data/ABIDE_pcp/cpac/filt_noglobal/51293/UCLA_2_0051293_rois_ho.1D\n",
      "Reading timeseries file /data/zfzhu/zs/MMGL/miccai_ABIDE/data/ABIDE_pcp/cpac/filt_noglobal/51294/UCLA_2_0051294_rois_ho.1D\n",
      "Reading timeseries file /data/zfzhu/zs/MMGL/miccai_ABIDE/data/ABIDE_pcp/cpac/filt_noglobal/51295/UCLA_2_0051295_rois_ho.1D\n",
      "Reading timeseries file /data/zfzhu/zs/MMGL/miccai_ABIDE/data/ABIDE_pcp/cpac/filt_noglobal/51297/UCLA_2_0051297_rois_ho.1D\n",
      "Reading timeseries file /data/zfzhu/zs/MMGL/miccai_ABIDE/data/ABIDE_pcp/cpac/filt_noglobal/51298/UCLA_2_0051298_rois_ho.1D\n",
      "Reading timeseries file /data/zfzhu/zs/MMGL/miccai_ABIDE/data/ABIDE_pcp/cpac/filt_noglobal/51299/UCLA_2_0051299_rois_ho.1D\n",
      "Reading timeseries file /data/zfzhu/zs/MMGL/miccai_ABIDE/data/ABIDE_pcp/cpac/filt_noglobal/51300/UCLA_2_0051300_rois_ho.1D\n",
      "Reading timeseries file /data/zfzhu/zs/MMGL/miccai_ABIDE/data/ABIDE_pcp/cpac/filt_noglobal/51301/UCLA_2_0051301_rois_ho.1D\n",
      "Reading timeseries file /data/zfzhu/zs/MMGL/miccai_ABIDE/data/ABIDE_pcp/cpac/filt_noglobal/51302/UCLA_2_0051302_rois_ho.1D\n",
      "Reading timeseries file /data/zfzhu/zs/MMGL/miccai_ABIDE/data/ABIDE_pcp/cpac/filt_noglobal/51303/UCLA_2_0051303_rois_ho.1D\n",
      "Reading timeseries file /data/zfzhu/zs/MMGL/miccai_ABIDE/data/ABIDE_pcp/cpac/filt_noglobal/51304/UCLA_2_0051304_rois_ho.1D\n",
      "Reading timeseries file /data/zfzhu/zs/MMGL/miccai_ABIDE/data/ABIDE_pcp/cpac/filt_noglobal/51305/UCLA_2_0051305_rois_ho.1D\n",
      "Reading timeseries file /data/zfzhu/zs/MMGL/miccai_ABIDE/data/ABIDE_pcp/cpac/filt_noglobal/51306/UCLA_2_0051306_rois_ho.1D\n",
      "Reading timeseries file /data/zfzhu/zs/MMGL/miccai_ABIDE/data/ABIDE_pcp/cpac/filt_noglobal/51307/UCLA_2_0051307_rois_ho.1D\n",
      "Reading timeseries file /data/zfzhu/zs/MMGL/miccai_ABIDE/data/ABIDE_pcp/cpac/filt_noglobal/51308/UCLA_2_0051308_rois_ho.1D\n",
      "Reading timeseries file /data/zfzhu/zs/MMGL/miccai_ABIDE/data/ABIDE_pcp/cpac/filt_noglobal/51309/UCLA_2_0051309_rois_ho.1D\n",
      "Reading timeseries file /data/zfzhu/zs/MMGL/miccai_ABIDE/data/ABIDE_pcp/cpac/filt_noglobal/51311/UCLA_2_0051311_rois_ho.1D\n",
      "Reading timeseries file /data/zfzhu/zs/MMGL/miccai_ABIDE/data/ABIDE_pcp/cpac/filt_noglobal/51313/UCLA_2_0051313_rois_ho.1D\n",
      "Reading timeseries file /data/zfzhu/zs/MMGL/miccai_ABIDE/data/ABIDE_pcp/cpac/filt_noglobal/51315/UCLA_2_0051315_rois_ho.1D\n",
      "Reading timeseries file /data/zfzhu/zs/MMGL/miccai_ABIDE/data/ABIDE_pcp/cpac/filt_noglobal/51318/MaxMun_a_0051318_rois_ho.1D\n",
      "Reading timeseries file /data/zfzhu/zs/MMGL/miccai_ABIDE/data/ABIDE_pcp/cpac/filt_noglobal/51319/MaxMun_a_0051319_rois_ho.1D\n",
      "Reading timeseries file /data/zfzhu/zs/MMGL/miccai_ABIDE/data/ABIDE_pcp/cpac/filt_noglobal/51320/MaxMun_a_0051320_rois_ho.1D\n",
      "Reading timeseries file /data/zfzhu/zs/MMGL/miccai_ABIDE/data/ABIDE_pcp/cpac/filt_noglobal/51321/MaxMun_a_0051321_rois_ho.1D\n",
      "Reading timeseries file /data/zfzhu/zs/MMGL/miccai_ABIDE/data/ABIDE_pcp/cpac/filt_noglobal/51322/MaxMun_b_0051322_rois_ho.1D\n",
      "Reading timeseries file /data/zfzhu/zs/MMGL/miccai_ABIDE/data/ABIDE_pcp/cpac/filt_noglobal/51323/MaxMun_b_0051323_rois_ho.1D\n",
      "Reading timeseries file /data/zfzhu/zs/MMGL/miccai_ABIDE/data/ABIDE_pcp/cpac/filt_noglobal/51325/MaxMun_b_0051325_rois_ho.1D\n",
      "Reading timeseries file /data/zfzhu/zs/MMGL/miccai_ABIDE/data/ABIDE_pcp/cpac/filt_noglobal/51326/MaxMun_b_0051326_rois_ho.1D\n",
      "Reading timeseries file /data/zfzhu/zs/MMGL/miccai_ABIDE/data/ABIDE_pcp/cpac/filt_noglobal/51327/MaxMun_b_0051327_rois_ho.1D\n",
      "Reading timeseries file /data/zfzhu/zs/MMGL/miccai_ABIDE/data/ABIDE_pcp/cpac/filt_noglobal/51328/MaxMun_c_0051328_rois_ho.1D\n",
      "Reading timeseries file /data/zfzhu/zs/MMGL/miccai_ABIDE/data/ABIDE_pcp/cpac/filt_noglobal/51329/MaxMun_d_0051329_rois_ho.1D\n",
      "Reading timeseries file /data/zfzhu/zs/MMGL/miccai_ABIDE/data/ABIDE_pcp/cpac/filt_noglobal/51330/MaxMun_d_0051330_rois_ho.1D\n",
      "Reading timeseries file /data/zfzhu/zs/MMGL/miccai_ABIDE/data/ABIDE_pcp/cpac/filt_noglobal/51331/MaxMun_d_0051331_rois_ho.1D\n",
      "Reading timeseries file /data/zfzhu/zs/MMGL/miccai_ABIDE/data/ABIDE_pcp/cpac/filt_noglobal/51332/MaxMun_c_0051332_rois_ho.1D\n",
      "Reading timeseries file /data/zfzhu/zs/MMGL/miccai_ABIDE/data/ABIDE_pcp/cpac/filt_noglobal/51333/MaxMun_c_0051333_rois_ho.1D\n",
      "Reading timeseries file /data/zfzhu/zs/MMGL/miccai_ABIDE/data/ABIDE_pcp/cpac/filt_noglobal/51334/MaxMun_c_0051334_rois_ho.1D\n",
      "Reading timeseries file /data/zfzhu/zs/MMGL/miccai_ABIDE/data/ABIDE_pcp/cpac/filt_noglobal/51335/MaxMun_c_0051335_rois_ho.1D\n",
      "Reading timeseries file /data/zfzhu/zs/MMGL/miccai_ABIDE/data/ABIDE_pcp/cpac/filt_noglobal/51336/MaxMun_c_0051336_rois_ho.1D\n",
      "Reading timeseries file /data/zfzhu/zs/MMGL/miccai_ABIDE/data/ABIDE_pcp/cpac/filt_noglobal/51338/MaxMun_c_0051338_rois_ho.1D\n",
      "Reading timeseries file /data/zfzhu/zs/MMGL/miccai_ABIDE/data/ABIDE_pcp/cpac/filt_noglobal/51339/MaxMun_c_0051339_rois_ho.1D\n",
      "Reading timeseries file /data/zfzhu/zs/MMGL/miccai_ABIDE/data/ABIDE_pcp/cpac/filt_noglobal/51340/MaxMun_c_0051340_rois_ho.1D\n",
      "Reading timeseries file /data/zfzhu/zs/MMGL/miccai_ABIDE/data/ABIDE_pcp/cpac/filt_noglobal/51341/MaxMun_c_0051341_rois_ho.1D\n",
      "Reading timeseries file /data/zfzhu/zs/MMGL/miccai_ABIDE/data/ABIDE_pcp/cpac/filt_noglobal/51342/MaxMun_c_0051342_rois_ho.1D\n",
      "Reading timeseries file /data/zfzhu/zs/MMGL/miccai_ABIDE/data/ABIDE_pcp/cpac/filt_noglobal/51343/MaxMun_c_0051343_rois_ho.1D\n",
      "Reading timeseries file /data/zfzhu/zs/MMGL/miccai_ABIDE/data/ABIDE_pcp/cpac/filt_noglobal/51344/MaxMun_c_0051344_rois_ho.1D\n",
      "Reading timeseries file /data/zfzhu/zs/MMGL/miccai_ABIDE/data/ABIDE_pcp/cpac/filt_noglobal/51345/MaxMun_c_0051345_rois_ho.1D\n",
      "Reading timeseries file /data/zfzhu/zs/MMGL/miccai_ABIDE/data/ABIDE_pcp/cpac/filt_noglobal/51346/MaxMun_c_0051346_rois_ho.1D\n",
      "Reading timeseries file /data/zfzhu/zs/MMGL/miccai_ABIDE/data/ABIDE_pcp/cpac/filt_noglobal/51347/MaxMun_c_0051347_rois_ho.1D\n",
      "Reading timeseries file /data/zfzhu/zs/MMGL/miccai_ABIDE/data/ABIDE_pcp/cpac/filt_noglobal/51349/MaxMun_d_0051349_rois_ho.1D\n",
      "Reading timeseries file /data/zfzhu/zs/MMGL/miccai_ABIDE/data/ABIDE_pcp/cpac/filt_noglobal/51350/MaxMun_d_0051350_rois_ho.1D\n",
      "Reading timeseries file /data/zfzhu/zs/MMGL/miccai_ABIDE/data/ABIDE_pcp/cpac/filt_noglobal/51351/MaxMun_d_0051351_rois_ho.1D\n",
      "Reading timeseries file /data/zfzhu/zs/MMGL/miccai_ABIDE/data/ABIDE_pcp/cpac/filt_noglobal/51354/MaxMun_d_0051354_rois_ho.1D\n",
      "Reading timeseries file /data/zfzhu/zs/MMGL/miccai_ABIDE/data/ABIDE_pcp/cpac/filt_noglobal/51356/MaxMun_d_0051356_rois_ho.1D\n",
      "Reading timeseries file /data/zfzhu/zs/MMGL/miccai_ABIDE/data/ABIDE_pcp/cpac/filt_noglobal/51357/MaxMun_d_0051357_rois_ho.1D\n",
      "Reading timeseries file /data/zfzhu/zs/MMGL/miccai_ABIDE/data/ABIDE_pcp/cpac/filt_noglobal/51359/MaxMun_d_0051359_rois_ho.1D\n",
      "Reading timeseries file /data/zfzhu/zs/MMGL/miccai_ABIDE/data/ABIDE_pcp/cpac/filt_noglobal/51360/MaxMun_d_0051360_rois_ho.1D\n",
      "Reading timeseries file /data/zfzhu/zs/MMGL/miccai_ABIDE/data/ABIDE_pcp/cpac/filt_noglobal/51361/MaxMun_d_0051361_rois_ho.1D\n",
      "Reading timeseries file /data/zfzhu/zs/MMGL/miccai_ABIDE/data/ABIDE_pcp/cpac/filt_noglobal/51362/MaxMun_a_0051362_rois_ho.1D\n",
      "Reading timeseries file /data/zfzhu/zs/MMGL/miccai_ABIDE/data/ABIDE_pcp/cpac/filt_noglobal/51363/MaxMun_a_0051363_rois_ho.1D\n",
      "Reading timeseries file /data/zfzhu/zs/MMGL/miccai_ABIDE/data/ABIDE_pcp/cpac/filt_noglobal/51364/MaxMun_a_0051364_rois_ho.1D\n",
      "Reading timeseries file /data/zfzhu/zs/MMGL/miccai_ABIDE/data/ABIDE_pcp/cpac/filt_noglobal/51365/MaxMun_a_0051365_rois_ho.1D\n",
      "Reading timeseries file /data/zfzhu/zs/MMGL/miccai_ABIDE/data/ABIDE_pcp/cpac/filt_noglobal/51369/MaxMun_a_0051369_rois_ho.1D\n",
      "Reading timeseries file /data/zfzhu/zs/MMGL/miccai_ABIDE/data/ABIDE_pcp/cpac/filt_noglobal/51370/MaxMun_a_0051370_rois_ho.1D\n",
      "Reading timeseries file /data/zfzhu/zs/MMGL/miccai_ABIDE/data/ABIDE_pcp/cpac/filt_noglobal/51373/MaxMun_a_0051373_rois_ho.1D\n",
      "Reading timeseries file /data/zfzhu/zs/MMGL/miccai_ABIDE/data/ABIDE_pcp/cpac/filt_noglobal/51461/Caltech_0051461_rois_ho.1D\n",
      "Reading timeseries file /data/zfzhu/zs/MMGL/miccai_ABIDE/data/ABIDE_pcp/cpac/filt_noglobal/51463/Caltech_0051463_rois_ho.1D\n",
      "Reading timeseries file /data/zfzhu/zs/MMGL/miccai_ABIDE/data/ABIDE_pcp/cpac/filt_noglobal/51464/Caltech_0051464_rois_ho.1D\n",
      "Reading timeseries file /data/zfzhu/zs/MMGL/miccai_ABIDE/data/ABIDE_pcp/cpac/filt_noglobal/51465/Caltech_0051465_rois_ho.1D\n",
      "Reading timeseries file /data/zfzhu/zs/MMGL/miccai_ABIDE/data/ABIDE_pcp/cpac/filt_noglobal/51473/Caltech_0051473_rois_ho.1D\n",
      "Reading timeseries file /data/zfzhu/zs/MMGL/miccai_ABIDE/data/ABIDE_pcp/cpac/filt_noglobal/51477/Caltech_0051477_rois_ho.1D\n",
      "Reading timeseries file /data/zfzhu/zs/MMGL/miccai_ABIDE/data/ABIDE_pcp/cpac/filt_noglobal/51479/Caltech_0051479_rois_ho.1D\n",
      "Reading timeseries file /data/zfzhu/zs/MMGL/miccai_ABIDE/data/ABIDE_pcp/cpac/filt_noglobal/51480/Caltech_0051480_rois_ho.1D\n",
      "Reading timeseries file /data/zfzhu/zs/MMGL/miccai_ABIDE/data/ABIDE_pcp/cpac/filt_noglobal/51481/Caltech_0051481_rois_ho.1D\n",
      "Reading timeseries file /data/zfzhu/zs/MMGL/miccai_ABIDE/data/ABIDE_pcp/cpac/filt_noglobal/51482/Caltech_0051482_rois_ho.1D\n",
      "Reading timeseries file /data/zfzhu/zs/MMGL/miccai_ABIDE/data/ABIDE_pcp/cpac/filt_noglobal/51484/Caltech_0051484_rois_ho.1D\n",
      "Reading timeseries file /data/zfzhu/zs/MMGL/miccai_ABIDE/data/ABIDE_pcp/cpac/filt_noglobal/51487/Caltech_0051487_rois_ho.1D\n",
      "Reading timeseries file /data/zfzhu/zs/MMGL/miccai_ABIDE/data/ABIDE_pcp/cpac/filt_noglobal/51488/Caltech_0051488_rois_ho.1D\n",
      "Reading timeseries file /data/zfzhu/zs/MMGL/miccai_ABIDE/data/ABIDE_pcp/cpac/filt_noglobal/51491/Caltech_0051491_rois_ho.1D\n",
      "Reading timeseries file /data/zfzhu/zs/MMGL/miccai_ABIDE/data/ABIDE_pcp/cpac/filt_noglobal/51493/Caltech_0051493_rois_ho.1D\n",
      "Reading timeseries file /data/zfzhu/zs/MMGL/miccai_ABIDE/data/ABIDE_pcp/cpac/filt_noglobal/51556/SBL_0051556_rois_ho.1D\n",
      "Reading timeseries file /data/zfzhu/zs/MMGL/miccai_ABIDE/data/ABIDE_pcp/cpac/filt_noglobal/51557/SBL_0051557_rois_ho.1D\n",
      "Reading timeseries file /data/zfzhu/zs/MMGL/miccai_ABIDE/data/ABIDE_pcp/cpac/filt_noglobal/51558/SBL_0051558_rois_ho.1D\n",
      "Reading timeseries file /data/zfzhu/zs/MMGL/miccai_ABIDE/data/ABIDE_pcp/cpac/filt_noglobal/51559/SBL_0051559_rois_ho.1D\n",
      "Reading timeseries file /data/zfzhu/zs/MMGL/miccai_ABIDE/data/ABIDE_pcp/cpac/filt_noglobal/51560/SBL_0051560_rois_ho.1D\n",
      "Reading timeseries file /data/zfzhu/zs/MMGL/miccai_ABIDE/data/ABIDE_pcp/cpac/filt_noglobal/51562/SBL_0051562_rois_ho.1D\n",
      "Reading timeseries file /data/zfzhu/zs/MMGL/miccai_ABIDE/data/ABIDE_pcp/cpac/filt_noglobal/51563/SBL_0051563_rois_ho.1D\n",
      "Reading timeseries file /data/zfzhu/zs/MMGL/miccai_ABIDE/data/ABIDE_pcp/cpac/filt_noglobal/51564/SBL_0051564_rois_ho.1D\n",
      "Reading timeseries file /data/zfzhu/zs/MMGL/miccai_ABIDE/data/ABIDE_pcp/cpac/filt_noglobal/51565/SBL_0051565_rois_ho.1D\n",
      "Reading timeseries file /data/zfzhu/zs/MMGL/miccai_ABIDE/data/ABIDE_pcp/cpac/filt_noglobal/51566/SBL_0051566_rois_ho.1D\n",
      "Reading timeseries file /data/zfzhu/zs/MMGL/miccai_ABIDE/data/ABIDE_pcp/cpac/filt_noglobal/51567/SBL_0051567_rois_ho.1D\n",
      "Reading timeseries file /data/zfzhu/zs/MMGL/miccai_ABIDE/data/ABIDE_pcp/cpac/filt_noglobal/51568/SBL_0051568_rois_ho.1D\n",
      "Reading timeseries file /data/zfzhu/zs/MMGL/miccai_ABIDE/data/ABIDE_pcp/cpac/filt_noglobal/51569/SBL_0051569_rois_ho.1D\n",
      "Reading timeseries file /data/zfzhu/zs/MMGL/miccai_ABIDE/data/ABIDE_pcp/cpac/filt_noglobal/51570/SBL_0051570_rois_ho.1D\n",
      "Reading timeseries file /data/zfzhu/zs/MMGL/miccai_ABIDE/data/ABIDE_pcp/cpac/filt_noglobal/51572/SBL_0051572_rois_ho.1D\n",
      "Reading timeseries file /data/zfzhu/zs/MMGL/miccai_ABIDE/data/ABIDE_pcp/cpac/filt_noglobal/51573/SBL_0051573_rois_ho.1D\n",
      "Reading timeseries file /data/zfzhu/zs/MMGL/miccai_ABIDE/data/ABIDE_pcp/cpac/filt_noglobal/51574/SBL_0051574_rois_ho.1D\n",
      "Reading timeseries file /data/zfzhu/zs/MMGL/miccai_ABIDE/data/ABIDE_pcp/cpac/filt_noglobal/51576/SBL_0051576_rois_ho.1D\n",
      "Reading timeseries file /data/zfzhu/zs/MMGL/miccai_ABIDE/data/ABIDE_pcp/cpac/filt_noglobal/51577/SBL_0051577_rois_ho.1D\n",
      "Reading timeseries file /data/zfzhu/zs/MMGL/miccai_ABIDE/data/ABIDE_pcp/cpac/filt_noglobal/51578/SBL_0051578_rois_ho.1D\n",
      "Reading timeseries file /data/zfzhu/zs/MMGL/miccai_ABIDE/data/ABIDE_pcp/cpac/filt_noglobal/51579/SBL_0051579_rois_ho.1D\n",
      "Reading timeseries file /data/zfzhu/zs/MMGL/miccai_ABIDE/data/ABIDE_pcp/cpac/filt_noglobal/51580/SBL_0051580_rois_ho.1D\n",
      "Reading timeseries file /data/zfzhu/zs/MMGL/miccai_ABIDE/data/ABIDE_pcp/cpac/filt_noglobal/51582/SBL_0051582_rois_ho.1D\n",
      "Reading timeseries file /data/zfzhu/zs/MMGL/miccai_ABIDE/data/ABIDE_pcp/cpac/filt_noglobal/51583/SBL_0051583_rois_ho.1D\n",
      "Reading timeseries file /data/zfzhu/zs/MMGL/miccai_ABIDE/data/ABIDE_pcp/cpac/filt_noglobal/51584/SBL_0051584_rois_ho.1D\n",
      "Reading timeseries file /data/zfzhu/zs/MMGL/miccai_ABIDE/data/ABIDE_pcp/cpac/filt_noglobal/51585/SBL_0051585_rois_ho.1D\n",
      "Reading timeseries file /data/zfzhu/zs/MMGL/miccai_ABIDE/data/ABIDE_pcp/cpac/filt_noglobal/51606/MaxMun_a_0051606_rois_ho.1D\n",
      "Reading timeseries file /data/zfzhu/zs/MMGL/miccai_ABIDE/data/ABIDE_pcp/cpac/filt_noglobal/51607/MaxMun_a_0051607_rois_ho.1D\n",
      "Estimating correlation matrix for subject 50003\n",
      "Estimating correlation matrix for subject 50004\n",
      "Estimating correlation matrix for subject 50005\n",
      "Estimating correlation matrix for subject 50006\n",
      "Estimating correlation matrix for subject 50007\n",
      "Estimating correlation matrix for subject 50008\n",
      "Estimating correlation matrix for subject 50010\n",
      "Estimating correlation matrix for subject 50011\n",
      "Estimating correlation matrix for subject 50012\n",
      "Estimating correlation matrix for subject 50013\n",
      "Estimating correlation matrix for subject 50014\n",
      "Estimating correlation matrix for subject 50015\n",
      "Estimating correlation matrix for subject 50016\n",
      "Estimating correlation matrix for subject 50020\n",
      "Estimating correlation matrix for subject 50022\n",
      "Estimating correlation matrix for subject 50023\n",
      "Estimating correlation matrix for subject 50024\n",
      "Estimating correlation matrix for subject 50025\n",
      "Estimating correlation matrix for subject 50026\n",
      "Estimating correlation matrix for subject 50027\n",
      "Estimating correlation matrix for subject 50028\n",
      "Estimating correlation matrix for subject 50030\n",
      "Estimating correlation matrix for subject 50031\n",
      "Estimating correlation matrix for subject 50032\n",
      "Estimating correlation matrix for subject 50033\n",
      "Estimating correlation matrix for subject 50034\n",
      "Estimating correlation matrix for subject 50035\n",
      "Estimating correlation matrix for subject 50036\n",
      "Estimating correlation matrix for subject 50037\n",
      "Estimating correlation matrix for subject 50038\n",
      "Estimating correlation matrix for subject 50039\n",
      "Estimating correlation matrix for subject 50040\n",
      "Estimating correlation matrix for subject 50041\n",
      "Estimating correlation matrix for subject 50042\n",
      "Estimating correlation matrix for subject 50043\n",
      "Estimating correlation matrix for subject 50044\n",
      "Estimating correlation matrix for subject 50045\n",
      "Estimating correlation matrix for subject 50046\n",
      "Estimating correlation matrix for subject 50047\n",
      "Estimating correlation matrix for subject 50048\n",
      "Estimating correlation matrix for subject 50049\n",
      "Estimating correlation matrix for subject 50050\n",
      "Estimating correlation matrix for subject 50051\n",
      "Estimating correlation matrix for subject 50052\n",
      "Estimating correlation matrix for subject 50053\n",
      "Estimating correlation matrix for subject 50054\n",
      "Estimating correlation matrix for subject 50056\n",
      "Estimating correlation matrix for subject 50057\n",
      "Estimating correlation matrix for subject 50059\n",
      "Estimating correlation matrix for subject 50060\n",
      "Estimating correlation matrix for subject 50102\n",
      "Estimating correlation matrix for subject 50103\n",
      "Estimating correlation matrix for subject 50104\n",
      "Estimating correlation matrix for subject 50105\n",
      "Estimating correlation matrix for subject 50106\n",
      "Estimating correlation matrix for subject 50107\n",
      "Estimating correlation matrix for subject 50109\n",
      "Estimating correlation matrix for subject 50111\n",
      "Estimating correlation matrix for subject 50112\n",
      "Estimating correlation matrix for subject 50113\n",
      "Estimating correlation matrix for subject 50114\n",
      "Estimating correlation matrix for subject 50115\n",
      "Estimating correlation matrix for subject 50116\n",
      "Estimating correlation matrix for subject 50117\n",
      "Estimating correlation matrix for subject 50118\n",
      "Estimating correlation matrix for subject 50119\n",
      "Estimating correlation matrix for subject 50121\n",
      "Estimating correlation matrix for subject 50123\n",
      "Estimating correlation matrix for subject 50124\n",
      "Estimating correlation matrix for subject 50125\n",
      "Estimating correlation matrix for subject 50127\n",
      "Estimating correlation matrix for subject 50128\n",
      "Estimating correlation matrix for subject 50129\n",
      "Estimating correlation matrix for subject 50130\n",
      "Estimating correlation matrix for subject 50131\n",
      "Estimating correlation matrix for subject 50132\n",
      "Estimating correlation matrix for subject 50134\n",
      "Estimating correlation matrix for subject 50135\n",
      "Estimating correlation matrix for subject 50142\n",
      "Estimating correlation matrix for subject 50143\n",
      "Estimating correlation matrix for subject 50144\n",
      "Estimating correlation matrix for subject 50145\n",
      "Estimating correlation matrix for subject 50146\n",
      "Estimating correlation matrix for subject 50147\n",
      "Estimating correlation matrix for subject 50148\n",
      "Estimating correlation matrix for subject 50149\n",
      "Estimating correlation matrix for subject 50150\n",
      "Estimating correlation matrix for subject 50152\n",
      "Estimating correlation matrix for subject 50153\n",
      "Estimating correlation matrix for subject 50156\n",
      "Estimating correlation matrix for subject 50157\n",
      "Estimating correlation matrix for subject 50158\n",
      "Estimating correlation matrix for subject 50159\n",
      "Estimating correlation matrix for subject 50160\n",
      "Estimating correlation matrix for subject 50161\n",
      "Estimating correlation matrix for subject 50162\n",
      "Estimating correlation matrix for subject 50163\n",
      "Estimating correlation matrix for subject 50164\n",
      "Estimating correlation matrix for subject 50167\n",
      "Estimating correlation matrix for subject 50168\n",
      "Estimating correlation matrix for subject 50169\n",
      "Estimating correlation matrix for subject 50170\n",
      "Estimating correlation matrix for subject 50171\n",
      "Estimating correlation matrix for subject 50182\n",
      "Estimating correlation matrix for subject 50183\n",
      "Estimating correlation matrix for subject 50184\n",
      "Estimating correlation matrix for subject 50186\n",
      "Estimating correlation matrix for subject 50187\n",
      "Estimating correlation matrix for subject 50188\n",
      "Estimating correlation matrix for subject 50189\n",
      "Estimating correlation matrix for subject 50190\n",
      "Estimating correlation matrix for subject 50193\n",
      "Estimating correlation matrix for subject 50194\n",
      "Estimating correlation matrix for subject 50195\n",
      "Estimating correlation matrix for subject 50196\n",
      "Estimating correlation matrix for subject 50198\n",
      "Estimating correlation matrix for subject 50199\n",
      "Estimating correlation matrix for subject 50200\n",
      "Estimating correlation matrix for subject 50201\n",
      "Estimating correlation matrix for subject 50202\n",
      "Estimating correlation matrix for subject 50203\n",
      "Estimating correlation matrix for subject 50204\n",
      "Estimating correlation matrix for subject 50205\n",
      "Estimating correlation matrix for subject 50206\n",
      "Estimating correlation matrix for subject 50208\n",
      "Estimating correlation matrix for subject 50210\n",
      "Estimating correlation matrix for subject 50213\n",
      "Estimating correlation matrix for subject 50214\n",
      "Estimating correlation matrix for subject 50215\n",
      "Estimating correlation matrix for subject 50217\n",
      "Estimating correlation matrix for subject 50232\n",
      "Estimating correlation matrix for subject 50233\n",
      "Estimating correlation matrix for subject 50234\n",
      "Estimating correlation matrix for subject 50236\n",
      "Estimating correlation matrix for subject 50237\n",
      "Estimating correlation matrix for subject 50239\n",
      "Estimating correlation matrix for subject 50240\n",
      "Estimating correlation matrix for subject 50241\n",
      "Estimating correlation matrix for subject 50243\n",
      "Estimating correlation matrix for subject 50245\n",
      "Estimating correlation matrix for subject 50247\n",
      "Estimating correlation matrix for subject 50248\n",
      "Estimating correlation matrix for subject 50249\n",
      "Estimating correlation matrix for subject 50250\n",
      "Estimating correlation matrix for subject 50251\n",
      "Estimating correlation matrix for subject 50252\n",
      "Estimating correlation matrix for subject 50253\n",
      "Estimating correlation matrix for subject 50254\n",
      "Estimating correlation matrix for subject 50255\n",
      "Estimating correlation matrix for subject 50257\n",
      "Estimating correlation matrix for subject 50259\n",
      "Estimating correlation matrix for subject 50260\n",
      "Estimating correlation matrix for subject 50261\n",
      "Estimating correlation matrix for subject 50262\n",
      "Estimating correlation matrix for subject 50263\n",
      "Estimating correlation matrix for subject 50264\n",
      "Estimating correlation matrix for subject 50265\n",
      "Estimating correlation matrix for subject 50266\n",
      "Estimating correlation matrix for subject 50267\n",
      "Estimating correlation matrix for subject 50268\n",
      "Estimating correlation matrix for subject 50269\n",
      "Estimating correlation matrix for subject 50270\n",
      "Estimating correlation matrix for subject 50271\n",
      "Estimating correlation matrix for subject 50272\n",
      "Estimating correlation matrix for subject 50273\n",
      "Estimating correlation matrix for subject 50274\n",
      "Estimating correlation matrix for subject 50275\n",
      "Estimating correlation matrix for subject 50276\n",
      "Estimating correlation matrix for subject 50278\n",
      "Estimating correlation matrix for subject 50282\n",
      "Estimating correlation matrix for subject 50284\n",
      "Estimating correlation matrix for subject 50285\n",
      "Estimating correlation matrix for subject 50287\n",
      "Estimating correlation matrix for subject 50289\n",
      "Estimating correlation matrix for subject 50290\n",
      "Estimating correlation matrix for subject 50291\n",
      "Estimating correlation matrix for subject 50292\n",
      "Estimating correlation matrix for subject 50293\n",
      "Estimating correlation matrix for subject 50294\n",
      "Estimating correlation matrix for subject 50295\n",
      "Estimating correlation matrix for subject 50297\n",
      "Estimating correlation matrix for subject 50298\n",
      "Estimating correlation matrix for subject 50300\n",
      "Estimating correlation matrix for subject 50301\n",
      "Estimating correlation matrix for subject 50302\n",
      "Estimating correlation matrix for subject 50304\n",
      "Estimating correlation matrix for subject 50308\n",
      "Estimating correlation matrix for subject 50310\n",
      "Estimating correlation matrix for subject 50312\n",
      "Estimating correlation matrix for subject 50314\n",
      "Estimating correlation matrix for subject 50315\n",
      "Estimating correlation matrix for subject 50318\n",
      "Estimating correlation matrix for subject 50319\n",
      "Estimating correlation matrix for subject 50320\n",
      "Estimating correlation matrix for subject 50321\n",
      "Estimating correlation matrix for subject 50324\n",
      "Estimating correlation matrix for subject 50325\n",
      "Estimating correlation matrix for subject 50327\n",
      "Estimating correlation matrix for subject 50329\n",
      "Estimating correlation matrix for subject 50330\n",
      "Estimating correlation matrix for subject 50331\n",
      "Estimating correlation matrix for subject 50332\n",
      "Estimating correlation matrix for subject 50333\n",
      "Estimating correlation matrix for subject 50334\n",
      "Estimating correlation matrix for subject 50335\n",
      "Estimating correlation matrix for subject 50336\n",
      "Estimating correlation matrix for subject 50337\n",
      "Estimating correlation matrix for subject 50338\n",
      "Estimating correlation matrix for subject 50339\n",
      "Estimating correlation matrix for subject 50340\n",
      "Estimating correlation matrix for subject 50341\n",
      "Estimating correlation matrix for subject 50342\n",
      "Estimating correlation matrix for subject 50343\n",
      "Estimating correlation matrix for subject 50344\n",
      "Estimating correlation matrix for subject 50345\n",
      "Estimating correlation matrix for subject 50346\n",
      "Estimating correlation matrix for subject 50347\n",
      "Estimating correlation matrix for subject 50348\n",
      "Estimating correlation matrix for subject 50349\n",
      "Estimating correlation matrix for subject 50350\n",
      "Estimating correlation matrix for subject 50351\n",
      "Estimating correlation matrix for subject 50352\n",
      "Estimating correlation matrix for subject 50353\n",
      "Estimating correlation matrix for subject 50354\n",
      "Estimating correlation matrix for subject 50355\n",
      "Estimating correlation matrix for subject 50356\n",
      "Estimating correlation matrix for subject 50357\n",
      "Estimating correlation matrix for subject 50358\n",
      "Estimating correlation matrix for subject 50359\n",
      "Estimating correlation matrix for subject 50360\n",
      "Estimating correlation matrix for subject 50361\n",
      "Estimating correlation matrix for subject 50362\n",
      "Estimating correlation matrix for subject 50363\n",
      "Estimating correlation matrix for subject 50364\n",
      "Estimating correlation matrix for subject 50365\n",
      "Estimating correlation matrix for subject 50366\n",
      "Estimating correlation matrix for subject 50367\n",
      "Estimating correlation matrix for subject 50368\n",
      "Estimating correlation matrix for subject 50369\n",
      "Estimating correlation matrix for subject 50370\n",
      "Estimating correlation matrix for subject 50372\n",
      "Estimating correlation matrix for subject 50373\n",
      "Estimating correlation matrix for subject 50374\n",
      "Estimating correlation matrix for subject 50375\n",
      "Estimating correlation matrix for subject 50376\n",
      "Estimating correlation matrix for subject 50377\n",
      "Estimating correlation matrix for subject 50379\n",
      "Estimating correlation matrix for subject 50380\n",
      "Estimating correlation matrix for subject 50381\n",
      "Estimating correlation matrix for subject 50382\n",
      "Estimating correlation matrix for subject 50383\n",
      "Estimating correlation matrix for subject 50385\n",
      "Estimating correlation matrix for subject 50386\n",
      "Estimating correlation matrix for subject 50387\n",
      "Estimating correlation matrix for subject 50388\n",
      "Estimating correlation matrix for subject 50390\n",
      "Estimating correlation matrix for subject 50391\n",
      "Estimating correlation matrix for subject 50397\n",
      "Estimating correlation matrix for subject 50399\n",
      "Estimating correlation matrix for subject 50402\n",
      "Estimating correlation matrix for subject 50403\n",
      "Estimating correlation matrix for subject 50404\n",
      "Estimating correlation matrix for subject 50405\n",
      "Estimating correlation matrix for subject 50406\n",
      "Estimating correlation matrix for subject 50407\n",
      "Estimating correlation matrix for subject 50408\n",
      "Estimating correlation matrix for subject 50410\n",
      "Estimating correlation matrix for subject 50411\n",
      "Estimating correlation matrix for subject 50412\n",
      "Estimating correlation matrix for subject 50413\n",
      "Estimating correlation matrix for subject 50414\n",
      "Estimating correlation matrix for subject 50415\n",
      "Estimating correlation matrix for subject 50416\n",
      "Estimating correlation matrix for subject 50417\n",
      "Estimating correlation matrix for subject 50418\n",
      "Estimating correlation matrix for subject 50419\n",
      "Estimating correlation matrix for subject 50421\n",
      "Estimating correlation matrix for subject 50422\n",
      "Estimating correlation matrix for subject 50424\n",
      "Estimating correlation matrix for subject 50425\n",
      "Estimating correlation matrix for subject 50426\n",
      "Estimating correlation matrix for subject 50427\n",
      "Estimating correlation matrix for subject 50428\n",
      "Estimating correlation matrix for subject 50433\n",
      "Estimating correlation matrix for subject 50434\n",
      "Estimating correlation matrix for subject 50435\n",
      "Estimating correlation matrix for subject 50436\n",
      "Estimating correlation matrix for subject 50437\n",
      "Estimating correlation matrix for subject 50438\n",
      "Estimating correlation matrix for subject 50439\n",
      "Estimating correlation matrix for subject 50440\n",
      "Estimating correlation matrix for subject 50441\n",
      "Estimating correlation matrix for subject 50442\n",
      "Estimating correlation matrix for subject 50443\n",
      "Estimating correlation matrix for subject 50444\n",
      "Estimating correlation matrix for subject 50445\n",
      "Estimating correlation matrix for subject 50446\n",
      "Estimating correlation matrix for subject 50447\n",
      "Estimating correlation matrix for subject 50448\n",
      "Estimating correlation matrix for subject 50449\n",
      "Estimating correlation matrix for subject 50453\n",
      "Estimating correlation matrix for subject 50463\n",
      "Estimating correlation matrix for subject 50466\n",
      "Estimating correlation matrix for subject 50467\n",
      "Estimating correlation matrix for subject 50468\n",
      "Estimating correlation matrix for subject 50469\n",
      "Estimating correlation matrix for subject 50470\n",
      "Estimating correlation matrix for subject 50477\n",
      "Estimating correlation matrix for subject 50480\n",
      "Estimating correlation matrix for subject 50481\n",
      "Estimating correlation matrix for subject 50482\n",
      "Estimating correlation matrix for subject 50483\n",
      "Estimating correlation matrix for subject 50485\n",
      "Estimating correlation matrix for subject 50486\n",
      "Estimating correlation matrix for subject 50487\n",
      "Estimating correlation matrix for subject 50488\n",
      "Estimating correlation matrix for subject 50490\n",
      "Estimating correlation matrix for subject 50491\n",
      "Estimating correlation matrix for subject 50492\n",
      "Estimating correlation matrix for subject 50493\n",
      "Estimating correlation matrix for subject 50494\n",
      "Estimating correlation matrix for subject 50496\n",
      "Estimating correlation matrix for subject 50497\n",
      "Estimating correlation matrix for subject 50498\n",
      "Estimating correlation matrix for subject 50499\n",
      "Estimating correlation matrix for subject 50500\n",
      "Estimating correlation matrix for subject 50501\n",
      "Estimating correlation matrix for subject 50502\n",
      "Estimating correlation matrix for subject 50503\n",
      "Estimating correlation matrix for subject 50504\n",
      "Estimating correlation matrix for subject 50507\n",
      "Estimating correlation matrix for subject 50509\n",
      "Estimating correlation matrix for subject 50510\n",
      "Estimating correlation matrix for subject 50514\n",
      "Estimating correlation matrix for subject 50515\n",
      "Estimating correlation matrix for subject 50516\n",
      "Estimating correlation matrix for subject 50518\n",
      "Estimating correlation matrix for subject 50519\n",
      "Estimating correlation matrix for subject 50520\n",
      "Estimating correlation matrix for subject 50521\n",
      "Estimating correlation matrix for subject 50523\n",
      "Estimating correlation matrix for subject 50524\n",
      "Estimating correlation matrix for subject 50525\n",
      "Estimating correlation matrix for subject 50526\n",
      "Estimating correlation matrix for subject 50527\n",
      "Estimating correlation matrix for subject 50528\n",
      "Estimating correlation matrix for subject 50529\n",
      "Estimating correlation matrix for subject 50530\n",
      "Estimating correlation matrix for subject 50531\n",
      "Estimating correlation matrix for subject 50532\n",
      "Estimating correlation matrix for subject 50551\n",
      "Estimating correlation matrix for subject 50552\n",
      "Estimating correlation matrix for subject 50555\n",
      "Estimating correlation matrix for subject 50557\n",
      "Estimating correlation matrix for subject 50558\n",
      "Estimating correlation matrix for subject 50561\n",
      "Estimating correlation matrix for subject 50563\n",
      "Estimating correlation matrix for subject 50565\n",
      "Estimating correlation matrix for subject 50568\n",
      "Estimating correlation matrix for subject 50569\n",
      "Estimating correlation matrix for subject 50570\n",
      "Estimating correlation matrix for subject 50571\n",
      "Estimating correlation matrix for subject 50572\n",
      "Estimating correlation matrix for subject 50573\n",
      "Estimating correlation matrix for subject 50574\n",
      "Estimating correlation matrix for subject 50575\n",
      "Estimating correlation matrix for subject 50576\n",
      "Estimating correlation matrix for subject 50577\n",
      "Estimating correlation matrix for subject 50578\n",
      "Estimating correlation matrix for subject 50601\n",
      "Estimating correlation matrix for subject 50602\n",
      "Estimating correlation matrix for subject 50603\n",
      "Estimating correlation matrix for subject 50604\n",
      "Estimating correlation matrix for subject 50606\n",
      "Estimating correlation matrix for subject 50607\n",
      "Estimating correlation matrix for subject 50608\n",
      "Estimating correlation matrix for subject 50612\n",
      "Estimating correlation matrix for subject 50613\n",
      "Estimating correlation matrix for subject 50614\n",
      "Estimating correlation matrix for subject 50615\n",
      "Estimating correlation matrix for subject 50616\n",
      "Estimating correlation matrix for subject 50619\n",
      "Estimating correlation matrix for subject 50620\n",
      "Estimating correlation matrix for subject 50621\n",
      "Estimating correlation matrix for subject 50622\n",
      "Estimating correlation matrix for subject 50623\n",
      "Estimating correlation matrix for subject 50624\n",
      "Estimating correlation matrix for subject 50625\n",
      "Estimating correlation matrix for subject 50626\n",
      "Estimating correlation matrix for subject 50627\n",
      "Estimating correlation matrix for subject 50628\n",
      "Estimating correlation matrix for subject 50642\n",
      "Estimating correlation matrix for subject 50644\n",
      "Estimating correlation matrix for subject 50647\n",
      "Estimating correlation matrix for subject 50648\n",
      "Estimating correlation matrix for subject 50649\n",
      "Estimating correlation matrix for subject 50654\n",
      "Estimating correlation matrix for subject 50656\n",
      "Estimating correlation matrix for subject 50659\n",
      "Estimating correlation matrix for subject 50664\n",
      "Estimating correlation matrix for subject 50665\n",
      "Estimating correlation matrix for subject 50669\n",
      "Estimating correlation matrix for subject 50682\n",
      "Estimating correlation matrix for subject 50683\n",
      "Estimating correlation matrix for subject 50685\n",
      "Estimating correlation matrix for subject 50686\n",
      "Estimating correlation matrix for subject 50687\n",
      "Estimating correlation matrix for subject 50688\n",
      "Estimating correlation matrix for subject 50689\n",
      "Estimating correlation matrix for subject 50690\n",
      "Estimating correlation matrix for subject 50691\n",
      "Estimating correlation matrix for subject 50692\n",
      "Estimating correlation matrix for subject 50693\n",
      "Estimating correlation matrix for subject 50694\n",
      "Estimating correlation matrix for subject 50695\n",
      "Estimating correlation matrix for subject 50696\n",
      "Estimating correlation matrix for subject 50697\n",
      "Estimating correlation matrix for subject 50698\n",
      "Estimating correlation matrix for subject 50699\n",
      "Estimating correlation matrix for subject 50700\n",
      "Estimating correlation matrix for subject 50701\n",
      "Estimating correlation matrix for subject 50702\n",
      "Estimating correlation matrix for subject 50703\n",
      "Estimating correlation matrix for subject 50704\n",
      "Estimating correlation matrix for subject 50705\n",
      "Estimating correlation matrix for subject 50706\n",
      "Estimating correlation matrix for subject 50707\n",
      "Estimating correlation matrix for subject 50708\n",
      "Estimating correlation matrix for subject 50709\n",
      "Estimating correlation matrix for subject 50711\n",
      "Estimating correlation matrix for subject 50722\n",
      "Estimating correlation matrix for subject 50723\n",
      "Estimating correlation matrix for subject 50724\n",
      "Estimating correlation matrix for subject 50725\n",
      "Estimating correlation matrix for subject 50726\n",
      "Estimating correlation matrix for subject 50728\n",
      "Estimating correlation matrix for subject 50730\n",
      "Estimating correlation matrix for subject 50731\n",
      "Estimating correlation matrix for subject 50733\n",
      "Estimating correlation matrix for subject 50735\n",
      "Estimating correlation matrix for subject 50737\n",
      "Estimating correlation matrix for subject 50738\n",
      "Estimating correlation matrix for subject 50739\n",
      "Estimating correlation matrix for subject 50740\n",
      "Estimating correlation matrix for subject 50741\n",
      "Estimating correlation matrix for subject 50742\n",
      "Estimating correlation matrix for subject 50743\n",
      "Estimating correlation matrix for subject 50744\n",
      "Estimating correlation matrix for subject 50745\n",
      "Estimating correlation matrix for subject 50748\n",
      "Estimating correlation matrix for subject 50749\n",
      "Estimating correlation matrix for subject 50750\n",
      "Estimating correlation matrix for subject 50751\n",
      "Estimating correlation matrix for subject 50752\n",
      "Estimating correlation matrix for subject 50754\n",
      "Estimating correlation matrix for subject 50755\n",
      "Estimating correlation matrix for subject 50756\n",
      "Estimating correlation matrix for subject 50757\n",
      "Estimating correlation matrix for subject 50772\n",
      "Estimating correlation matrix for subject 50773\n",
      "Estimating correlation matrix for subject 50774\n",
      "Estimating correlation matrix for subject 50775\n",
      "Estimating correlation matrix for subject 50776\n",
      "Estimating correlation matrix for subject 50777\n",
      "Estimating correlation matrix for subject 50778\n",
      "Estimating correlation matrix for subject 50780\n",
      "Estimating correlation matrix for subject 50781\n",
      "Estimating correlation matrix for subject 50782\n",
      "Estimating correlation matrix for subject 50783\n",
      "Estimating correlation matrix for subject 50786\n",
      "Estimating correlation matrix for subject 50790\n",
      "Estimating correlation matrix for subject 50791\n",
      "Estimating correlation matrix for subject 50792\n",
      "Estimating correlation matrix for subject 50796\n",
      "Estimating correlation matrix for subject 50797\n",
      "Estimating correlation matrix for subject 50798\n",
      "Estimating correlation matrix for subject 50799\n",
      "Estimating correlation matrix for subject 50800\n",
      "Estimating correlation matrix for subject 50801\n",
      "Estimating correlation matrix for subject 50803\n",
      "Estimating correlation matrix for subject 50807\n",
      "Estimating correlation matrix for subject 50812\n",
      "Estimating correlation matrix for subject 50814\n",
      "Estimating correlation matrix for subject 50816\n",
      "Estimating correlation matrix for subject 50817\n",
      "Estimating correlation matrix for subject 50818\n",
      "Estimating correlation matrix for subject 50820\n",
      "Estimating correlation matrix for subject 50821\n",
      "Estimating correlation matrix for subject 50822\n",
      "Estimating correlation matrix for subject 50823\n",
      "Estimating correlation matrix for subject 50824\n",
      "Estimating correlation matrix for subject 50952\n",
      "Estimating correlation matrix for subject 50954\n",
      "Estimating correlation matrix for subject 50955\n",
      "Estimating correlation matrix for subject 50956\n",
      "Estimating correlation matrix for subject 50957\n",
      "Estimating correlation matrix for subject 50958\n",
      "Estimating correlation matrix for subject 50959\n",
      "Estimating correlation matrix for subject 50960\n",
      "Estimating correlation matrix for subject 50961\n",
      "Estimating correlation matrix for subject 50962\n",
      "Estimating correlation matrix for subject 50964\n",
      "Estimating correlation matrix for subject 50965\n",
      "Estimating correlation matrix for subject 50966\n",
      "Estimating correlation matrix for subject 50967\n",
      "Estimating correlation matrix for subject 50968\n",
      "Estimating correlation matrix for subject 50969\n",
      "Estimating correlation matrix for subject 50970\n",
      "Estimating correlation matrix for subject 50972\n",
      "Estimating correlation matrix for subject 50973\n",
      "Estimating correlation matrix for subject 50974\n",
      "Estimating correlation matrix for subject 50976\n",
      "Estimating correlation matrix for subject 50977\n",
      "Estimating correlation matrix for subject 50978\n",
      "Estimating correlation matrix for subject 50979\n",
      "Estimating correlation matrix for subject 50981\n",
      "Estimating correlation matrix for subject 50982\n",
      "Estimating correlation matrix for subject 50983\n",
      "Estimating correlation matrix for subject 50984\n",
      "Estimating correlation matrix for subject 50985\n",
      "Estimating correlation matrix for subject 50986\n",
      "Estimating correlation matrix for subject 50987\n",
      "Estimating correlation matrix for subject 50988\n",
      "Estimating correlation matrix for subject 50989\n",
      "Estimating correlation matrix for subject 50990\n",
      "Estimating correlation matrix for subject 50991\n",
      "Estimating correlation matrix for subject 50992\n",
      "Estimating correlation matrix for subject 50993\n",
      "Estimating correlation matrix for subject 50994\n",
      "Estimating correlation matrix for subject 50995\n",
      "Estimating correlation matrix for subject 50996\n",
      "Estimating correlation matrix for subject 50997\n",
      "Estimating correlation matrix for subject 50999\n",
      "Estimating correlation matrix for subject 51000\n",
      "Estimating correlation matrix for subject 51001\n",
      "Estimating correlation matrix for subject 51002\n",
      "Estimating correlation matrix for subject 51003\n",
      "Estimating correlation matrix for subject 51006\n",
      "Estimating correlation matrix for subject 51007\n",
      "Estimating correlation matrix for subject 51008\n",
      "Estimating correlation matrix for subject 51009\n",
      "Estimating correlation matrix for subject 51010\n",
      "Estimating correlation matrix for subject 51011\n",
      "Estimating correlation matrix for subject 51012\n",
      "Estimating correlation matrix for subject 51013\n",
      "Estimating correlation matrix for subject 51014\n",
      "Estimating correlation matrix for subject 51015\n",
      "Estimating correlation matrix for subject 51016\n",
      "Estimating correlation matrix for subject 51017\n",
      "Estimating correlation matrix for subject 51018\n",
      "Estimating correlation matrix for subject 51019\n",
      "Estimating correlation matrix for subject 51020\n",
      "Estimating correlation matrix for subject 51021\n",
      "Estimating correlation matrix for subject 51023\n",
      "Estimating correlation matrix for subject 51024\n",
      "Estimating correlation matrix for subject 51025\n",
      "Estimating correlation matrix for subject 51026\n",
      "Estimating correlation matrix for subject 51027\n",
      "Estimating correlation matrix for subject 51028\n",
      "Estimating correlation matrix for subject 51029\n",
      "Estimating correlation matrix for subject 51030\n",
      "Estimating correlation matrix for subject 51032\n",
      "Estimating correlation matrix for subject 51033\n",
      "Estimating correlation matrix for subject 51034\n",
      "Estimating correlation matrix for subject 51035\n",
      "Estimating correlation matrix for subject 51036\n",
      "Estimating correlation matrix for subject 51038\n",
      "Estimating correlation matrix for subject 51039\n",
      "Estimating correlation matrix for subject 51040\n",
      "Estimating correlation matrix for subject 51041\n",
      "Estimating correlation matrix for subject 51042\n",
      "Estimating correlation matrix for subject 51044\n",
      "Estimating correlation matrix for subject 51045\n",
      "Estimating correlation matrix for subject 51046\n",
      "Estimating correlation matrix for subject 51047\n",
      "Estimating correlation matrix for subject 51048\n",
      "Estimating correlation matrix for subject 51049\n",
      "Estimating correlation matrix for subject 51050\n",
      "Estimating correlation matrix for subject 51051\n",
      "Estimating correlation matrix for subject 51052\n",
      "Estimating correlation matrix for subject 51053\n",
      "Estimating correlation matrix for subject 51054\n",
      "Estimating correlation matrix for subject 51055\n",
      "Estimating correlation matrix for subject 51056\n",
      "Estimating correlation matrix for subject 51057\n",
      "Estimating correlation matrix for subject 51058\n",
      "Estimating correlation matrix for subject 51059\n",
      "Estimating correlation matrix for subject 51060\n",
      "Estimating correlation matrix for subject 51061\n",
      "Estimating correlation matrix for subject 51062\n",
      "Estimating correlation matrix for subject 51063\n",
      "Estimating correlation matrix for subject 51064\n",
      "Estimating correlation matrix for subject 51065\n",
      "Estimating correlation matrix for subject 51066\n",
      "Estimating correlation matrix for subject 51067\n",
      "Estimating correlation matrix for subject 51068\n",
      "Estimating correlation matrix for subject 51069\n",
      "Estimating correlation matrix for subject 51070\n",
      "Estimating correlation matrix for subject 51072\n",
      "Estimating correlation matrix for subject 51073\n",
      "Estimating correlation matrix for subject 51074\n",
      "Estimating correlation matrix for subject 51075\n",
      "Estimating correlation matrix for subject 51076\n",
      "Estimating correlation matrix for subject 51077\n",
      "Estimating correlation matrix for subject 51078\n",
      "Estimating correlation matrix for subject 51079\n",
      "Estimating correlation matrix for subject 51080\n",
      "Estimating correlation matrix for subject 51081\n",
      "Estimating correlation matrix for subject 51082\n",
      "Estimating correlation matrix for subject 51083\n",
      "Estimating correlation matrix for subject 51084\n",
      "Estimating correlation matrix for subject 51085\n",
      "Estimating correlation matrix for subject 51086\n",
      "Estimating correlation matrix for subject 51087\n",
      "Estimating correlation matrix for subject 51088\n",
      "Estimating correlation matrix for subject 51089\n",
      "Estimating correlation matrix for subject 51090\n",
      "Estimating correlation matrix for subject 51091\n",
      "Estimating correlation matrix for subject 51093\n",
      "Estimating correlation matrix for subject 51094\n",
      "Estimating correlation matrix for subject 51095\n",
      "Estimating correlation matrix for subject 51096\n",
      "Estimating correlation matrix for subject 51097\n",
      "Estimating correlation matrix for subject 51098\n",
      "Estimating correlation matrix for subject 51099\n",
      "Estimating correlation matrix for subject 51100\n",
      "Estimating correlation matrix for subject 51101\n",
      "Estimating correlation matrix for subject 51102\n",
      "Estimating correlation matrix for subject 51103\n",
      "Estimating correlation matrix for subject 51104\n",
      "Estimating correlation matrix for subject 51105\n",
      "Estimating correlation matrix for subject 51106\n",
      "Estimating correlation matrix for subject 51107\n",
      "Estimating correlation matrix for subject 51109\n",
      "Estimating correlation matrix for subject 51110\n",
      "Estimating correlation matrix for subject 51111\n",
      "Estimating correlation matrix for subject 51112\n",
      "Estimating correlation matrix for subject 51113\n",
      "Estimating correlation matrix for subject 51114\n",
      "Estimating correlation matrix for subject 51116\n",
      "Estimating correlation matrix for subject 51117\n",
      "Estimating correlation matrix for subject 51118\n",
      "Estimating correlation matrix for subject 51122\n",
      "Estimating correlation matrix for subject 51123\n",
      "Estimating correlation matrix for subject 51124\n",
      "Estimating correlation matrix for subject 51126\n",
      "Estimating correlation matrix for subject 51127\n",
      "Estimating correlation matrix for subject 51128\n",
      "Estimating correlation matrix for subject 51129\n",
      "Estimating correlation matrix for subject 51130\n",
      "Estimating correlation matrix for subject 51131\n",
      "Estimating correlation matrix for subject 51132\n",
      "Estimating correlation matrix for subject 51133\n",
      "Estimating correlation matrix for subject 51134\n",
      "Estimating correlation matrix for subject 51135\n",
      "Estimating correlation matrix for subject 51136\n",
      "Estimating correlation matrix for subject 51137\n",
      "Estimating correlation matrix for subject 51138\n",
      "Estimating correlation matrix for subject 51139\n",
      "Estimating correlation matrix for subject 51140\n",
      "Estimating correlation matrix for subject 51141\n",
      "Estimating correlation matrix for subject 51142\n",
      "Estimating correlation matrix for subject 51146\n",
      "Estimating correlation matrix for subject 51147\n",
      "Estimating correlation matrix for subject 51148\n",
      "Estimating correlation matrix for subject 51149\n",
      "Estimating correlation matrix for subject 51150\n",
      "Estimating correlation matrix for subject 51151\n",
      "Estimating correlation matrix for subject 51152\n",
      "Estimating correlation matrix for subject 51153\n",
      "Estimating correlation matrix for subject 51154\n",
      "Estimating correlation matrix for subject 51155\n",
      "Estimating correlation matrix for subject 51156\n",
      "Estimating correlation matrix for subject 51159\n",
      "Estimating correlation matrix for subject 51161\n",
      "Estimating correlation matrix for subject 51162\n",
      "Estimating correlation matrix for subject 51163\n",
      "Estimating correlation matrix for subject 51164\n",
      "Estimating correlation matrix for subject 51168\n",
      "Estimating correlation matrix for subject 51169\n",
      "Estimating correlation matrix for subject 51170\n",
      "Estimating correlation matrix for subject 51171\n",
      "Estimating correlation matrix for subject 51173\n",
      "Estimating correlation matrix for subject 51177\n",
      "Estimating correlation matrix for subject 51178\n",
      "Estimating correlation matrix for subject 51179\n",
      "Estimating correlation matrix for subject 51180\n",
      "Estimating correlation matrix for subject 51181\n",
      "Estimating correlation matrix for subject 51182\n",
      "Estimating correlation matrix for subject 51183\n",
      "Estimating correlation matrix for subject 51184\n",
      "Estimating correlation matrix for subject 51185\n",
      "Estimating correlation matrix for subject 51187\n",
      "Estimating correlation matrix for subject 51188\n",
      "Estimating correlation matrix for subject 51189\n",
      "Estimating correlation matrix for subject 51192\n",
      "Estimating correlation matrix for subject 51194\n",
      "Estimating correlation matrix for subject 51197\n",
      "Estimating correlation matrix for subject 51198\n",
      "Estimating correlation matrix for subject 51201\n",
      "Estimating correlation matrix for subject 51202\n",
      "Estimating correlation matrix for subject 51203\n",
      "Estimating correlation matrix for subject 51204\n",
      "Estimating correlation matrix for subject 51205\n",
      "Estimating correlation matrix for subject 51206\n",
      "Estimating correlation matrix for subject 51207\n",
      "Estimating correlation matrix for subject 51208\n",
      "Estimating correlation matrix for subject 51210\n",
      "Estimating correlation matrix for subject 51211\n",
      "Estimating correlation matrix for subject 51212\n",
      "Estimating correlation matrix for subject 51214\n",
      "Estimating correlation matrix for subject 51215\n",
      "Estimating correlation matrix for subject 51216\n",
      "Estimating correlation matrix for subject 51217\n",
      "Estimating correlation matrix for subject 51218\n",
      "Estimating correlation matrix for subject 51219\n",
      "Estimating correlation matrix for subject 51220\n",
      "Estimating correlation matrix for subject 51221\n",
      "Estimating correlation matrix for subject 51222\n",
      "Estimating correlation matrix for subject 51223\n",
      "Estimating correlation matrix for subject 51224\n",
      "Estimating correlation matrix for subject 51225\n",
      "Estimating correlation matrix for subject 51226\n",
      "Estimating correlation matrix for subject 51228\n",
      "Estimating correlation matrix for subject 51229\n",
      "Estimating correlation matrix for subject 51230\n",
      "Estimating correlation matrix for subject 51231\n",
      "Estimating correlation matrix for subject 51234\n",
      "Estimating correlation matrix for subject 51235\n",
      "Estimating correlation matrix for subject 51236\n",
      "Estimating correlation matrix for subject 51237\n",
      "Estimating correlation matrix for subject 51239\n",
      "Estimating correlation matrix for subject 51240\n",
      "Estimating correlation matrix for subject 51241\n",
      "Estimating correlation matrix for subject 51248\n",
      "Estimating correlation matrix for subject 51249\n",
      "Estimating correlation matrix for subject 51250\n",
      "Estimating correlation matrix for subject 51251\n",
      "Estimating correlation matrix for subject 51252\n",
      "Estimating correlation matrix for subject 51253\n",
      "Estimating correlation matrix for subject 51254\n",
      "Estimating correlation matrix for subject 51255\n",
      "Estimating correlation matrix for subject 51256\n",
      "Estimating correlation matrix for subject 51257\n",
      "Estimating correlation matrix for subject 51260\n",
      "Estimating correlation matrix for subject 51261\n",
      "Estimating correlation matrix for subject 51262\n",
      "Estimating correlation matrix for subject 51264\n",
      "Estimating correlation matrix for subject 51265\n",
      "Estimating correlation matrix for subject 51266\n",
      "Estimating correlation matrix for subject 51267\n",
      "Estimating correlation matrix for subject 51268\n",
      "Estimating correlation matrix for subject 51269\n",
      "Estimating correlation matrix for subject 51271\n",
      "Estimating correlation matrix for subject 51272\n",
      "Estimating correlation matrix for subject 51273\n",
      "Estimating correlation matrix for subject 51275\n",
      "Estimating correlation matrix for subject 51276\n",
      "Estimating correlation matrix for subject 51277\n",
      "Estimating correlation matrix for subject 51278\n",
      "Estimating correlation matrix for subject 51279\n",
      "Estimating correlation matrix for subject 51280\n",
      "Estimating correlation matrix for subject 51281\n",
      "Estimating correlation matrix for subject 51291\n",
      "Estimating correlation matrix for subject 51292\n",
      "Estimating correlation matrix for subject 51293\n",
      "Estimating correlation matrix for subject 51294\n",
      "Estimating correlation matrix for subject 51295\n",
      "Estimating correlation matrix for subject 51297\n",
      "Estimating correlation matrix for subject 51298\n",
      "Estimating correlation matrix for subject 51299\n",
      "Estimating correlation matrix for subject 51300\n",
      "Estimating correlation matrix for subject 51301\n",
      "Estimating correlation matrix for subject 51302\n",
      "Estimating correlation matrix for subject 51303\n",
      "Estimating correlation matrix for subject 51304\n",
      "Estimating correlation matrix for subject 51305\n",
      "Estimating correlation matrix for subject 51306\n",
      "Estimating correlation matrix for subject 51307\n",
      "Estimating correlation matrix for subject 51308\n",
      "Estimating correlation matrix for subject 51309\n",
      "Estimating correlation matrix for subject 51311\n",
      "Estimating correlation matrix for subject 51313\n",
      "Estimating correlation matrix for subject 51315\n",
      "Estimating correlation matrix for subject 51318\n",
      "Estimating correlation matrix for subject 51319\n",
      "Estimating correlation matrix for subject 51320\n",
      "Estimating correlation matrix for subject 51321\n",
      "Estimating correlation matrix for subject 51322\n",
      "Estimating correlation matrix for subject 51323\n",
      "Estimating correlation matrix for subject 51325\n",
      "Estimating correlation matrix for subject 51326\n",
      "Estimating correlation matrix for subject 51327\n",
      "Estimating correlation matrix for subject 51328\n",
      "Estimating correlation matrix for subject 51329\n",
      "Estimating correlation matrix for subject 51330\n",
      "Estimating correlation matrix for subject 51331\n",
      "Estimating correlation matrix for subject 51332\n",
      "Estimating correlation matrix for subject 51333\n",
      "Estimating correlation matrix for subject 51334\n",
      "Estimating correlation matrix for subject 51335\n",
      "Estimating correlation matrix for subject 51336\n",
      "Estimating correlation matrix for subject 51338\n",
      "Estimating correlation matrix for subject 51339\n",
      "Estimating correlation matrix for subject 51340\n",
      "Estimating correlation matrix for subject 51341\n",
      "Estimating correlation matrix for subject 51342\n",
      "Estimating correlation matrix for subject 51343\n",
      "Estimating correlation matrix for subject 51344\n",
      "Estimating correlation matrix for subject 51345\n",
      "Estimating correlation matrix for subject 51346\n",
      "Estimating correlation matrix for subject 51347\n",
      "Estimating correlation matrix for subject 51349\n",
      "Estimating correlation matrix for subject 51350\n",
      "Estimating correlation matrix for subject 51351\n",
      "Estimating correlation matrix for subject 51354\n",
      "Estimating correlation matrix for subject 51356\n",
      "Estimating correlation matrix for subject 51357\n",
      "Estimating correlation matrix for subject 51359\n",
      "Estimating correlation matrix for subject 51360\n",
      "Estimating correlation matrix for subject 51361\n",
      "Estimating correlation matrix for subject 51362\n",
      "Estimating correlation matrix for subject 51363\n",
      "Estimating correlation matrix for subject 51364\n",
      "Estimating correlation matrix for subject 51365\n",
      "Estimating correlation matrix for subject 51369\n",
      "Estimating correlation matrix for subject 51370\n",
      "Estimating correlation matrix for subject 51373\n",
      "Estimating correlation matrix for subject 51461\n",
      "Estimating correlation matrix for subject 51463\n",
      "Estimating correlation matrix for subject 51464\n",
      "Estimating correlation matrix for subject 51465\n",
      "Estimating correlation matrix for subject 51473\n",
      "Estimating correlation matrix for subject 51477\n",
      "Estimating correlation matrix for subject 51479\n",
      "Estimating correlation matrix for subject 51480\n",
      "Estimating correlation matrix for subject 51481\n",
      "Estimating correlation matrix for subject 51482\n",
      "Estimating correlation matrix for subject 51484\n",
      "Estimating correlation matrix for subject 51487\n",
      "Estimating correlation matrix for subject 51488\n",
      "Estimating correlation matrix for subject 51491\n",
      "Estimating correlation matrix for subject 51493\n",
      "Estimating correlation matrix for subject 51556\n",
      "Estimating correlation matrix for subject 51557\n",
      "Estimating correlation matrix for subject 51558\n",
      "Estimating correlation matrix for subject 51559\n",
      "Estimating correlation matrix for subject 51560\n",
      "Estimating correlation matrix for subject 51562\n",
      "Estimating correlation matrix for subject 51563\n",
      "Estimating correlation matrix for subject 51564\n",
      "Estimating correlation matrix for subject 51565\n",
      "Estimating correlation matrix for subject 51566\n",
      "Estimating correlation matrix for subject 51567\n",
      "Estimating correlation matrix for subject 51568\n",
      "Estimating correlation matrix for subject 51569\n",
      "Estimating correlation matrix for subject 51570\n",
      "Estimating correlation matrix for subject 51572\n",
      "Estimating correlation matrix for subject 51573\n",
      "Estimating correlation matrix for subject 51574\n",
      "Estimating correlation matrix for subject 51576\n",
      "Estimating correlation matrix for subject 51577\n",
      "Estimating correlation matrix for subject 51578\n",
      "Estimating correlation matrix for subject 51579\n",
      "Estimating correlation matrix for subject 51580\n",
      "Estimating correlation matrix for subject 51582\n",
      "Estimating correlation matrix for subject 51583\n",
      "Estimating correlation matrix for subject 51584\n",
      "Estimating correlation matrix for subject 51585\n",
      "Estimating correlation matrix for subject 51606\n",
      "Estimating correlation matrix for subject 51607\n"
     ]
    }
   ],
   "source": [
    "subject_IDs = get_ids()\n",
    "subject_IDs = subject_IDs.tolist()\n",
    "labels = get_subject_score(subject_IDs, score='DX_GROUP')\n",
    "\n",
    "for s, fname in zip(subject_IDs, fetch_filenames(subject_IDs, files[0])):\n",
    "    subject_folder = os.path.join(data_folder, s)\n",
    "    if not os.path.exists(subject_folder):\n",
    "        os.mkdir(subject_folder)\n",
    "\n",
    "    # Get the base filename for each subject\n",
    "    base = fname.split(files[0])[0]\n",
    "\n",
    "    # Move each subject file to the subject folder\n",
    "    for fl in files:\n",
    "        if not os.path.exists(os.path.join(subject_folder, base + filemapping[fl])):\n",
    "\n",
    "            shutil.move(base + filemapping[fl], subject_folder)\n",
    "\n",
    "time_series = get_timeseries(subject_IDs, 'ho')\n",
    "\n",
    "# Compute and save connectivity matrices\n",
    "for i in range(len(subject_IDs)):\n",
    "        subject_connectivity(time_series[i], subject_IDs[i], 'ho', 'correlation')"
   ]
  },
  {
   "cell_type": "code",
   "execution_count": 5,
   "metadata": {},
   "outputs": [],
   "source": [
    "SEX   = get_subject_score(subject_IDs, score='SEX')\n",
    "AGE   = get_subject_score(subject_IDs, score='AGE_AT_SCAN')\n",
    "FIQ   = get_subject_score(subject_IDs, score='FIQ')\n",
    "LABEL = get_subject_score(subject_IDs, score='DX_GROUP')\n",
    "EYE_S = get_subject_score(subject_IDs, score='EYE_STATUS_AT_SCAN')\n",
    "BMI   = get_subject_score(subject_IDs, score='BMI')"
   ]
  },
  {
   "cell_type": "code",
   "execution_count": 6,
   "metadata": {},
   "outputs": [],
   "source": [
    "ADS = []\n",
    "Normal = []\n",
    "for i in LABEL:\n",
    "    if LABEL[i] == '1':\n",
    "        ADS.append(i)\n",
    "    elif LABEL[i] == '2':\n",
    "        Normal.append(i)"
   ]
  },
  {
   "cell_type": "code",
   "execution_count": 7,
   "metadata": {},
   "outputs": [
    {
     "name": "stderr",
     "output_type": "stream",
     "text": [
      "/home/zfzhu/anaconda3/envs/SS_env/lib/python3.6/site-packages/ipykernel_launcher.py:211: RuntimeWarning: divide by zero encountered in arctanh\n"
     ]
    }
   ],
   "source": [
    "\n",
    "\n",
    "# Get acquisition site\n",
    "sites = get_subject_score(subject_IDs, score='SITE_ID')\n",
    "unique = np.unique(list(sites.values())).tolist()\n",
    "\n",
    "num_classes = 2\n",
    "num_nodes = len(subject_IDs)\n",
    "\n",
    "# Initialise variables for class labels and acquisition sites\n",
    "y_data = np.zeros([num_nodes, num_classes])\n",
    "y = np.zeros([num_nodes, 1])\n",
    "site = np.zeros([num_nodes, 1], dtype=np.int)\n",
    "\n",
    "# Get class labels and acquisition site for all subjects\n",
    "for i in range(num_nodes):\n",
    "    y_data[i, int(labels[subject_IDs[i]])-1] = 1\n",
    "    y[i] = int(labels[subject_IDs[i]])\n",
    "    site[i] = unique.index(sites[subject_IDs[i]])\n",
    "\n",
    "# Compute feature vectors (vectorised connectivity networks)\n",
    "features = get_networks(subject_IDs, kind='correlation', atlas_name='ho')"
   ]
  },
  {
   "cell_type": "markdown",
   "metadata": {},
   "source": [
    "# feature selection"
   ]
  },
  {
   "cell_type": "code",
   "execution_count": 8,
   "metadata": {},
   "outputs": [],
   "source": [
    "label = y\n",
    "label = label.reshape(-1)"
   ]
  },
  {
   "cell_type": "code",
   "execution_count": 9,
   "metadata": {},
   "outputs": [],
   "source": [
    "from sklearn.model_selection import KFold,StratifiedKFold\n",
    "skf = StratifiedKFold(n_splits=5, random_state=0, shuffle=True)"
   ]
  },
  {
   "cell_type": "code",
   "execution_count": 11,
   "metadata": {
    "collapsed": true,
    "jupyter": {
     "outputs_hidden": true
    }
   },
   "outputs": [
    {
     "name": "stdout",
     "output_type": "stream",
     "text": [
      "[  0   1   5   6   7   8   9  11  12  13  15  16  17  18  19  21  22  23\n",
      "  24  25  26  28  29  30  31  32  33  34  37  38  39  40  41  43  44  46\n",
      "  47  48  50  51  52  54  55  56  58  59  60  62  64  65  66  68  70  71\n",
      "  72  73  74  75  76  77  78  80  81  82  85  86  88  89  90  91  92  93\n",
      "  94  95  98  99 100 101 102 103 104 105 106 107 108 109 110 112 113 115\n",
      " 117 118 119 120 121 124 125 126 127 128 129 134 135 137 138 139 140 142\n",
      " 143 144 149 150 151 153 155 156 157 158 159 160 161 163 165 166 167 168\n",
      " 169 172 173 174 175 176 177 178 179 180 181 182 185 186 187 188 189 190\n",
      " 191 193 194 195 196 198 199 200 201 203 205 206 207 208 209 211 212 213\n",
      " 214 215 216 219 220 221 224 225 226 227 228 229 230 231 233 235 236 237\n",
      " 238 239 240 242 243 244 245 246 247 248 249 250 251 252 253 254 255 256\n",
      " 257 258 259 260 261 262 263 264 265 267 268 269 272 273 274 276 277 279\n",
      " 280 281 284 285 287 288 289 290 291 293 295 296 297 298 299 300 301 304\n",
      " 305 306 308 309 310 311 312 313 314 315 317 318 319 320 321 322 324 325\n",
      " 327 328 329 330 331 332 333 334 335 336 337 338 339 340 341 342 343 344\n",
      " 345 347 348 350 351 354 355 356 358 359 361 362 365 366 367 368 369 370\n",
      " 371 373 374 375 376 377 378 379 380 382 383 384 386 387 388 389 391 392\n",
      " 393 395 396 398 400 401 402 403 404 406 409 411 412 413 414 415 416 418\n",
      " 419 420 421 422 423 424 425 427 428 429 431 432 433 434 436 437 438 439\n",
      " 440 441 442 443 444 445 447 448 449 452 454 455 456 457 458 459 460 461\n",
      " 463 464 466 467 468 469 470 471 472 473 474 477 479 480 482 483 484 485\n",
      " 486 487 488 491 492 493 494 495 496 497 498 499 500 501 502 503 504 505\n",
      " 506 507 508 509 510 512 514 515 516 517 518 519 520 521 523 524 526 527\n",
      " 529 530 531 532 533 534 536 538 539 540 542 545 547 548 549 550 551 552\n",
      " 554 555 556 560 561 562 563 564 565 566 567 569 570 571 573 574 575 576\n",
      " 577 578 580 581 582 583 586 587 588 589 590 591 593 594 595 597 598 599\n",
      " 600 601 602 603 604 605 606 607 608 609 610 611 613 614 615 616 617 618\n",
      " 619 620 621 622 623 624 625 626 627 628 630 631 632 634 635 637 638 639\n",
      " 640 641 643 644 647 649 650 652 653 654 656 657 658 659 660 662 663 664\n",
      " 665 666 667 668 669 671 672 673 674 675 676 677 678 679 680 682 684 685\n",
      " 686 687 688 689 693 694 697 698 699 700 701 702 703 704 705 706 707 708\n",
      " 709 710 711 712 713 714 715 716 717 719 720 721 723 724 725 726 729 730\n",
      " 731 733 734 735 736 737 738 739 740 741 743 744 745 746 747 748 749 750\n",
      " 751 752 754 755 756 757 758 759 760 761 763 764 767 768 769 770 771 772\n",
      " 773 774 775 776 777 778 780 781 782 783 784 785 786 787 788 789 790 791\n",
      " 792 794 796 797 799 800 801 802 803 804 805 806 807 808 809 810 811 812\n",
      " 813 814 815 816 817 818 819 821 822 823 826 827 829 830 831 833 834 835\n",
      " 836 837 838 841 842 843 844 845 846 847 848 849 850 851 852 853 855 856\n",
      " 857 858 859 860 861 863 864 865 866 867 868 870]\n",
      "[  2   3   4  10  14  20  27  35  36  42  45  49  53  57  61  63  67  69\n",
      "  79  83  84  87  96  97 111 114 116 122 123 130 131 132 133 136 141 145\n",
      " 146 147 148 152 154 162 164 170 171 183 184 192 197 202 204 210 217 218\n",
      " 222 223 232 234 241 266 270 271 275 278 282 283 286 292 294 302 303 307\n",
      " 316 323 326 346 349 352 353 357 360 363 364 372 381 385 390 394 397 399\n",
      " 405 407 408 410 417 426 430 435 446 450 451 453 462 465 475 476 478 481\n",
      " 489 490 511 513 522 525 528 535 537 541 543 544 546 553 557 558 559 568\n",
      " 572 579 584 585 592 596 612 629 633 636 642 645 646 648 651 655 661 670\n",
      " 681 683 690 691 692 695 696 718 722 727 728 732 742 753 762 765 766 779\n",
      " 793 795 798 820 824 825 828 832 839 840 854 862 869]\n",
      "[  0   1   2   3   4   5   6   7   9  10  11  12  14  15  16  18  19  20\n",
      "  22  23  24  25  26  27  28  30  31  35  36  38  39  40  41  42  44  45\n",
      "  47  48  49  50  51  52  53  54  57  59  60  61  62  63  64  65  67  68\n",
      "  69  71  73  75  76  77  78  79  80  81  82  83  84  85  87  89  90  91\n",
      "  92  93  94  95  96  97  98 101 102 104 105 107 108 110 111 112 114 115\n",
      " 116 117 118 120 121 122 123 124 125 127 128 129 130 131 132 133 134 136\n",
      " 137 138 139 140 141 142 143 145 146 147 148 149 150 152 153 154 155 156\n",
      " 157 161 162 164 165 166 167 168 169 170 171 173 174 176 177 178 179 180\n",
      " 182 183 184 185 186 188 189 190 191 192 193 194 195 196 197 198 199 201\n",
      " 202 203 204 205 206 208 209 210 212 213 214 215 216 217 218 219 220 221\n",
      " 222 223 224 225 226 227 228 229 232 233 234 235 237 238 239 240 241 242\n",
      " 245 246 247 248 249 250 251 252 253 254 255 256 259 260 261 265 266 267\n",
      " 268 269 270 271 272 273 274 275 276 277 278 279 281 282 283 285 286 289\n",
      " 290 291 292 293 294 295 296 298 299 300 301 302 303 304 305 307 308 309\n",
      " 311 312 313 314 315 316 317 318 320 321 322 323 324 325 326 330 331 332\n",
      " 334 336 338 340 342 343 344 346 347 348 349 350 352 353 354 355 356 357\n",
      " 358 359 360 361 362 363 364 365 366 367 369 372 373 374 375 376 377 378\n",
      " 380 381 382 383 384 385 387 388 389 390 391 392 393 394 395 396 397 398\n",
      " 399 400 401 402 403 404 405 406 407 408 409 410 413 414 415 417 418 419\n",
      " 420 421 422 423 424 426 427 428 429 430 431 432 433 435 437 438 440 442\n",
      " 443 446 447 448 449 450 451 452 453 454 458 459 462 463 464 465 466 468\n",
      " 469 470 471 472 473 474 475 476 477 478 479 480 481 482 483 484 485 486\n",
      " 487 488 489 490 491 492 493 494 495 500 501 503 504 505 506 511 512 513\n",
      " 515 517 518 519 520 521 522 523 524 525 526 528 529 530 531 532 533 534\n",
      " 535 536 537 538 540 541 542 543 544 545 546 547 548 549 550 552 553 554\n",
      " 556 557 558 559 560 561 563 564 565 567 568 569 570 571 572 573 574 575\n",
      " 578 579 580 581 582 583 584 585 587 588 590 591 592 593 594 595 596 597\n",
      " 598 600 601 602 603 604 608 609 610 611 612 613 614 615 617 618 620 621\n",
      " 623 624 625 627 628 629 630 633 634 635 636 637 638 639 641 642 643 644\n",
      " 645 646 647 648 649 650 651 652 653 654 655 656 659 660 661 663 666 667\n",
      " 668 670 671 672 673 674 675 677 679 680 681 682 683 684 685 687 689 690\n",
      " 691 692 694 695 696 699 702 704 705 706 707 708 711 712 715 717 718 719\n",
      " 720 721 722 724 725 726 727 728 729 731 732 733 734 736 738 740 741 742\n",
      " 743 744 746 748 749 750 751 752 753 757 758 759 760 761 762 763 764 765\n",
      " 766 768 769 770 771 773 774 775 777 778 779 781 782 783 784 785 787 788\n",
      " 789 790 792 793 794 795 796 798 799 801 802 803 804 805 807 808 809 810\n",
      " 811 812 813 814 815 816 817 818 820 821 822 823 824 825 826 827 828 829\n",
      " 830 832 833 835 837 838 839 840 841 843 844 846 847 848 849 850 854 855\n",
      " 856 858 859 860 861 862 863 864 865 866 867 869 870]\n",
      "[  8  13  17  21  29  32  33  34  37  43  46  55  56  58  66  70  72  74\n",
      "  86  88  99 100 103 106 109 113 119 126 135 144 151 158 159 160 163 172\n",
      " 175 181 187 200 207 211 230 231 236 243 244 257 258 262 263 264 280 284\n",
      " 287 288 297 306 310 319 327 328 329 333 335 337 339 341 345 351 368 370\n",
      " 371 379 386 411 412 416 425 434 436 439 441 444 445 455 456 457 460 461\n",
      " 467 496 497 498 499 502 507 508 509 510 514 516 527 539 551 555 562 566\n",
      " 576 577 586 589 599 605 606 607 616 619 622 626 631 632 640 657 658 662\n",
      " 664 665 669 676 678 686 688 693 697 698 700 701 703 709 710 713 714 716\n",
      " 723 730 735 737 739 745 747 754 755 756 767 772 776 780 786 791 797 800\n",
      " 806 819 831 834 836 842 845 851 852 853 857 868]\n",
      "[  1   2   3   4   5   8   9  10  11  13  14  15  16  17  20  21  23  24\n",
      "  26  27  29  32  33  34  35  36  37  39  40  41  42  43  44  45  46  47\n",
      "  48  49  52  53  54  55  56  57  58  59  61  62  63  65  66  67  69  70\n",
      "  72  73  74  75  79  80  82  83  84  85  86  87  88  89  90  91  92  93\n",
      "  94  95  96  97  99 100 101 103 104 105 106 107 108 109 111 113 114 115\n",
      " 116 117 118 119 120 121 122 123 124 126 127 130 131 132 133 134 135 136\n",
      " 138 139 140 141 144 145 146 147 148 149 151 152 153 154 155 156 158 159\n",
      " 160 162 163 164 165 166 168 169 170 171 172 173 175 177 178 180 181 182\n",
      " 183 184 185 186 187 189 190 191 192 193 195 196 197 199 200 201 202 203\n",
      " 204 206 207 208 210 211 214 216 217 218 219 222 223 224 228 229 230 231\n",
      " 232 233 234 235 236 237 238 239 241 242 243 244 245 246 248 251 254 256\n",
      " 257 258 259 260 261 262 263 264 265 266 269 270 271 272 273 274 275 276\n",
      " 278 280 282 283 284 285 286 287 288 289 290 291 292 293 294 295 296 297\n",
      " 298 299 300 301 302 303 304 306 307 310 311 312 313 314 316 317 319 320\n",
      " 322 323 324 325 326 327 328 329 330 331 333 334 335 337 339 340 341 343\n",
      " 344 345 346 347 349 350 351 352 353 354 356 357 359 360 362 363 364 365\n",
      " 366 368 370 371 372 374 375 376 378 379 380 381 382 384 385 386 387 388\n",
      " 390 392 393 394 395 396 397 398 399 400 401 402 404 405 406 407 408 410\n",
      " 411 412 414 416 417 418 420 421 423 424 425 426 427 428 429 430 431 432\n",
      " 434 435 436 439 440 441 442 444 445 446 448 450 451 452 453 454 455 456\n",
      " 457 458 459 460 461 462 463 464 465 466 467 468 472 473 474 475 476 477\n",
      " 478 479 480 481 482 483 484 485 486 487 489 490 491 493 494 496 497 498\n",
      " 499 501 502 503 506 507 508 509 510 511 512 513 514 515 516 518 519 520\n",
      " 521 522 524 525 526 527 528 530 531 532 534 535 536 537 538 539 540 541\n",
      " 542 543 544 545 546 548 549 550 551 553 554 555 557 558 559 561 562 563\n",
      " 564 565 566 568 569 571 572 573 575 576 577 578 579 583 584 585 586 587\n",
      " 588 589 590 591 592 593 594 595 596 598 599 602 603 604 605 606 607 608\n",
      " 609 610 611 612 613 614 616 617 618 619 620 622 623 626 627 629 630 631\n",
      " 632 633 635 636 637 638 639 640 641 642 644 645 646 648 649 651 652 653\n",
      " 655 657 658 660 661 662 664 665 666 667 668 669 670 672 673 675 676 677\n",
      " 678 679 681 682 683 685 686 687 688 689 690 691 692 693 694 695 696 697\n",
      " 698 700 701 703 704 705 706 707 709 710 711 712 713 714 715 716 717 718\n",
      " 719 720 721 722 723 724 725 726 727 728 729 730 731 732 735 736 737 738\n",
      " 739 742 743 744 745 746 747 750 751 753 754 755 756 759 762 763 765 766\n",
      " 767 769 770 771 772 773 774 775 776 777 778 779 780 781 782 783 784 786\n",
      " 787 788 790 791 792 793 794 795 797 798 799 800 801 802 803 805 806 809\n",
      " 810 812 813 815 816 817 818 819 820 822 823 824 825 826 827 828 830 831\n",
      " 832 834 835 836 837 838 839 840 841 842 844 845 847 848 849 850 851 852\n",
      " 853 854 855 856 857 858 860 862 863 865 866 868 869]\n",
      "[  0   6   7  12  18  19  22  25  28  30  31  38  50  51  60  64  68  71\n",
      "  76  77  78  81  98 102 110 112 125 128 129 137 142 143 150 157 161 167\n",
      " 174 176 179 188 194 198 205 209 212 213 215 220 221 225 226 227 240 247\n",
      " 249 250 252 253 255 267 268 277 279 281 305 308 309 315 318 321 332 336\n",
      " 338 342 348 355 358 361 367 369 373 377 383 389 391 403 409 413 415 419\n",
      " 422 433 437 438 443 447 449 469 470 471 488 492 495 500 504 505 517 523\n",
      " 529 533 547 552 556 560 567 570 574 580 581 582 597 600 601 615 621 624\n",
      " 625 628 634 643 647 650 654 656 659 663 671 674 680 684 699 702 708 733\n",
      " 734 740 741 748 749 752 757 758 760 761 764 768 785 789 796 804 807 808\n",
      " 811 814 821 829 833 843 846 859 861 864 867 870]\n",
      "[  0   1   2   3   4   6   7   8  10  11  12  13  14  15  17  18  19  20\n",
      "  21  22  25  27  28  29  30  31  32  33  34  35  36  37  38  39  41  42\n",
      "  43  44  45  46  47  48  49  50  51  52  53  55  56  57  58  59  60  61\n",
      "  62  63  64  65  66  67  68  69  70  71  72  74  76  77  78  79  81  83\n",
      "  84  86  87  88  89  92  93  94  96  97  98  99 100 101 102 103 106 107\n",
      " 108 109 110 111 112 113 114 115 116 117 118 119 121 122 123 125 126 127\n",
      " 128 129 130 131 132 133 135 136 137 140 141 142 143 144 145 146 147 148\n",
      " 149 150 151 152 154 157 158 159 160 161 162 163 164 167 168 170 171 172\n",
      " 174 175 176 177 179 180 181 182 183 184 185 186 187 188 192 193 194 195\n",
      " 196 197 198 199 200 202 203 204 205 206 207 209 210 211 212 213 215 217\n",
      " 218 219 220 221 222 223 225 226 227 230 231 232 234 236 237 238 240 241\n",
      " 242 243 244 247 248 249 250 252 253 254 255 256 257 258 259 260 262 263\n",
      " 264 265 266 267 268 270 271 274 275 277 278 279 280 281 282 283 284 286\n",
      " 287 288 292 293 294 295 297 300 301 302 303 305 306 307 308 309 310 311\n",
      " 312 315 316 317 318 319 320 321 322 323 326 327 328 329 331 332 333 334\n",
      " 335 336 337 338 339 340 341 342 345 346 347 348 349 351 352 353 354 355\n",
      " 356 357 358 359 360 361 363 364 365 366 367 368 369 370 371 372 373 374\n",
      " 375 376 377 378 379 381 382 383 384 385 386 387 389 390 391 392 393 394\n",
      " 395 396 397 399 401 403 405 406 407 408 409 410 411 412 413 414 415 416\n",
      " 417 418 419 422 425 426 429 430 432 433 434 435 436 437 438 439 440 441\n",
      " 442 443 444 445 446 447 448 449 450 451 453 454 455 456 457 458 460 461\n",
      " 462 464 465 466 467 468 469 470 471 475 476 478 481 482 483 488 489 490\n",
      " 491 492 493 495 496 497 498 499 500 501 502 503 504 505 506 507 508 509\n",
      " 510 511 513 514 516 517 522 523 525 527 528 529 531 532 533 534 535 537\n",
      " 539 541 542 543 544 546 547 550 551 552 553 555 556 557 558 559 560 561\n",
      " 562 564 566 567 568 569 570 571 572 574 575 576 577 579 580 581 582 583\n",
      " 584 585 586 587 588 589 591 592 594 595 596 597 598 599 600 601 602 604\n",
      " 605 606 607 609 610 611 612 614 615 616 619 621 622 623 624 625 626 627\n",
      " 628 629 631 632 633 634 636 637 638 639 640 642 643 645 646 647 648 649\n",
      " 650 651 654 655 656 657 658 659 660 661 662 663 664 665 669 670 671 673\n",
      " 674 676 677 678 679 680 681 683 684 686 688 689 690 691 692 693 694 695\n",
      " 696 697 698 699 700 701 702 703 704 705 707 708 709 710 711 712 713 714\n",
      " 716 718 721 722 723 724 726 727 728 729 730 732 733 734 735 736 737 738\n",
      " 739 740 741 742 744 745 747 748 749 750 752 753 754 755 756 757 758 760\n",
      " 761 762 764 765 766 767 768 769 771 772 774 776 777 778 779 780 783 784\n",
      " 785 786 787 788 789 791 793 794 795 796 797 798 800 801 802 804 805 806\n",
      " 807 808 811 812 813 814 815 817 818 819 820 821 822 823 824 825 828 829\n",
      " 831 832 833 834 835 836 839 840 842 843 845 846 847 848 850 851 852 853\n",
      " 854 856 857 859 861 862 863 864 866 867 868 869 870]\n",
      "[  5   9  16  23  24  26  40  54  73  75  80  82  85  90  91  95 104 105\n",
      " 120 124 134 138 139 153 155 156 165 166 169 173 178 189 190 191 201 208\n",
      " 214 216 224 228 229 233 235 239 245 246 251 261 269 272 273 276 285 289\n",
      " 290 291 296 298 299 304 313 314 324 325 330 343 344 350 362 380 388 398\n",
      " 400 402 404 420 421 423 424 427 428 431 452 459 463 472 473 474 477 479\n",
      " 480 484 485 486 487 494 512 515 518 519 520 521 524 526 530 536 538 540\n",
      " 545 548 549 554 563 565 573 578 590 593 603 608 613 617 618 620 630 635\n",
      " 641 644 652 653 666 667 668 672 675 682 685 687 706 715 717 719 720 725\n",
      " 731 743 746 751 759 763 770 773 775 781 782 790 792 799 803 809 810 816\n",
      " 826 827 830 837 838 841 844 849 855 858 860 865]\n",
      "[  0   2   3   4   5   6   7   8   9  10  12  13  14  16  17  18  19  20\n",
      "  21  22  23  24  25  26  27  28  29  30  31  32  33  34  35  36  37  38\n",
      "  40  42  43  45  46  49  50  51  53  54  55  56  57  58  60  61  63  64\n",
      "  66  67  68  69  70  71  72  73  74  75  76  77  78  79  80  81  82  83\n",
      "  84  85  86  87  88  90  91  95  96  97  98  99 100 102 103 104 105 106\n",
      " 109 110 111 112 113 114 116 119 120 122 123 124 125 126 128 129 130 131\n",
      " 132 133 134 135 136 137 138 139 141 142 143 144 145 146 147 148 150 151\n",
      " 152 153 154 155 156 157 158 159 160 161 162 163 164 165 166 167 169 170\n",
      " 171 172 173 174 175 176 178 179 181 183 184 187 188 189 190 191 192 194\n",
      " 197 198 200 201 202 204 205 207 208 209 210 211 212 213 214 215 216 217\n",
      " 218 220 221 222 223 224 225 226 227 228 229 230 231 232 233 234 235 236\n",
      " 239 240 241 243 244 245 246 247 249 250 251 252 253 255 257 258 261 262\n",
      " 263 264 266 267 268 269 270 271 272 273 275 276 277 278 279 280 281 282\n",
      " 283 284 285 286 287 288 289 290 291 292 294 296 297 298 299 302 303 304\n",
      " 305 306 307 308 309 310 313 314 315 316 318 319 321 323 324 325 326 327\n",
      " 328 329 330 332 333 335 336 337 338 339 341 342 343 344 345 346 348 349\n",
      " 350 351 352 353 355 357 358 360 361 362 363 364 367 368 369 370 371 372\n",
      " 373 377 379 380 381 383 385 386 388 389 390 391 394 397 398 399 400 402\n",
      " 403 404 405 407 408 409 410 411 412 413 415 416 417 419 420 421 422 423\n",
      " 424 425 426 427 428 430 431 433 434 435 436 437 438 439 441 443 444 445\n",
      " 446 447 449 450 451 452 453 455 456 457 459 460 461 462 463 465 467 469\n",
      " 470 471 472 473 474 475 476 477 478 479 480 481 484 485 486 487 488 489\n",
      " 490 492 494 495 496 497 498 499 500 502 504 505 507 508 509 510 511 512\n",
      " 513 514 515 516 517 518 519 520 521 522 523 524 525 526 527 528 529 530\n",
      " 533 535 536 537 538 539 540 541 543 544 545 546 547 548 549 551 552 553\n",
      " 554 555 556 557 558 559 560 562 563 565 566 567 568 570 572 573 574 576\n",
      " 577 578 579 580 581 582 584 585 586 589 590 592 593 596 597 599 600 601\n",
      " 603 605 606 607 608 612 613 615 616 617 618 619 620 621 622 624 625 626\n",
      " 628 629 630 631 632 633 634 635 636 640 641 642 643 644 645 646 647 648\n",
      " 650 651 652 653 654 655 656 657 658 659 661 662 663 664 665 666 667 668\n",
      " 669 670 671 672 674 675 676 678 680 681 682 683 684 685 686 687 688 690\n",
      " 691 692 693 695 696 697 698 699 700 701 702 703 706 708 709 710 713 714\n",
      " 715 716 717 718 719 720 722 723 725 727 728 730 731 732 733 734 735 737\n",
      " 739 740 741 742 743 745 746 747 748 749 751 752 753 754 755 756 757 758\n",
      " 759 760 761 762 763 764 765 766 767 768 770 772 773 775 776 779 780 781\n",
      " 782 785 786 789 790 791 792 793 795 796 797 798 799 800 803 804 806 807\n",
      " 808 809 810 811 814 816 819 820 821 824 825 826 827 828 829 830 831 832\n",
      " 833 834 836 837 838 839 840 841 842 843 844 845 846 849 851 852 853 854\n",
      " 855 857 858 859 860 861 862 864 865 867 868 869 870]\n",
      "[  1  11  15  39  41  44  47  48  52  59  62  65  89  92  93  94 101 107\n",
      " 108 115 117 118 121 127 140 149 168 177 180 182 185 186 193 195 196 199\n",
      " 203 206 219 237 238 242 248 254 256 259 260 265 274 293 295 300 301 311\n",
      " 312 317 320 322 331 334 340 347 354 356 359 365 366 374 375 376 378 382\n",
      " 384 387 392 393 395 396 401 406 414 418 429 432 440 442 448 454 458 464\n",
      " 466 468 482 483 491 493 501 503 506 531 532 534 542 550 561 564 569 571\n",
      " 575 583 587 588 591 594 595 598 602 604 609 610 611 614 623 627 637 638\n",
      " 639 649 660 673 677 679 689 694 704 705 707 711 712 721 724 726 729 736\n",
      " 738 744 750 769 771 774 777 778 783 784 787 788 794 801 802 805 812 813\n",
      " 815 817 818 822 823 835 847 848 850 856 863 866]\n"
     ]
    }
   ],
   "source": [
    "for train_index, test_index in skf.split(features, label):\n",
    "    print(train_index)\n",
    "    print(test_index)"
   ]
  },
  {
   "cell_type": "code",
   "execution_count": 12,
   "metadata": {
    "collapsed": true,
    "jupyter": {
     "outputs_hidden": true
    }
   },
   "outputs": [
    {
     "name": "stdout",
     "output_type": "stream",
     "text": [
      "Fitting estimator with 6105 features.\n",
      "Fitting estimator with 6005 features.\n",
      "Fitting estimator with 5905 features.\n",
      "Fitting estimator with 5805 features.\n",
      "Fitting estimator with 5705 features.\n",
      "Fitting estimator with 5605 features.\n",
      "Fitting estimator with 5505 features.\n",
      "Fitting estimator with 5405 features.\n",
      "Fitting estimator with 5305 features.\n",
      "Fitting estimator with 5205 features.\n",
      "Fitting estimator with 5105 features.\n",
      "Fitting estimator with 5005 features.\n",
      "Fitting estimator with 4905 features.\n",
      "Fitting estimator with 4805 features.\n",
      "Fitting estimator with 4705 features.\n",
      "Fitting estimator with 4605 features.\n",
      "Fitting estimator with 4505 features.\n",
      "Fitting estimator with 4405 features.\n",
      "Fitting estimator with 4305 features.\n",
      "Fitting estimator with 4205 features.\n",
      "Fitting estimator with 4105 features.\n",
      "Fitting estimator with 4005 features.\n",
      "Fitting estimator with 3905 features.\n",
      "Fitting estimator with 3805 features.\n",
      "Fitting estimator with 3705 features.\n",
      "Fitting estimator with 3605 features.\n",
      "Fitting estimator with 3505 features.\n",
      "Fitting estimator with 3405 features.\n",
      "Fitting estimator with 3305 features.\n",
      "Fitting estimator with 3205 features.\n",
      "Fitting estimator with 3105 features.\n",
      "Fitting estimator with 3005 features.\n",
      "Fitting estimator with 2905 features.\n",
      "Fitting estimator with 2805 features.\n",
      "Fitting estimator with 2705 features.\n",
      "Fitting estimator with 2605 features.\n",
      "Fitting estimator with 2505 features.\n",
      "Fitting estimator with 2405 features.\n",
      "Fitting estimator with 2305 features.\n",
      "Fitting estimator with 2205 features.\n",
      "Fitting estimator with 2105 features.\n",
      "Fitting estimator with 2005 features.\n",
      "Fitting estimator with 1905 features.\n",
      "Fitting estimator with 1805 features.\n",
      "Fitting estimator with 1705 features.\n",
      "Fitting estimator with 1605 features.\n",
      "Fitting estimator with 1505 features.\n",
      "Fitting estimator with 1405 features.\n",
      "Fitting estimator with 1305 features.\n",
      "Fitting estimator with 1205 features.\n",
      "Fitting estimator with 1105 features.\n",
      "Fitting estimator with 1005 features.\n",
      "Fitting estimator with 905 features.\n",
      "Fitting estimator with 805 features.\n",
      "Fitting estimator with 705 features.\n",
      "Fitting estimator with 605 features.\n",
      "Fitting estimator with 505 features.\n",
      "Fitting estimator with 405 features.\n",
      "Fitting estimator with 305 features.\n",
      "Number of labeled samples 697\n",
      "Number of features selected 256\n"
     ]
    }
   ],
   "source": [
    "feat_256_1 = feature_selection(features, label, train_index, 256)"
   ]
  },
  {
   "cell_type": "code",
   "execution_count": 13,
   "metadata": {},
   "outputs": [],
   "source": [
    "feat_256_1_pd = pd.DataFrame(feat_256_1)\n",
    "feat_256_1_pd['label'] = label\n",
    "feat_256_1_pd.to_csv(\"processed_standard_data_256_1.csv\", index = False)"
   ]
  },
  {
   "cell_type": "code",
   "execution_count": null,
   "metadata": {},
   "outputs": [],
   "source": []
  },
  {
   "cell_type": "code",
   "execution_count": 7,
   "metadata": {},
   "outputs": [],
   "source": [
    "feat_dict = {}\n",
    "for i in range(1):\n",
    "    feat_dict[i] = list(range(i*256,(i+1)*256))"
   ]
  },
  {
   "cell_type": "code",
   "execution_count": 9,
   "metadata": {},
   "outputs": [],
   "source": [
    "np.save('modal_feat_dict.npy',feat_dict)"
   ]
  },
  {
   "cell_type": "code",
   "execution_count": null,
   "metadata": {},
   "outputs": [],
   "source": []
  },
  {
   "cell_type": "code",
   "execution_count": 45,
   "metadata": {},
   "outputs": [
    {
     "data": {
      "text/html": [
       "<div>\n",
       "<style scoped>\n",
       "    .dataframe tbody tr th:only-of-type {\n",
       "        vertical-align: middle;\n",
       "    }\n",
       "\n",
       "    .dataframe tbody tr th {\n",
       "        vertical-align: top;\n",
       "    }\n",
       "\n",
       "    .dataframe thead th {\n",
       "        text-align: right;\n",
       "    }\n",
       "</style>\n",
       "<table border=\"1\" class=\"dataframe\">\n",
       "  <thead>\n",
       "    <tr style=\"text-align: right;\">\n",
       "      <th></th>\n",
       "      <th>ST35TA_UCSFFSX_11_02_15_UCSFFSX51_08_01_16</th>\n",
       "      <th>ST54TS_UCSFFSX_11_02_15_UCSFFSX51_08_01_16</th>\n",
       "      <th>ST102TS_UCSFFSX_11_02_15_UCSFFSX51_08_01_16</th>\n",
       "      <th>ST104SA_UCSFFSX_11_02_15_UCSFFSX51_08_01_16</th>\n",
       "      <th>ST110TS_UCSFFSX_11_02_15_UCSFFSX51_08_01_16</th>\n",
       "      <th>ST121TS_UCSFFSX_11_02_15_UCSFFSX51_08_01_16</th>\n",
       "      <th>ST32TS_UCSFFSX_11_02_15_UCSFFSX51_08_01_16</th>\n",
       "      <th>ST23TA_UCSFFSX_11_02_15_UCSFFSX51_08_01_16</th>\n",
       "      <th>ST51TS_UCSFFSX_11_02_15_UCSFFSX51_08_01_16</th>\n",
       "      <th>ST93SA_UCSFFSX_11_02_15_UCSFFSX51_08_01_16</th>\n",
       "      <th>...</th>\n",
       "      <th>Ventricles</th>\n",
       "      <th>Hippocampus</th>\n",
       "      <th>WholeBrain</th>\n",
       "      <th>Fusiform</th>\n",
       "      <th>MidTemp</th>\n",
       "      <th>AV45</th>\n",
       "      <th>Entorhinal</th>\n",
       "      <th>FDG</th>\n",
       "      <th>ICV</th>\n",
       "      <th>LABEL</th>\n",
       "    </tr>\n",
       "  </thead>\n",
       "  <tbody>\n",
       "    <tr>\n",
       "      <th>0</th>\n",
       "      <td>-0.045240</td>\n",
       "      <td>-1.295892</td>\n",
       "      <td>0.421234</td>\n",
       "      <td>-0.483017</td>\n",
       "      <td>0.025997</td>\n",
       "      <td>1.238236</td>\n",
       "      <td>-0.154253</td>\n",
       "      <td>-0.336338</td>\n",
       "      <td>0.849826</td>\n",
       "      <td>0.066977</td>\n",
       "      <td>...</td>\n",
       "      <td>-0.288704</td>\n",
       "      <td>0.430460</td>\n",
       "      <td>0.344339</td>\n",
       "      <td>0.402085</td>\n",
       "      <td>1.370027</td>\n",
       "      <td>-0.846159</td>\n",
       "      <td>0.830700</td>\n",
       "      <td>-0.140256</td>\n",
       "      <td>0.521384</td>\n",
       "      <td>1.0</td>\n",
       "    </tr>\n",
       "    <tr>\n",
       "      <th>1</th>\n",
       "      <td>-2.173109</td>\n",
       "      <td>-0.501574</td>\n",
       "      <td>-2.189485</td>\n",
       "      <td>-1.593304</td>\n",
       "      <td>0.044500</td>\n",
       "      <td>1.867784</td>\n",
       "      <td>1.934774</td>\n",
       "      <td>-0.771766</td>\n",
       "      <td>0.995551</td>\n",
       "      <td>-1.845264</td>\n",
       "      <td>...</td>\n",
       "      <td>1.026730</td>\n",
       "      <td>-1.190349</td>\n",
       "      <td>-1.528273</td>\n",
       "      <td>-1.728756</td>\n",
       "      <td>-1.095830</td>\n",
       "      <td>-1.216057</td>\n",
       "      <td>0.481848</td>\n",
       "      <td>1.286633</td>\n",
       "      <td>0.284877</td>\n",
       "      <td>1.0</td>\n",
       "    </tr>\n",
       "    <tr>\n",
       "      <th>2</th>\n",
       "      <td>-1.348017</td>\n",
       "      <td>-0.474184</td>\n",
       "      <td>-1.356618</td>\n",
       "      <td>0.168981</td>\n",
       "      <td>-0.251556</td>\n",
       "      <td>-1.504799</td>\n",
       "      <td>1.154694</td>\n",
       "      <td>-2.206534</td>\n",
       "      <td>-0.079174</td>\n",
       "      <td>-0.997639</td>\n",
       "      <td>...</td>\n",
       "      <td>-0.980602</td>\n",
       "      <td>1.189516</td>\n",
       "      <td>0.134473</td>\n",
       "      <td>-0.085066</td>\n",
       "      <td>-0.783282</td>\n",
       "      <td>-0.829864</td>\n",
       "      <td>0.966364</td>\n",
       "      <td>0.179889</td>\n",
       "      <td>0.020099</td>\n",
       "      <td>1.0</td>\n",
       "    </tr>\n",
       "    <tr>\n",
       "      <th>3</th>\n",
       "      <td>-1.279776</td>\n",
       "      <td>-0.426251</td>\n",
       "      <td>-0.796034</td>\n",
       "      <td>-1.215334</td>\n",
       "      <td>1.839342</td>\n",
       "      <td>1.478064</td>\n",
       "      <td>1.776114</td>\n",
       "      <td>-0.343477</td>\n",
       "      <td>2.015630</td>\n",
       "      <td>-1.906293</td>\n",
       "      <td>...</td>\n",
       "      <td>0.154781</td>\n",
       "      <td>-0.082127</td>\n",
       "      <td>-0.870265</td>\n",
       "      <td>-1.890088</td>\n",
       "      <td>-0.850180</td>\n",
       "      <td>-0.810352</td>\n",
       "      <td>0.094236</td>\n",
       "      <td>1.307737</td>\n",
       "      <td>-0.202742</td>\n",
       "      <td>1.0</td>\n",
       "    </tr>\n",
       "    <tr>\n",
       "      <th>4</th>\n",
       "      <td>-0.771073</td>\n",
       "      <td>-0.220824</td>\n",
       "      <td>0.469284</td>\n",
       "      <td>-1.512985</td>\n",
       "      <td>1.099201</td>\n",
       "      <td>-0.155766</td>\n",
       "      <td>-1.264875</td>\n",
       "      <td>-0.600450</td>\n",
       "      <td>0.503728</td>\n",
       "      <td>-1.540119</td>\n",
       "      <td>...</td>\n",
       "      <td>-0.878263</td>\n",
       "      <td>0.414386</td>\n",
       "      <td>0.195506</td>\n",
       "      <td>-0.709487</td>\n",
       "      <td>0.082070</td>\n",
       "      <td>-0.652844</td>\n",
       "      <td>0.214672</td>\n",
       "      <td>-1.109824</td>\n",
       "      <td>-0.619403</td>\n",
       "      <td>1.0</td>\n",
       "    </tr>\n",
       "    <tr>\n",
       "      <th>...</th>\n",
       "      <td>...</td>\n",
       "      <td>...</td>\n",
       "      <td>...</td>\n",
       "      <td>...</td>\n",
       "      <td>...</td>\n",
       "      <td>...</td>\n",
       "      <td>...</td>\n",
       "      <td>...</td>\n",
       "      <td>...</td>\n",
       "      <td>...</td>\n",
       "      <td>...</td>\n",
       "      <td>...</td>\n",
       "      <td>...</td>\n",
       "      <td>...</td>\n",
       "      <td>...</td>\n",
       "      <td>...</td>\n",
       "      <td>...</td>\n",
       "      <td>...</td>\n",
       "      <td>...</td>\n",
       "      <td>...</td>\n",
       "      <td>...</td>\n",
       "    </tr>\n",
       "    <tr>\n",
       "      <th>680</th>\n",
       "      <td>-0.343017</td>\n",
       "      <td>-0.248214</td>\n",
       "      <td>0.677501</td>\n",
       "      <td>1.510775</td>\n",
       "      <td>1.857846</td>\n",
       "      <td>-0.200733</td>\n",
       "      <td>-0.339357</td>\n",
       "      <td>1.169811</td>\n",
       "      <td>1.997414</td>\n",
       "      <td>0.467056</td>\n",
       "      <td>...</td>\n",
       "      <td>1.985485</td>\n",
       "      <td>0.376879</td>\n",
       "      <td>2.039405</td>\n",
       "      <td>0.324377</td>\n",
       "      <td>-0.117904</td>\n",
       "      <td>0.962720</td>\n",
       "      <td>-0.179862</td>\n",
       "      <td>-1.746598</td>\n",
       "      <td>1.812988</td>\n",
       "      <td>3.0</td>\n",
       "    </tr>\n",
       "    <tr>\n",
       "      <th>681</th>\n",
       "      <td>0.072630</td>\n",
       "      <td>1.347269</td>\n",
       "      <td>2.359253</td>\n",
       "      <td>-0.317655</td>\n",
       "      <td>1.709818</td>\n",
       "      <td>0.593697</td>\n",
       "      <td>0.586162</td>\n",
       "      <td>-0.057951</td>\n",
       "      <td>2.052061</td>\n",
       "      <td>-0.394130</td>\n",
       "      <td>...</td>\n",
       "      <td>-0.512797</td>\n",
       "      <td>-0.235724</td>\n",
       "      <td>-0.523839</td>\n",
       "      <td>-0.349350</td>\n",
       "      <td>-0.873918</td>\n",
       "      <td>-1.448125</td>\n",
       "      <td>-0.069116</td>\n",
       "      <td>-0.108871</td>\n",
       "      <td>-0.211957</td>\n",
       "      <td>3.0</td>\n",
       "    </tr>\n",
       "    <tr>\n",
       "      <th>682</th>\n",
       "      <td>-0.752462</td>\n",
       "      <td>2.196368</td>\n",
       "      <td>-0.395617</td>\n",
       "      <td>-0.936581</td>\n",
       "      <td>-0.677137</td>\n",
       "      <td>0.878493</td>\n",
       "      <td>0.136624</td>\n",
       "      <td>0.720108</td>\n",
       "      <td>-0.224900</td>\n",
       "      <td>0.589114</td>\n",
       "      <td>...</td>\n",
       "      <td>1.356993</td>\n",
       "      <td>-1.487721</td>\n",
       "      <td>-0.477471</td>\n",
       "      <td>-1.019528</td>\n",
       "      <td>-1.486066</td>\n",
       "      <td>-0.387314</td>\n",
       "      <td>-2.602442</td>\n",
       "      <td>-1.642633</td>\n",
       "      <td>0.503644</td>\n",
       "      <td>3.0</td>\n",
       "    </tr>\n",
       "    <tr>\n",
       "      <th>683</th>\n",
       "      <td>0.159482</td>\n",
       "      <td>-0.029092</td>\n",
       "      <td>1.670535</td>\n",
       "      <td>0.556401</td>\n",
       "      <td>2.209413</td>\n",
       "      <td>0.833526</td>\n",
       "      <td>1.115029</td>\n",
       "      <td>0.348924</td>\n",
       "      <td>2.070277</td>\n",
       "      <td>0.656924</td>\n",
       "      <td>...</td>\n",
       "      <td>0.828848</td>\n",
       "      <td>-1.489507</td>\n",
       "      <td>-0.298548</td>\n",
       "      <td>-1.107886</td>\n",
       "      <td>-0.158186</td>\n",
       "      <td>1.029188</td>\n",
       "      <td>-1.403611</td>\n",
       "      <td>-0.941263</td>\n",
       "      <td>-0.161559</td>\n",
       "      <td>3.0</td>\n",
       "    </tr>\n",
       "    <tr>\n",
       "      <th>684</th>\n",
       "      <td>-4.071441</td>\n",
       "      <td>-1.720442</td>\n",
       "      <td>1.093935</td>\n",
       "      <td>0.957994</td>\n",
       "      <td>1.154712</td>\n",
       "      <td>-0.905229</td>\n",
       "      <td>0.731600</td>\n",
       "      <td>-2.998868</td>\n",
       "      <td>0.813394</td>\n",
       "      <td>-0.658589</td>\n",
       "      <td>...</td>\n",
       "      <td>0.455564</td>\n",
       "      <td>-1.494865</td>\n",
       "      <td>-0.743235</td>\n",
       "      <td>-2.198157</td>\n",
       "      <td>-1.707619</td>\n",
       "      <td>2.038047</td>\n",
       "      <td>-1.457600</td>\n",
       "      <td>-2.497739</td>\n",
       "      <td>0.115128</td>\n",
       "      <td>3.0</td>\n",
       "    </tr>\n",
       "  </tbody>\n",
       "</table>\n",
       "<p>685 rows × 366 columns</p>\n",
       "</div>"
      ],
      "text/plain": [
       "     ST35TA_UCSFFSX_11_02_15_UCSFFSX51_08_01_16  \\\n",
       "0                                     -0.045240   \n",
       "1                                     -2.173109   \n",
       "2                                     -1.348017   \n",
       "3                                     -1.279776   \n",
       "4                                     -0.771073   \n",
       "..                                          ...   \n",
       "680                                   -0.343017   \n",
       "681                                    0.072630   \n",
       "682                                   -0.752462   \n",
       "683                                    0.159482   \n",
       "684                                   -4.071441   \n",
       "\n",
       "     ST54TS_UCSFFSX_11_02_15_UCSFFSX51_08_01_16  \\\n",
       "0                                     -1.295892   \n",
       "1                                     -0.501574   \n",
       "2                                     -0.474184   \n",
       "3                                     -0.426251   \n",
       "4                                     -0.220824   \n",
       "..                                          ...   \n",
       "680                                   -0.248214   \n",
       "681                                    1.347269   \n",
       "682                                    2.196368   \n",
       "683                                   -0.029092   \n",
       "684                                   -1.720442   \n",
       "\n",
       "     ST102TS_UCSFFSX_11_02_15_UCSFFSX51_08_01_16  \\\n",
       "0                                       0.421234   \n",
       "1                                      -2.189485   \n",
       "2                                      -1.356618   \n",
       "3                                      -0.796034   \n",
       "4                                       0.469284   \n",
       "..                                           ...   \n",
       "680                                     0.677501   \n",
       "681                                     2.359253   \n",
       "682                                    -0.395617   \n",
       "683                                     1.670535   \n",
       "684                                     1.093935   \n",
       "\n",
       "     ST104SA_UCSFFSX_11_02_15_UCSFFSX51_08_01_16  \\\n",
       "0                                      -0.483017   \n",
       "1                                      -1.593304   \n",
       "2                                       0.168981   \n",
       "3                                      -1.215334   \n",
       "4                                      -1.512985   \n",
       "..                                           ...   \n",
       "680                                     1.510775   \n",
       "681                                    -0.317655   \n",
       "682                                    -0.936581   \n",
       "683                                     0.556401   \n",
       "684                                     0.957994   \n",
       "\n",
       "     ST110TS_UCSFFSX_11_02_15_UCSFFSX51_08_01_16  \\\n",
       "0                                       0.025997   \n",
       "1                                       0.044500   \n",
       "2                                      -0.251556   \n",
       "3                                       1.839342   \n",
       "4                                       1.099201   \n",
       "..                                           ...   \n",
       "680                                     1.857846   \n",
       "681                                     1.709818   \n",
       "682                                    -0.677137   \n",
       "683                                     2.209413   \n",
       "684                                     1.154712   \n",
       "\n",
       "     ST121TS_UCSFFSX_11_02_15_UCSFFSX51_08_01_16  \\\n",
       "0                                       1.238236   \n",
       "1                                       1.867784   \n",
       "2                                      -1.504799   \n",
       "3                                       1.478064   \n",
       "4                                      -0.155766   \n",
       "..                                           ...   \n",
       "680                                    -0.200733   \n",
       "681                                     0.593697   \n",
       "682                                     0.878493   \n",
       "683                                     0.833526   \n",
       "684                                    -0.905229   \n",
       "\n",
       "     ST32TS_UCSFFSX_11_02_15_UCSFFSX51_08_01_16  \\\n",
       "0                                     -0.154253   \n",
       "1                                      1.934774   \n",
       "2                                      1.154694   \n",
       "3                                      1.776114   \n",
       "4                                     -1.264875   \n",
       "..                                          ...   \n",
       "680                                   -0.339357   \n",
       "681                                    0.586162   \n",
       "682                                    0.136624   \n",
       "683                                    1.115029   \n",
       "684                                    0.731600   \n",
       "\n",
       "     ST23TA_UCSFFSX_11_02_15_UCSFFSX51_08_01_16  \\\n",
       "0                                     -0.336338   \n",
       "1                                     -0.771766   \n",
       "2                                     -2.206534   \n",
       "3                                     -0.343477   \n",
       "4                                     -0.600450   \n",
       "..                                          ...   \n",
       "680                                    1.169811   \n",
       "681                                   -0.057951   \n",
       "682                                    0.720108   \n",
       "683                                    0.348924   \n",
       "684                                   -2.998868   \n",
       "\n",
       "     ST51TS_UCSFFSX_11_02_15_UCSFFSX51_08_01_16  \\\n",
       "0                                      0.849826   \n",
       "1                                      0.995551   \n",
       "2                                     -0.079174   \n",
       "3                                      2.015630   \n",
       "4                                      0.503728   \n",
       "..                                          ...   \n",
       "680                                    1.997414   \n",
       "681                                    2.052061   \n",
       "682                                   -0.224900   \n",
       "683                                    2.070277   \n",
       "684                                    0.813394   \n",
       "\n",
       "     ST93SA_UCSFFSX_11_02_15_UCSFFSX51_08_01_16  ...  Ventricles  Hippocampus  \\\n",
       "0                                      0.066977  ...   -0.288704     0.430460   \n",
       "1                                     -1.845264  ...    1.026730    -1.190349   \n",
       "2                                     -0.997639  ...   -0.980602     1.189516   \n",
       "3                                     -1.906293  ...    0.154781    -0.082127   \n",
       "4                                     -1.540119  ...   -0.878263     0.414386   \n",
       "..                                          ...  ...         ...          ...   \n",
       "680                                    0.467056  ...    1.985485     0.376879   \n",
       "681                                   -0.394130  ...   -0.512797    -0.235724   \n",
       "682                                    0.589114  ...    1.356993    -1.487721   \n",
       "683                                    0.656924  ...    0.828848    -1.489507   \n",
       "684                                   -0.658589  ...    0.455564    -1.494865   \n",
       "\n",
       "     WholeBrain  Fusiform   MidTemp      AV45  Entorhinal       FDG       ICV  \\\n",
       "0      0.344339  0.402085  1.370027 -0.846159    0.830700 -0.140256  0.521384   \n",
       "1     -1.528273 -1.728756 -1.095830 -1.216057    0.481848  1.286633  0.284877   \n",
       "2      0.134473 -0.085066 -0.783282 -0.829864    0.966364  0.179889  0.020099   \n",
       "3     -0.870265 -1.890088 -0.850180 -0.810352    0.094236  1.307737 -0.202742   \n",
       "4      0.195506 -0.709487  0.082070 -0.652844    0.214672 -1.109824 -0.619403   \n",
       "..          ...       ...       ...       ...         ...       ...       ...   \n",
       "680    2.039405  0.324377 -0.117904  0.962720   -0.179862 -1.746598  1.812988   \n",
       "681   -0.523839 -0.349350 -0.873918 -1.448125   -0.069116 -0.108871 -0.211957   \n",
       "682   -0.477471 -1.019528 -1.486066 -0.387314   -2.602442 -1.642633  0.503644   \n",
       "683   -0.298548 -1.107886 -0.158186  1.029188   -1.403611 -0.941263 -0.161559   \n",
       "684   -0.743235 -2.198157 -1.707619  2.038047   -1.457600 -2.497739  0.115128   \n",
       "\n",
       "     LABEL  \n",
       "0      1.0  \n",
       "1      1.0  \n",
       "2      1.0  \n",
       "3      1.0  \n",
       "4      1.0  \n",
       "..     ...  \n",
       "680    3.0  \n",
       "681    3.0  \n",
       "682    3.0  \n",
       "683    3.0  \n",
       "684    3.0  \n",
       "\n",
       "[685 rows x 366 columns]"
      ]
     },
     "execution_count": 45,
     "metadata": {},
     "output_type": "execute_result"
    }
   ],
   "source": []
  },
  {
   "cell_type": "code",
   "execution_count": null,
   "metadata": {},
   "outputs": [],
   "source": []
  }
 ],
 "metadata": {
  "kernelspec": {
   "display_name": "Python 3",
   "language": "python",
   "name": "python3"
  },
  "language_info": {
   "codemirror_mode": {
    "name": "ipython",
    "version": 3
   },
   "file_extension": ".py",
   "mimetype": "text/x-python",
   "name": "python",
   "nbconvert_exporter": "python",
   "pygments_lexer": "ipython3",
   "version": "3.6.10"
  }
 },
 "nbformat": 4,
 "nbformat_minor": 4
}
